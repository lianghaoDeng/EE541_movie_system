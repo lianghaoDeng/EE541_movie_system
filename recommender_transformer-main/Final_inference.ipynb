{
 "cells": [
  {
   "cell_type": "code",
   "execution_count": 1,
   "id": "bda8cfe0",
   "metadata": {
    "metadata": {}
   },
   "outputs": [],
   "source": [
    "import random\n",
    "\n",
    "import numpy as np\n",
    "import pandas as pd\n",
    "import pytorch_lightning as pl\n",
    "import torch\n",
    "from pytorch_lightning.callbacks import ModelCheckpoint\n",
    "from pytorch_lightning.loggers import TensorBoardLogger\n",
    "from torch.utils.data import DataLoader\n",
    "\n",
    "from recommender.models import Recommender\n",
    "from recommender.data_processing import get_context, pad_list, map_column, MASK, PAD\n"
   ]
  },
  {
   "cell_type": "code",
   "execution_count": 2,
   "id": "f687dde3",
   "metadata": {
    "metadata": {}
   },
   "outputs": [],
   "source": [
    "data_csv_path = \"../data/ml-25m/ratings.csv\"\n",
    "movies_path = \"../data/ml-25m/movies.csv\"\n",
    "\n",
    "model_path = \"recommender_models/recommender_40epochs.ckpt\""
   ]
  },
  {
   "cell_type": "markdown",
   "id": "27209c4e",
   "metadata": {},
   "source": [
    "This will be for the default Bert4Rec model, we use the Movie Lens Dataset to train it with 40 epochs. Each epochs requires 20 mins with 16GB Vram in GPU"
   ]
  },
  {
   "cell_type": "code",
   "execution_count": 44,
   "id": "cac77364",
   "metadata": {
    "metadata": {}
   },
   "outputs": [],
   "source": [
    "data = pd.read_csv(data_csv_path)\n",
    "movies = pd.read_csv(movies_path)\n"
   ]
  },
  {
   "cell_type": "code",
   "execution_count": 45,
   "id": "bb1a33bd",
   "metadata": {
    "metadata": {}
   },
   "outputs": [],
   "source": [
    "data.sort_values(by=\"timestamp\", inplace=True)"
   ]
  },
  {
   "cell_type": "code",
   "execution_count": 46,
   "id": "0a65c910",
   "metadata": {
    "metadata": {}
   },
   "outputs": [],
   "source": [
    "data, mapping, inverse_mapping = map_column(data, col_name=\"movieId\")\n",
    "grp_by_train = data.groupby(by=\"userId\")"
   ]
  },
  {
   "cell_type": "code",
   "execution_count": 47,
   "id": "6923b93c",
   "metadata": {
    "metadata": {}
   },
   "outputs": [
    {
     "data": {
      "text/plain": [
       "[46905, 126716, 69895, 154829, 65154, 65695, 143793, 3025, 37186, 29427]"
      ]
     },
     "execution_count": 47,
     "metadata": {},
     "output_type": "execute_result"
    }
   ],
   "source": [
    "random.sample(list(grp_by_train.groups), k=10)"
   ]
  },
  {
   "cell_type": "code",
   "execution_count": 7,
   "id": "80c7cc4e",
   "metadata": {
    "metadata": {}
   },
   "outputs": [
    {
     "data": {
      "text/plain": [
       "<All keys matched successfully>"
      ]
     },
     "execution_count": 7,
     "metadata": {},
     "output_type": "execute_result"
    }
   ],
   "source": [
    "model = Recommender(\n",
    "        vocab_size=len(mapping) + 2,\n",
    "        lr=1e-4,\n",
    "        dropout=0.3,\n",
    "    )\n",
    "model.eval()\n",
    "model.load_state_dict(torch.load(model_path)[\"state_dict\"])"
   ]
  },
  {
   "cell_type": "code",
   "execution_count": 48,
   "id": "997385df",
   "metadata": {
    "metadata": {}
   },
   "outputs": [],
   "source": [
    "movie_to_idx = {a: mapping[b] for a, b in zip(movies.title.tolist(), movies.movieId.tolist()) if b in mapping}\n",
    "idx_to_movie = {v: k for k, v in movie_to_idx.items()}"
   ]
  },
  {
   "cell_type": "code",
   "execution_count": 49,
   "id": "5b083cd4",
   "metadata": {
    "metadata": {}
   },
   "outputs": [],
   "source": [
    "def predict(list_movies, model, movie_to_idx, idx_to_movie):\n",
    "    \n",
    "    ids = [PAD] * (120 - len(list_movies) - 1) + [movie_to_idx[a] for a in list_movies] + [MASK]\n",
    "    \n",
    "    src = torch.tensor(ids, dtype=torch.long).unsqueeze(0)\n",
    "    \n",
    "    with torch.no_grad():\n",
    "        prediction = model(src)\n",
    "    \n",
    "    masked_pred = prediction[0, -1].numpy()\n",
    "    \n",
    "    sorted_predicted_ids = np.argsort(masked_pred).tolist()[::-1]\n",
    "    \n",
    "    sorted_predicted_ids = [a for a in sorted_predicted_ids if a not in ids]\n",
    "    \n",
    "    return [idx_to_movie[a] for a in sorted_predicted_ids[:30] if a in idx_to_movie]\n"
   ]
  },
  {
   "cell_type": "markdown",
   "id": "1f0e44c1",
   "metadata": {},
   "source": [
    "### Senario 1: Adventure/Fantasy "
   ]
  },
  {
   "cell_type": "code",
   "execution_count": 10,
   "id": "5dae87be",
   "metadata": {
    "metadata": {}
   },
   "outputs": [
    {
     "data": {
      "text/plain": [
       "['Shrek 2 (2004)',\n",
       " 'Ratatouille (2007)',\n",
       " 'Ice Age (2002)',\n",
       " \"Pirates of the Caribbean: Dead Man's Chest (2006)\",\n",
       " 'Harry Potter and the Order of the Phoenix (2007)',\n",
       " 'Harry Potter and the Deathly Hallows: Part 1 (2010)',\n",
       " 'Harry Potter and the Half-Blood Prince (2009)',\n",
       " 'Up (2009)',\n",
       " 'Spider-Man 2 (2004)',\n",
       " 'Star Wars: Episode III - Revenge of the Sith (2005)',\n",
       " 'Iron Man (2008)',\n",
       " 'X2: X-Men United (2003)',\n",
       " 'Avatar (2009)',\n",
       " '300 (2007)',\n",
       " 'WALL·E (2008)',\n",
       " 'Incredibles, The (2004)',\n",
       " 'I, Robot (2004)',\n",
       " 'Matrix Revolutions, The (2003)',\n",
       " 'Avengers, The (2012)',\n",
       " 'Toy Story 3 (2010)',\n",
       " 'Star Wars: Episode II - Attack of the Clones (2002)',\n",
       " 'Juno (2007)',\n",
       " 'Bourne Supremacy, The (2004)',\n",
       " 'Chicken Run (2000)',\n",
       " 'Chronicles of Narnia: The Lion, the Witch and the Wardrobe, The (2005)',\n",
       " 'Men in Black II (a.k.a. MIIB) (a.k.a. MIB 2) (2002)',\n",
       " 'Harry Potter and the Deathly Hallows: Part 2 (2011)',\n",
       " 'Bruce Almighty (2003)',\n",
       " 'Spirited Away (Sen to Chihiro no kamikakushi) (2001)',\n",
       " 'Last Samurai, The (2003)']"
      ]
     },
     "execution_count": 10,
     "metadata": {},
     "output_type": "execute_result"
    }
   ],
   "source": [
    "list_movies = [\"Harry Potter and the Sorcerer's Stone (a.k.a. Harry Potter and the Philosopher's Stone) (2001)\",\n",
    "               \"Harry Potter and the Chamber of Secrets (2002)\",\n",
    "               \"Harry Potter and the Prisoner of Azkaban (2004)\",\n",
    "               \"Harry Potter and the Goblet of Fire (2005)\"]\n",
    "\n",
    "top_movie = predict(list_movies, model, movie_to_idx, idx_to_movie)\n",
    "top_movie"
   ]
  },
  {
   "cell_type": "markdown",
   "id": "afb4b657",
   "metadata": {},
   "source": [
    "### Senario 2:  Action/Adventure"
   ]
  },
  {
   "cell_type": "code",
   "execution_count": 11,
   "id": "96f0c5d3",
   "metadata": {
    "metadata": {}
   },
   "outputs": [
    {
     "data": {
      "text/plain": [
       "['Iron Man (2008)',\n",
       " 'Guardians of the Galaxy (2014)',\n",
       " 'Iron Man 2 (2010)',\n",
       " 'Interstellar (2014)',\n",
       " 'Guardians of the Galaxy 2 (2017)',\n",
       " 'Deadpool (2016)',\n",
       " 'The Martian (2015)',\n",
       " 'Harry Potter and the Prisoner of Azkaban (2004)',\n",
       " 'Thor: Ragnarok (2017)',\n",
       " 'Avatar (2009)',\n",
       " 'I, Robot (2004)',\n",
       " 'Rogue One: A Star Wars Story (2016)',\n",
       " 'X2: X-Men United (2003)',\n",
       " \"Harry Potter and the Sorcerer's Stone (a.k.a. Harry Potter and the Philosopher's Stone) (2001)\",\n",
       " 'Ant-Man (2015)',\n",
       " 'Kingsman: The Secret Service (2015)',\n",
       " 'Harry Potter and the Chamber of Secrets (2002)',\n",
       " 'Avengers: Age of Ultron (2015)',\n",
       " 'Dark Knight, The (2008)',\n",
       " 'Star Wars: Episode III - Revenge of the Sith (2005)',\n",
       " 'Star Wars: Episode VII - The Force Awakens (2015)',\n",
       " 'Captain America: Civil War (2016)',\n",
       " \"Pirates of the Caribbean: Dead Man's Chest (2006)\",\n",
       " 'Captain America: The Winter Soldier (2014)',\n",
       " 'Edge of Tomorrow (2014)',\n",
       " 'Matrix Revolutions, The (2003)',\n",
       " 'Inception (2010)',\n",
       " 'Harry Potter and the Order of the Phoenix (2007)',\n",
       " 'Thor (2011)',\n",
       " 'Star Wars: Episode II - Attack of the Clones (2002)']"
      ]
     },
     "execution_count": 11,
     "metadata": {},
     "output_type": "execute_result"
    }
   ],
   "source": [
    "list_movies = [\"Black Panther (2017)\",\n",
    "               \"Avengers, The (2012)\",\n",
    "               \"Avengers: Infinity War - Part I (2018)\",\n",
    "               \"Logan (2017)\",\n",
    "               \"Spider-Man (2002)\",\n",
    "               \"Spider-Man 3 (2007)\",\n",
    "               \"Spider-Man: Far from Home (2019)\"]\n",
    "\n",
    "top_movie = predict(list_movies, model, movie_to_idx, idx_to_movie)\n",
    "top_movie"
   ]
  },
  {
   "cell_type": "markdown",
   "id": "a22ddfeb",
   "metadata": {},
   "source": [
    "### Senario 3: Comedy"
   ]
  },
  {
   "cell_type": "code",
   "execution_count": 12,
   "id": "b3f01cbc",
   "metadata": {
    "metadata": {}
   },
   "outputs": [
    {
     "data": {
      "text/plain": [
       "[\"Harry Potter and the Sorcerer's Stone (a.k.a. Harry Potter and the Philosopher's Stone) (2001)\",\n",
       " 'Harry Potter and the Prisoner of Azkaban (2004)',\n",
       " 'Harry Potter and the Goblet of Fire (2005)',\n",
       " 'Harry Potter and the Deathly Hallows: Part 1 (2010)',\n",
       " 'Harry Potter and the Half-Blood Prince (2009)',\n",
       " 'Frozen (2013)',\n",
       " 'Monsters, Inc. (2001)',\n",
       " 'Harry Potter and the Chamber of Secrets (2002)',\n",
       " 'Toy Story (1995)',\n",
       " 'The Hunger Games (2012)',\n",
       " 'Big Hero 6 (2014)',\n",
       " 'Shrek (2001)',\n",
       " 'Ice Age (2002)',\n",
       " 'Harry Potter and the Order of the Phoenix (2007)',\n",
       " 'Incredibles, The (2004)',\n",
       " 'Toy Story 2 (1999)',\n",
       " 'Kung Fu Panda (2008)',\n",
       " 'Inside Out (2015)',\n",
       " 'Shrek 2 (2004)',\n",
       " 'Brave (2012)',\n",
       " 'Wreck-It Ralph (2012)',\n",
       " 'How to Train Your Dragon 2 (2014)',\n",
       " 'Harry Potter and the Deathly Hallows: Part 2 (2011)',\n",
       " 'Megamind (2010)',\n",
       " 'Lion King, The (1994)',\n",
       " 'Tangled (2010)',\n",
       " 'Avatar (2009)',\n",
       " 'Pirates of the Caribbean: The Curse of the Black Pearl (2003)',\n",
       " 'Beauty and the Beast (1991)']"
      ]
     },
     "execution_count": 12,
     "metadata": {},
     "output_type": "execute_result"
    }
   ],
   "source": [
    "list_movies = [\"Zootopia (2016)\",\n",
    "               \"Toy Story 3 (2010)\",\n",
    "               \"Toy Story 4 (2019)\",\n",
    "               \"Finding Nemo (2003)\",\n",
    "               \"Ratatouille (2007)\",\n",
    "               \"The Lego Movie (2014)\",\n",
    "               \"Ghostbusters (a.k.a. Ghost Busters) (1984)\",\n",
    "               \"Ace Ventura: When Nature Calls (1995)\"]\n",
    "top_movie = predict(list_movies, model, movie_to_idx, idx_to_movie)\n",
    "top_movie"
   ]
  },
  {
   "cell_type": "markdown",
   "id": "735935ea",
   "metadata": {},
   "source": [
    "This extends beyond the concepts discussed in the blog. We have developed a custom model, which we've named CustomBert. The inspiration for this model stemmed from the attention mechanism. We take the user's prompt as our input, and through the use of BERT's self-attention mechanism, along with a sophisticated tokenizer, we are able to effectively map the user input words to specific genres. We added a dropout layer with 0.3 dropout rate and a linear layer to make decisions for classification. We utilize the overviews in our dataset to match inputs to genres. After training for 10 epochs, we achieved a remarkable accuracy of 89.89%. This demonstrates the efficacy of the BERT model, which requires only 10 epochs to attain excellent performance in predicting the top 3 genres."
   ]
  },
  {
   "cell_type": "code",
   "execution_count": 10,
   "id": "034360fa",
   "metadata": {
    "metadata": {}
   },
   "outputs": [],
   "source": [
    "from transformers import BertTokenizer\n",
    "import torch\n",
    "import torch.nn as nn\n",
    "import numpy as np\n",
    "from transformers import BertModel\n",
    "from sklearn.preprocessing import LabelEncoder\n",
    "from torch.utils.data import DataLoader, TensorDataset\n",
    "import pandas as pd\n",
    "from sklearn.model_selection import train_test_split\n",
    "from sklearn.preprocessing import MultiLabelBinarizer\n",
    "from torch.utils.data import DataLoader, random_split, TensorDataset\n",
    "from tqdm import tqdm\n",
    "import json\n",
    "from recommender.train_utils import MovieClassifier, encode_text, load_data, evaluate_model\n",
    "\n",
    "import argparse\n",
    "import os\n",
    "import glob\n",
    "csv_file_path = \"../data/kaggle_movie/movies_metadata.csv\""
   ]
  },
  {
   "cell_type": "code",
   "execution_count": 12,
   "id": "3b92c431",
   "metadata": {
    "metadata": {}
   },
   "outputs": [],
   "source": [
    "device = torch.device(\"cpu\")"
   ]
  },
  {
   "cell_type": "code",
   "execution_count": 13,
   "id": "041d9281",
   "metadata": {
    "metadata": {}
   },
   "outputs": [
    {
     "name": "stdout",
     "output_type": "stream",
     "text": [
      "Using device: cpu\n"
     ]
    },
    {
     "name": "stderr",
     "output_type": "stream",
     "text": [
      "/home/marin/.local/lib/python3.10/site-packages/huggingface_hub/file_download.py:1132: FutureWarning: `resume_download` is deprecated and will be removed in version 1.0.0. Downloads always resume when possible. If you want to force a new download, use `force_download=True`.\n",
      "  warnings.warn(\n"
     ]
    },
    {
     "name": "stdout",
     "output_type": "stream",
     "text": [
      "Manually Decoded Genres Dictionary:  {'Action': 0, 'Adventure': 1, 'Animation': 2, 'Aniplex': 3, 'BROSTA TV': 4, 'Carousel Productions': 5, 'Comedy': 6, 'Crime': 7, 'Documentary': 8, 'Drama': 9, 'Family': 10, 'Fantasy': 11, 'Foreign': 12, 'GoHands': 13, 'History': 14, 'Horror': 15, 'Mardock Scramble Production Committee': 16, 'Music': 17, 'Mystery': 18, 'Odyssey Media': 19, 'Pulser Productions': 20, 'Rogue State': 21, 'Romance': 22, 'Science Fiction': 23, 'Sentai Filmworks': 24, 'TV Movie': 25, 'Telescene Film Group Productions': 26, 'The Cartel': 27, 'Thriller': 28, 'Vision View Entertainment': 29, 'War': 30, 'Western': 31}\n",
      "Type of input_ids: <class 'torch.Tensor'>, shape: torch.Size([44512, 512])\n",
      "Type of attention_masks: <class 'torch.Tensor'>, shape: torch.Size([44512, 512])\n"
     ]
    }
   ],
   "source": [
    "\n",
    "print(f\"Using device: {device}\")\n",
    "\n",
    "tokenizer = BertTokenizer.from_pretrained('bert-base-uncased')\n",
    "input_ids, attention_masks, ids = load_data(csv_file=csv_file_path, tokenizer=tokenizer)\n",
    "\n",
    "# Encode labels using LabelEncoder and determine number of classes\n",
    "# label_encoder = LabelEncoder()\n",
    "# encoded_labels = label_encoder.fit_transform(ids.numpy()) \n",
    "print(f\"Type of input_ids: {type(input_ids)}, shape: {input_ids.shape}\")\n",
    "print(f\"Type of attention_masks: {type(attention_masks)}, shape: {attention_masks.shape}\")\n",
    "# print(f\"Type of encoded_labels: {type(encoded_labels)}, shape: {torch.tensor(encoded_labels, dtype=torch.long).shape}\")\n",
    "# if not isinstance(encoded_labels, torch.Tensor):\n",
    "#     encoded_labels = torch.tensor(encoded_labels, dtype=torch.long)\n",
    "# else:\n",
    "#     encoded_labels = encoded_labels.type(torch.long)\n",
    "\n",
    "# print(f\"Type of encoded_labels after conversion/check: {type(encoded_labels)}\")\n",
    "dataset = TensorDataset(input_ids, attention_masks, ids)\n",
    "\n",
    "\n",
    "train_size = int(0.8 * len(dataset))\n",
    "eval_size = len(dataset) - train_size\n",
    "\n",
    "train_dataset, eval_dataset = random_split(dataset, [train_size, eval_size])\n",
    "\n",
    "\n",
    "eval_loader = DataLoader(eval_dataset, batch_size=16, shuffle=False)\n"
   ]
  },
  {
   "cell_type": "code",
   "execution_count": 12,
   "id": "4884a250",
   "metadata": {
    "metadata": {}
   },
   "outputs": [
    {
     "name": "stderr",
     "output_type": "stream",
     "text": [
      "/home/marin/.local/lib/python3.10/site-packages/huggingface_hub/file_download.py:1132: FutureWarning: `resume_download` is deprecated and will be removed in version 1.0.0. Downloads always resume when possible. If you want to force a new download, use `force_download=True`.\n",
      "  warnings.warn(\n",
      "Some weights of the model checkpoint at bert-base-uncased were not used when initializing BertModel: ['cls.predictions.bias', 'cls.predictions.transform.LayerNorm.bias', 'cls.predictions.transform.dense.bias', 'cls.predictions.transform.LayerNorm.weight', 'cls.predictions.transform.dense.weight', 'cls.seq_relationship.bias', 'cls.seq_relationship.weight']\n",
      "- This IS expected if you are initializing BertModel from the checkpoint of a model trained on another task or with another architecture (e.g. initializing a BertForSequenceClassification model from a BertForPreTraining model).\n",
      "- This IS NOT expected if you are initializing BertModel from the checkpoint of a model that you expect to be exactly identical (initializing a BertForSequenceClassification model from a BertForSequenceClassification model).\n"
     ]
    },
    {
     "name": "stdout",
     "output_type": "stream",
     "text": [
      "Loaded best model from recommender/customBert_89.pt\n"
     ]
    },
    {
     "data": {
      "text/plain": [
       "MovieClassifier(\n",
       "  (bert): BertModel(\n",
       "    (embeddings): BertEmbeddings(\n",
       "      (word_embeddings): Embedding(30522, 768, padding_idx=0)\n",
       "      (position_embeddings): Embedding(512, 768)\n",
       "      (token_type_embeddings): Embedding(2, 768)\n",
       "      (LayerNorm): LayerNorm((768,), eps=1e-12, elementwise_affine=True)\n",
       "      (dropout): Dropout(p=0.1, inplace=False)\n",
       "    )\n",
       "    (encoder): BertEncoder(\n",
       "      (layer): ModuleList(\n",
       "        (0): BertLayer(\n",
       "          (attention): BertAttention(\n",
       "            (self): BertSelfAttention(\n",
       "              (query): Linear(in_features=768, out_features=768, bias=True)\n",
       "              (key): Linear(in_features=768, out_features=768, bias=True)\n",
       "              (value): Linear(in_features=768, out_features=768, bias=True)\n",
       "              (dropout): Dropout(p=0.1, inplace=False)\n",
       "            )\n",
       "            (output): BertSelfOutput(\n",
       "              (dense): Linear(in_features=768, out_features=768, bias=True)\n",
       "              (LayerNorm): LayerNorm((768,), eps=1e-12, elementwise_affine=True)\n",
       "              (dropout): Dropout(p=0.1, inplace=False)\n",
       "            )\n",
       "          )\n",
       "          (intermediate): BertIntermediate(\n",
       "            (dense): Linear(in_features=768, out_features=3072, bias=True)\n",
       "            (intermediate_act_fn): GELUActivation()\n",
       "          )\n",
       "          (output): BertOutput(\n",
       "            (dense): Linear(in_features=3072, out_features=768, bias=True)\n",
       "            (LayerNorm): LayerNorm((768,), eps=1e-12, elementwise_affine=True)\n",
       "            (dropout): Dropout(p=0.1, inplace=False)\n",
       "          )\n",
       "        )\n",
       "        (1): BertLayer(\n",
       "          (attention): BertAttention(\n",
       "            (self): BertSelfAttention(\n",
       "              (query): Linear(in_features=768, out_features=768, bias=True)\n",
       "              (key): Linear(in_features=768, out_features=768, bias=True)\n",
       "              (value): Linear(in_features=768, out_features=768, bias=True)\n",
       "              (dropout): Dropout(p=0.1, inplace=False)\n",
       "            )\n",
       "            (output): BertSelfOutput(\n",
       "              (dense): Linear(in_features=768, out_features=768, bias=True)\n",
       "              (LayerNorm): LayerNorm((768,), eps=1e-12, elementwise_affine=True)\n",
       "              (dropout): Dropout(p=0.1, inplace=False)\n",
       "            )\n",
       "          )\n",
       "          (intermediate): BertIntermediate(\n",
       "            (dense): Linear(in_features=768, out_features=3072, bias=True)\n",
       "            (intermediate_act_fn): GELUActivation()\n",
       "          )\n",
       "          (output): BertOutput(\n",
       "            (dense): Linear(in_features=3072, out_features=768, bias=True)\n",
       "            (LayerNorm): LayerNorm((768,), eps=1e-12, elementwise_affine=True)\n",
       "            (dropout): Dropout(p=0.1, inplace=False)\n",
       "          )\n",
       "        )\n",
       "        (2): BertLayer(\n",
       "          (attention): BertAttention(\n",
       "            (self): BertSelfAttention(\n",
       "              (query): Linear(in_features=768, out_features=768, bias=True)\n",
       "              (key): Linear(in_features=768, out_features=768, bias=True)\n",
       "              (value): Linear(in_features=768, out_features=768, bias=True)\n",
       "              (dropout): Dropout(p=0.1, inplace=False)\n",
       "            )\n",
       "            (output): BertSelfOutput(\n",
       "              (dense): Linear(in_features=768, out_features=768, bias=True)\n",
       "              (LayerNorm): LayerNorm((768,), eps=1e-12, elementwise_affine=True)\n",
       "              (dropout): Dropout(p=0.1, inplace=False)\n",
       "            )\n",
       "          )\n",
       "          (intermediate): BertIntermediate(\n",
       "            (dense): Linear(in_features=768, out_features=3072, bias=True)\n",
       "            (intermediate_act_fn): GELUActivation()\n",
       "          )\n",
       "          (output): BertOutput(\n",
       "            (dense): Linear(in_features=3072, out_features=768, bias=True)\n",
       "            (LayerNorm): LayerNorm((768,), eps=1e-12, elementwise_affine=True)\n",
       "            (dropout): Dropout(p=0.1, inplace=False)\n",
       "          )\n",
       "        )\n",
       "        (3): BertLayer(\n",
       "          (attention): BertAttention(\n",
       "            (self): BertSelfAttention(\n",
       "              (query): Linear(in_features=768, out_features=768, bias=True)\n",
       "              (key): Linear(in_features=768, out_features=768, bias=True)\n",
       "              (value): Linear(in_features=768, out_features=768, bias=True)\n",
       "              (dropout): Dropout(p=0.1, inplace=False)\n",
       "            )\n",
       "            (output): BertSelfOutput(\n",
       "              (dense): Linear(in_features=768, out_features=768, bias=True)\n",
       "              (LayerNorm): LayerNorm((768,), eps=1e-12, elementwise_affine=True)\n",
       "              (dropout): Dropout(p=0.1, inplace=False)\n",
       "            )\n",
       "          )\n",
       "          (intermediate): BertIntermediate(\n",
       "            (dense): Linear(in_features=768, out_features=3072, bias=True)\n",
       "            (intermediate_act_fn): GELUActivation()\n",
       "          )\n",
       "          (output): BertOutput(\n",
       "            (dense): Linear(in_features=3072, out_features=768, bias=True)\n",
       "            (LayerNorm): LayerNorm((768,), eps=1e-12, elementwise_affine=True)\n",
       "            (dropout): Dropout(p=0.1, inplace=False)\n",
       "          )\n",
       "        )\n",
       "        (4): BertLayer(\n",
       "          (attention): BertAttention(\n",
       "            (self): BertSelfAttention(\n",
       "              (query): Linear(in_features=768, out_features=768, bias=True)\n",
       "              (key): Linear(in_features=768, out_features=768, bias=True)\n",
       "              (value): Linear(in_features=768, out_features=768, bias=True)\n",
       "              (dropout): Dropout(p=0.1, inplace=False)\n",
       "            )\n",
       "            (output): BertSelfOutput(\n",
       "              (dense): Linear(in_features=768, out_features=768, bias=True)\n",
       "              (LayerNorm): LayerNorm((768,), eps=1e-12, elementwise_affine=True)\n",
       "              (dropout): Dropout(p=0.1, inplace=False)\n",
       "            )\n",
       "          )\n",
       "          (intermediate): BertIntermediate(\n",
       "            (dense): Linear(in_features=768, out_features=3072, bias=True)\n",
       "            (intermediate_act_fn): GELUActivation()\n",
       "          )\n",
       "          (output): BertOutput(\n",
       "            (dense): Linear(in_features=3072, out_features=768, bias=True)\n",
       "            (LayerNorm): LayerNorm((768,), eps=1e-12, elementwise_affine=True)\n",
       "            (dropout): Dropout(p=0.1, inplace=False)\n",
       "          )\n",
       "        )\n",
       "        (5): BertLayer(\n",
       "          (attention): BertAttention(\n",
       "            (self): BertSelfAttention(\n",
       "              (query): Linear(in_features=768, out_features=768, bias=True)\n",
       "              (key): Linear(in_features=768, out_features=768, bias=True)\n",
       "              (value): Linear(in_features=768, out_features=768, bias=True)\n",
       "              (dropout): Dropout(p=0.1, inplace=False)\n",
       "            )\n",
       "            (output): BertSelfOutput(\n",
       "              (dense): Linear(in_features=768, out_features=768, bias=True)\n",
       "              (LayerNorm): LayerNorm((768,), eps=1e-12, elementwise_affine=True)\n",
       "              (dropout): Dropout(p=0.1, inplace=False)\n",
       "            )\n",
       "          )\n",
       "          (intermediate): BertIntermediate(\n",
       "            (dense): Linear(in_features=768, out_features=3072, bias=True)\n",
       "            (intermediate_act_fn): GELUActivation()\n",
       "          )\n",
       "          (output): BertOutput(\n",
       "            (dense): Linear(in_features=3072, out_features=768, bias=True)\n",
       "            (LayerNorm): LayerNorm((768,), eps=1e-12, elementwise_affine=True)\n",
       "            (dropout): Dropout(p=0.1, inplace=False)\n",
       "          )\n",
       "        )\n",
       "        (6): BertLayer(\n",
       "          (attention): BertAttention(\n",
       "            (self): BertSelfAttention(\n",
       "              (query): Linear(in_features=768, out_features=768, bias=True)\n",
       "              (key): Linear(in_features=768, out_features=768, bias=True)\n",
       "              (value): Linear(in_features=768, out_features=768, bias=True)\n",
       "              (dropout): Dropout(p=0.1, inplace=False)\n",
       "            )\n",
       "            (output): BertSelfOutput(\n",
       "              (dense): Linear(in_features=768, out_features=768, bias=True)\n",
       "              (LayerNorm): LayerNorm((768,), eps=1e-12, elementwise_affine=True)\n",
       "              (dropout): Dropout(p=0.1, inplace=False)\n",
       "            )\n",
       "          )\n",
       "          (intermediate): BertIntermediate(\n",
       "            (dense): Linear(in_features=768, out_features=3072, bias=True)\n",
       "            (intermediate_act_fn): GELUActivation()\n",
       "          )\n",
       "          (output): BertOutput(\n",
       "            (dense): Linear(in_features=3072, out_features=768, bias=True)\n",
       "            (LayerNorm): LayerNorm((768,), eps=1e-12, elementwise_affine=True)\n",
       "            (dropout): Dropout(p=0.1, inplace=False)\n",
       "          )\n",
       "        )\n",
       "        (7): BertLayer(\n",
       "          (attention): BertAttention(\n",
       "            (self): BertSelfAttention(\n",
       "              (query): Linear(in_features=768, out_features=768, bias=True)\n",
       "              (key): Linear(in_features=768, out_features=768, bias=True)\n",
       "              (value): Linear(in_features=768, out_features=768, bias=True)\n",
       "              (dropout): Dropout(p=0.1, inplace=False)\n",
       "            )\n",
       "            (output): BertSelfOutput(\n",
       "              (dense): Linear(in_features=768, out_features=768, bias=True)\n",
       "              (LayerNorm): LayerNorm((768,), eps=1e-12, elementwise_affine=True)\n",
       "              (dropout): Dropout(p=0.1, inplace=False)\n",
       "            )\n",
       "          )\n",
       "          (intermediate): BertIntermediate(\n",
       "            (dense): Linear(in_features=768, out_features=3072, bias=True)\n",
       "            (intermediate_act_fn): GELUActivation()\n",
       "          )\n",
       "          (output): BertOutput(\n",
       "            (dense): Linear(in_features=3072, out_features=768, bias=True)\n",
       "            (LayerNorm): LayerNorm((768,), eps=1e-12, elementwise_affine=True)\n",
       "            (dropout): Dropout(p=0.1, inplace=False)\n",
       "          )\n",
       "        )\n",
       "        (8): BertLayer(\n",
       "          (attention): BertAttention(\n",
       "            (self): BertSelfAttention(\n",
       "              (query): Linear(in_features=768, out_features=768, bias=True)\n",
       "              (key): Linear(in_features=768, out_features=768, bias=True)\n",
       "              (value): Linear(in_features=768, out_features=768, bias=True)\n",
       "              (dropout): Dropout(p=0.1, inplace=False)\n",
       "            )\n",
       "            (output): BertSelfOutput(\n",
       "              (dense): Linear(in_features=768, out_features=768, bias=True)\n",
       "              (LayerNorm): LayerNorm((768,), eps=1e-12, elementwise_affine=True)\n",
       "              (dropout): Dropout(p=0.1, inplace=False)\n",
       "            )\n",
       "          )\n",
       "          (intermediate): BertIntermediate(\n",
       "            (dense): Linear(in_features=768, out_features=3072, bias=True)\n",
       "            (intermediate_act_fn): GELUActivation()\n",
       "          )\n",
       "          (output): BertOutput(\n",
       "            (dense): Linear(in_features=3072, out_features=768, bias=True)\n",
       "            (LayerNorm): LayerNorm((768,), eps=1e-12, elementwise_affine=True)\n",
       "            (dropout): Dropout(p=0.1, inplace=False)\n",
       "          )\n",
       "        )\n",
       "        (9): BertLayer(\n",
       "          (attention): BertAttention(\n",
       "            (self): BertSelfAttention(\n",
       "              (query): Linear(in_features=768, out_features=768, bias=True)\n",
       "              (key): Linear(in_features=768, out_features=768, bias=True)\n",
       "              (value): Linear(in_features=768, out_features=768, bias=True)\n",
       "              (dropout): Dropout(p=0.1, inplace=False)\n",
       "            )\n",
       "            (output): BertSelfOutput(\n",
       "              (dense): Linear(in_features=768, out_features=768, bias=True)\n",
       "              (LayerNorm): LayerNorm((768,), eps=1e-12, elementwise_affine=True)\n",
       "              (dropout): Dropout(p=0.1, inplace=False)\n",
       "            )\n",
       "          )\n",
       "          (intermediate): BertIntermediate(\n",
       "            (dense): Linear(in_features=768, out_features=3072, bias=True)\n",
       "            (intermediate_act_fn): GELUActivation()\n",
       "          )\n",
       "          (output): BertOutput(\n",
       "            (dense): Linear(in_features=3072, out_features=768, bias=True)\n",
       "            (LayerNorm): LayerNorm((768,), eps=1e-12, elementwise_affine=True)\n",
       "            (dropout): Dropout(p=0.1, inplace=False)\n",
       "          )\n",
       "        )\n",
       "        (10): BertLayer(\n",
       "          (attention): BertAttention(\n",
       "            (self): BertSelfAttention(\n",
       "              (query): Linear(in_features=768, out_features=768, bias=True)\n",
       "              (key): Linear(in_features=768, out_features=768, bias=True)\n",
       "              (value): Linear(in_features=768, out_features=768, bias=True)\n",
       "              (dropout): Dropout(p=0.1, inplace=False)\n",
       "            )\n",
       "            (output): BertSelfOutput(\n",
       "              (dense): Linear(in_features=768, out_features=768, bias=True)\n",
       "              (LayerNorm): LayerNorm((768,), eps=1e-12, elementwise_affine=True)\n",
       "              (dropout): Dropout(p=0.1, inplace=False)\n",
       "            )\n",
       "          )\n",
       "          (intermediate): BertIntermediate(\n",
       "            (dense): Linear(in_features=768, out_features=3072, bias=True)\n",
       "            (intermediate_act_fn): GELUActivation()\n",
       "          )\n",
       "          (output): BertOutput(\n",
       "            (dense): Linear(in_features=3072, out_features=768, bias=True)\n",
       "            (LayerNorm): LayerNorm((768,), eps=1e-12, elementwise_affine=True)\n",
       "            (dropout): Dropout(p=0.1, inplace=False)\n",
       "          )\n",
       "        )\n",
       "        (11): BertLayer(\n",
       "          (attention): BertAttention(\n",
       "            (self): BertSelfAttention(\n",
       "              (query): Linear(in_features=768, out_features=768, bias=True)\n",
       "              (key): Linear(in_features=768, out_features=768, bias=True)\n",
       "              (value): Linear(in_features=768, out_features=768, bias=True)\n",
       "              (dropout): Dropout(p=0.1, inplace=False)\n",
       "            )\n",
       "            (output): BertSelfOutput(\n",
       "              (dense): Linear(in_features=768, out_features=768, bias=True)\n",
       "              (LayerNorm): LayerNorm((768,), eps=1e-12, elementwise_affine=True)\n",
       "              (dropout): Dropout(p=0.1, inplace=False)\n",
       "            )\n",
       "          )\n",
       "          (intermediate): BertIntermediate(\n",
       "            (dense): Linear(in_features=768, out_features=3072, bias=True)\n",
       "            (intermediate_act_fn): GELUActivation()\n",
       "          )\n",
       "          (output): BertOutput(\n",
       "            (dense): Linear(in_features=3072, out_features=768, bias=True)\n",
       "            (LayerNorm): LayerNorm((768,), eps=1e-12, elementwise_affine=True)\n",
       "            (dropout): Dropout(p=0.1, inplace=False)\n",
       "          )\n",
       "        )\n",
       "      )\n",
       "    )\n",
       "    (pooler): BertPooler(\n",
       "      (dense): Linear(in_features=768, out_features=768, bias=True)\n",
       "      (activation): Tanh()\n",
       "    )\n",
       "  )\n",
       "  (dropout): Dropout(p=0.3, inplace=False)\n",
       "  (classifier): Linear(in_features=768, out_features=32, bias=True)\n",
       ")"
      ]
     },
     "execution_count": 12,
     "metadata": {},
     "output_type": "execute_result"
    }
   ],
   "source": [
    "model_files = 'recommender/customBert_89.pt'\n",
    "if model_files:\n",
    "    custom_model = MovieClassifier(num_movies=32).to(device)\n",
    "    custom_model_dic = torch.load(model_files)\n",
    "    custom_model.load_state_dict(custom_model_dic)\n",
    "    print(f\"Loaded best model from {model_files}\")\n",
    "custom_model.eval()"
   ]
  },
  {
   "cell_type": "code",
   "execution_count": 8,
   "id": "00851f89",
   "metadata": {
    "metadata": {}
   },
   "outputs": [
    {
     "name": "stderr",
     "output_type": "stream",
     "text": [
      "                                                             "
     ]
    },
    {
     "name": "stdout",
     "output_type": "stream",
     "text": [
      "Validation Accuracy = 93.04728743120296%, for top k = 3\n"
     ]
    },
    {
     "name": "stderr",
     "output_type": "stream",
     "text": [
      "\r"
     ]
    }
   ],
   "source": [
    "valid_acc = evaluate_model(custom_model, eval_loader, device=device)\n",
    "print(f\"Validation Accuracy = {valid_acc}%, for top k = 3\")"
   ]
  },
  {
   "cell_type": "code",
   "execution_count": 32,
   "id": "d506783a",
   "metadata": {
    "metadata": {}
   },
   "outputs": [
    {
     "name": "stderr",
     "output_type": "stream",
     "text": [
      "                                                             "
     ]
    },
    {
     "name": "stdout",
     "output_type": "stream",
     "text": [
      "Validation Accuracy = 93.21576996518027%, for top k = 2\n"
     ]
    },
    {
     "name": "stderr",
     "output_type": "stream",
     "text": [
      "\r"
     ]
    }
   ],
   "source": [
    "valid_acc = evaluate_model(custom_model, eval_loader, device=device)\n",
    "print(f\"Validation Accuracy = {valid_acc}%, for top k = 2\")"
   ]
  },
  {
   "cell_type": "code",
   "execution_count": 33,
   "id": "f4da8215",
   "metadata": {
    "metadata": {}
   },
   "outputs": [
    {
     "name": "stderr",
     "output_type": "stream",
     "text": [
      "                                                             "
     ]
    },
    {
     "name": "stdout",
     "output_type": "stream",
     "text": [
      "Validation Accuracy = 93.31685948556667%, for top k = 1\n"
     ]
    },
    {
     "name": "stderr",
     "output_type": "stream",
     "text": [
      "\r"
     ]
    }
   ],
   "source": [
    "valid_acc = evaluate_model(custom_model, eval_loader, device=device)\n",
    "print(f\"Validation Accuracy = {valid_acc}%, for top k = 1\")"
   ]
  },
  {
   "cell_type": "markdown",
   "id": "cddf30eb",
   "metadata": {},
   "source": [
    "We can observe that our model obtain a really good score in Validation. Now we will map the genre to movie with our cosine similarity function!"
   ]
  },
  {
   "cell_type": "code",
   "execution_count": 60,
   "id": "93df01b5",
   "metadata": {
    "metadata": {}
   },
   "outputs": [],
   "source": [
    "def genres_to_movies(genres_, model_, movies_, embeddings, k=5):\n",
    "    if not genres_:\n",
    "        print('Enter at least ONE genre!')\n",
    "        return\n",
    "    \n",
    "    k = 5 if k <= 0 else k\n",
    "    \n",
    "    all_genres = ','.join(genres_)\n",
    "    all_genres_emb = model_.encode(all_genres)\n",
    "    all_genres_emb = np.array(all_genres_emb)\n",
    "    \n",
    "    cos_simi = cosine_similarity([all_genres_emb], embeddings)[0]\n",
    "    \n",
    "    top_indices = np.argsort(-cos_simi)[:k]\n",
    "    recommend_movies = movies_.iloc[top_indices]\n",
    "    \n",
    "    print(f'Top {k} recommendations:')\n",
    "    for index, movie in recommend_movies.iterrows():\n",
    "        print('{:<5} {:<35} {}'.format(f'{index}.', f'{movie[\"title\"]}', f'Genres: {movie[\"AllGenres\"]}'))\n",
    "        \n",
    "    return recommend_movies['title'].tolist()"
   ]
  },
  {
   "cell_type": "code",
   "execution_count": 61,
   "id": "3c0b840d",
   "metadata": {
    "metadata": {}
   },
   "outputs": [],
   "source": [
    "import random\n",
    "import pandas as pd\n",
    "import numpy as np\n",
    "from sklearn.metrics.pairwise import cosine_similarity\n",
    "\n",
    "import torch\n",
    "from torch.utils.data import Dataset, DataLoader, random_split\n",
    "from sentence_transformers import SentenceTransformer, InputExample, losses, models, datasets, evaluation, util\n",
    "sentence_model = SentenceTransformer('distilbert-base-nli-mean-tokens').to(device)"
   ]
  },
  {
   "cell_type": "code",
   "execution_count": 62,
   "id": "4f2f362a",
   "metadata": {
    "metadata": {}
   },
   "outputs": [
    {
     "name": "stdout",
     "output_type": "stream",
     "text": [
      "<class 'pandas.core.frame.DataFrame'>\n",
      "RangeIndex: 45429 entries, 0 to 45428\n",
      "Data columns (total 4 columns):\n",
      " #   Column       Non-Null Count  Dtype \n",
      "---  ------       --------------  ----- \n",
      " 0   id           45429 non-null  object\n",
      " 1   title        45429 non-null  object\n",
      " 2   AllGenres    45429 non-null  object\n",
      " 3   AllKeywords  45429 non-null  object\n",
      "dtypes: object(4)\n",
      "memory usage: 1.4+ MB\n"
     ]
    }
   ],
   "source": [
    "movies_all_path = '../data/kaggle_movie/movies_with_keywords.csv'\n",
    "movies = pd.read_csv(movies_all_path, keep_default_na=False, dtype=str)\n",
    "movies.info()"
   ]
  },
  {
   "cell_type": "code",
   "execution_count": 63,
   "id": "db82e411",
   "metadata": {
    "metadata": {}
   },
   "outputs": [
    {
     "data": {
      "text/plain": [
       "['Toy Story,Animation,Comedy,Family,friendship,new toy,rivalry,boy',\n",
       " 'Jumanji,Adventure,Fantasy,Family,',\n",
       " 'Grumpier Old Men,Romance,Comedy,fishing,best friend,duringcreditsstinger,old men',\n",
       " 'Waiting to Exhale,Comedy,Drama,Romance,interracial relationship,based on novel,single mother,chick flick',\n",
       " 'Father of the Bride Part II,Comedy,baby,aging,mother daughter relationship,gynecologist']"
      ]
     },
     "execution_count": 63,
     "metadata": {},
     "output_type": "execute_result"
    }
   ],
   "source": [
    "names_genres_keywords = movies['title'] + ',' + movies['AllGenres'] + ',' + movies['AllKeywords']\n",
    "names_genres_keywords = names_genres_keywords.tolist()\n",
    "names_genres_keywords[:5]"
   ]
  },
  {
   "cell_type": "code",
   "execution_count": 64,
   "id": "190d68d5",
   "metadata": {
    "metadata": {}
   },
   "outputs": [
    {
     "data": {
      "application/vnd.jupyter.widget-view+json": {
       "model_id": "b595e284e8ad4bb38bff77505e584f26",
       "version_major": 2,
       "version_minor": 0
      },
      "text/plain": [
       "Batches:   0%|          | 0/1420 [00:00<?, ?it/s]"
      ]
     },
     "metadata": {},
     "output_type": "display_data"
    }
   ],
   "source": [
    "embedding = sentence_model.encode(names_genres_keywords, show_progress_bar=True)\n",
    "embedding = np.array(embedding)"
   ]
  },
  {
   "cell_type": "markdown",
   "id": "85aed0e9",
   "metadata": {},
   "source": [
    "Now it is time to combine our model together!\n",
    "The basic idea is use the trained Custom model to map description or called user input to genres and from genres to Movies by Cosine Similarity and encoding sentence model."
   ]
  },
  {
   "cell_type": "code",
   "execution_count": 93,
   "id": "42014f6f",
   "metadata": {
    "metadata": {}
   },
   "outputs": [],
   "source": [
    "#This is for Description to genres mapping!\n",
    "genre_map = {'Action': 0, 'Adventure': 1, 'Animation': 2, 'Aniplex': 3, 'BROSTA TV': 4, 'Carousel Productions': 5, 'Comedy': 6, 'Crime': 7, 'Documentary': 8, 'Drama': 9, 'Family': 10, 'Fantasy': 11, 'Foreign': 12, 'GoHands': 13, 'History': 14, 'Horror': 15, 'Mardock Scramble Production Committee': 16, 'Music': 17, 'Mystery': 18, 'Odyssey Media': 19, 'Pulser Productions': 20, 'Rogue State': 21, 'Romance': 22, 'Science Fiction': 23, 'Sentai Filmworks': 24, 'TV Movie': 25, 'Telescene Film Group Productions': 26, 'The Cartel': 27, 'Thriller': 28, 'Vision View Entertainment': 29, 'War': 30, 'Western': 31}\n",
    "index_to_genre = {index: genre for genre, index in genre_map.items()}\n",
    "\n",
    "my_desciption = \"In a high-stakes chase across the globe, a retired spy races against time to thwart a shadowy villain’s plan, navigating explosive encounters and dramatic betrayals with breathtaking stunts and precision.\"\n",
    "input_ids, attention_masks = encode_text([my_desciption], tokenizer)\n",
    "input_ids = input_ids.to(device)\n",
    "attention_masks = attention_masks.to(device)\n",
    "output = custom_model.forward(input_ids, attention_masks)\n"
   ]
  },
  {
   "cell_type": "code",
   "execution_count": 94,
   "id": "30afa9b1",
   "metadata": {
    "metadata": {}
   },
   "outputs": [
    {
     "name": "stdout",
     "output_type": "stream",
     "text": [
      "['Carousel Productions', 'Drama', 'Action']\n"
     ]
    }
   ],
   "source": [
    "probs = torch.softmax(output, dim=1)\n",
    "top_k_probs, top_k_preds = torch.topk(probs, 3, dim=1)\n",
    "top_3_preds = []\n",
    "tolst = top_k_preds.tolist()\n",
    "\n",
    "for x in tolst[0]:\n",
    "    top_3_preds.append(index_to_genre[x])\n",
    "print(top_3_preds)\n"
   ]
  },
  {
   "cell_type": "code",
   "execution_count": 95,
   "id": "297fed4f",
   "metadata": {
    "metadata": {}
   },
   "outputs": [
    {
     "name": "stdout",
     "output_type": "stream",
     "text": [
      "Top 3 recommendations:\n",
      "45374. Swing                               Genres: Romance,Drama,Action\n",
      "16002. Provocateur                         Genres: Action,Drama\n",
      "20246. Milarepa                            Genres: Action,Adventure,Drama\n"
     ]
    }
   ],
   "source": [
    "#genres to movies mapping!\n",
    "rec_movies = genres_to_movies(top_3_preds, model_=sentence_model, movies_=movies, embeddings=embedding, k=3)"
   ]
  }
 ],
 "metadata": {
  "kernelspec": {
   "display_name": "Python 3",
   "language": "python",
   "name": "python3"
  },
  "language_info": {
   "codemirror_mode": {
    "name": "ipython",
    "version": 3
   },
   "file_extension": ".py",
   "mimetype": "text/x-python",
   "name": "python",
   "nbconvert_exporter": "python",
   "pygments_lexer": "ipython3",
   "version": "3.10.12"
  }
 },
 "nbformat": 4,
 "nbformat_minor": 5
}
