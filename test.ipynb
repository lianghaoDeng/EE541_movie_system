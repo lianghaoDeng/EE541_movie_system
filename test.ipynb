{
 "cells": [
  {
   "cell_type": "code",
   "execution_count": 2,
   "id": "initial_id",
   "metadata": {
    "collapsed": true,
    "ExecuteTime": {
     "end_time": "2024-04-23T23:22:15.781683400Z",
     "start_time": "2024-04-23T23:22:03.886915Z"
    }
   },
   "outputs": [],
   "source": [
    "import torch\n",
    "from torch.utils.data import Dataset, DataLoader\n",
    "import torch.nn as nn\n",
    "import pandas as pd\n",
    "import numpy as np\n",
    "from sentence_transformers import SentenceTransformer\n",
    "from sklearn.metrics.pairwise import cosine_similarity"
   ]
  },
  {
   "cell_type": "code",
   "execution_count": 3,
   "outputs": [],
   "source": [
    "movies_path = 'dataset/movies_5000.csv'\n",
    "ratings_path = 'dataset/ratings_5000.csv'\n",
    "\n",
    "movies = pd.read_csv(movies_path)\n",
    "ratings = pd.read_csv(ratings_path)"
   ],
   "metadata": {
    "collapsed": false,
    "ExecuteTime": {
     "end_time": "2024-04-23T23:22:16.720817400Z",
     "start_time": "2024-04-23T23:22:16.676102900Z"
    }
   },
   "id": "6cb5aac35205f01f"
  },
  {
   "cell_type": "code",
   "execution_count": 6,
   "outputs": [],
   "source": [
    "device = torch.device('cuda:0' if torch.cuda.is_available() else 'cpu')\n",
    "model = SentenceTransformer('distilbert-base-nli-mean-tokens').to(device)"
   ],
   "metadata": {
    "collapsed": false,
    "ExecuteTime": {
     "end_time": "2024-04-23T23:25:24.210200800Z",
     "start_time": "2024-04-23T23:25:23.015615500Z"
    }
   },
   "id": "2f8bfcad0f512580"
  },
  {
   "cell_type": "code",
   "execution_count": 7,
   "outputs": [
    {
     "data": {
      "text/plain": "Batches:   0%|          | 0/157 [00:00<?, ?it/s]",
      "application/vnd.jupyter.widget-view+json": {
       "version_major": 2,
       "version_minor": 0,
       "model_id": "bc8f42b806a848a2b3188e9ff586979c"
      }
     },
     "metadata": {},
     "output_type": "display_data"
    }
   ],
   "source": [
    "names_and_genres = movies['title'].astype(str) + ',' + movies['AllGenres'].astype(str)\n",
    "embedding = model.encode(names_and_genres, show_progress_bar=True)"
   ],
   "metadata": {
    "collapsed": false,
    "ExecuteTime": {
     "end_time": "2024-04-23T23:25:34.560444100Z",
     "start_time": "2024-04-23T23:25:29.540883300Z"
    }
   },
   "id": "a912929d08779318"
  },
  {
   "cell_type": "code",
   "execution_count": 9,
   "outputs": [],
   "source": [
    "emb_arr = np.array(embedding)\n",
    "cos_similarity = pd.DataFrame(cosine_similarity(emb_arr))"
   ],
   "metadata": {
    "collapsed": false,
    "ExecuteTime": {
     "end_time": "2024-04-23T23:26:40.010110500Z",
     "start_time": "2024-04-23T23:26:39.828015100Z"
    }
   },
   "id": "44255fd72db5bdd9"
  },
  {
   "cell_type": "code",
   "execution_count": 8,
   "outputs": [],
   "source": [
    "def recommend_similar_movies(cos_similarity, movie_index, k):\n",
    "    all_index = cos_similarity.iloc[movie_index, :].sort_values(ascending=False).index.to_list()\n",
    "    rec_index = all_index[1: k+1]\n",
    "    rec_movie = movies['title'].iloc[rec_index]\n",
    "\n",
    "    print(f'Watched movie: {movies.title.iloc[movie_index]} \\t Genres: {movies.AllGenres.iloc[movie_index]}')\n",
    "    print(f'Top {k} recommendations:')\n",
    "\n",
    "    for m, movie in enumerate(rec_movie):\n",
    "        print(f'{m+1}. {movie} \\t Genres: {movies.AllGenres.iloc[rec_index[m]]}')"
   ],
   "metadata": {
    "collapsed": false,
    "ExecuteTime": {
     "end_time": "2024-04-23T23:25:57.985154700Z",
     "start_time": "2024-04-23T23:25:57.965636700Z"
    }
   },
   "id": "d6e661df4a3b011d"
  },
  {
   "cell_type": "code",
   "execution_count": 20,
   "outputs": [],
   "source": [
    "def recommend_with_history(history, model, movies, embeddings, k):\n",
    "    \n",
    "    movies_history = movies[movies['title'].isin(history)]\n",
    "    movies_remaining = movies[~movies['title'].isin(history)]\n",
    "    \n",
    "    movies_history_emb = np.array([model.encode(title + ',' + genres) for title, genres in zip(movies_history['title'], movies_history['AllGenres'])])\n",
    "\n",
    "    combined_emb = np.mean(movies_history_emb, axis=0)\n",
    "    \n",
    "    movies_remaining_emb = embeddings[movies_remaining.index]\n",
    "    \n",
    "    cos_simi = cosine_similarity([combined_emb], movies_remaining_emb)\n",
    "    \n",
    "    top_indices = np.argsort(-cos_simi[0])[:k]\n",
    "    recommend_movies = movies_remaining.iloc[top_indices]\n",
    "    \n",
    "    print(f'Top {k} recommendations:')\n",
    "    \n",
    "    for index, movie in recommend_movies.iterrows():\n",
    "        print(f'{index+1}. {movie[\"title\"]} \\t Genres: {movie[\"AllGenres\"]}')"
   ],
   "metadata": {
    "collapsed": false,
    "ExecuteTime": {
     "end_time": "2024-04-24T00:19:35.711988Z",
     "start_time": "2024-04-24T00:19:35.700928500Z"
    }
   },
   "id": "4e1575347c2a9976"
  },
  {
   "cell_type": "code",
   "execution_count": 21,
   "outputs": [
    {
     "name": "stdout",
     "output_type": "stream",
     "text": [
      "Watched movie: Behind Enemy Lines III: Colombia \t Genres: War,Action,Thriller\n",
      "Top 5 recommendations:\n",
      "1. Bloodsport III \t Genres: Action,Thriller\n",
      "2. Man Hunt \t Genres: Drama,Thriller,War\n",
      "3. Echoes Of War \t Genres: Western,Drama,Thriller\n",
      "4. Brothers \t Genres: Drama,Thriller,War\n",
      "5. War of the Arrows \t Genres: Drama,Action,History,Thriller\n"
     ]
    }
   ],
   "source": [
    "recommend_similar_movies(cos_similarity, movie_index=2500, k=5)"
   ],
   "metadata": {
    "collapsed": false,
    "ExecuteTime": {
     "end_time": "2024-04-24T00:19:36.404448800Z",
     "start_time": "2024-04-24T00:19:36.394165200Z"
    }
   },
   "id": "dc9373704d129858"
  },
  {
   "cell_type": "code",
   "execution_count": 22,
   "outputs": [
    {
     "name": "stdout",
     "output_type": "stream",
     "text": [
      "Top 5 recommendations:\n",
      "3557. Zaytoun \t Genres: Drama,War,Adventure,Thriller\n",
      "2495. Battleground \t Genres: Drama,Action,Thriller\n",
      "1808. Merrill's Marauders \t Genres: Action,Drama,War\n",
      "2795. Kajaki \t Genres: Thriller,War,Adventure,Drama\n",
      "3440. Trigger Man \t Genres: Action,Drama,Thriller,Horror\n"
     ]
    }
   ],
   "source": [
    "history = ['Bloodsport III', 'Man Hunt', 'Echoes Of War', 'Brothers', 'War of the Arrows']\n",
    "\n",
    "recommend_with_history(history, model, movies, emb_arr, 5)"
   ],
   "metadata": {
    "collapsed": false,
    "ExecuteTime": {
     "end_time": "2024-04-24T00:19:37.324513600Z",
     "start_time": "2024-04-24T00:19:37.012030100Z"
    }
   },
   "id": "71196d85699ae435"
  },
  {
   "cell_type": "code",
   "execution_count": null,
   "outputs": [],
   "source": [],
   "metadata": {
    "collapsed": false
   },
   "id": "fa45fe6726ff571b"
  }
 ],
 "metadata": {
  "kernelspec": {
   "name": "ee541",
   "language": "python",
   "display_name": "EE541"
  },
  "language_info": {
   "codemirror_mode": {
    "name": "ipython",
    "version": 2
   },
   "file_extension": ".py",
   "mimetype": "text/x-python",
   "name": "python",
   "nbconvert_exporter": "python",
   "pygments_lexer": "ipython2",
   "version": "2.7.6"
  }
 },
 "nbformat": 4,
 "nbformat_minor": 5
}
