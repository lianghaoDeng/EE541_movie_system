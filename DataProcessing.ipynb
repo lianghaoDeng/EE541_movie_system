{
 "cells": [
  {
   "cell_type": "code",
   "execution_count": 1,
   "id": "initial_id",
   "metadata": {
    "collapsed": true,
    "ExecuteTime": {
     "end_time": "2024-04-23T22:51:09.630266Z",
     "start_time": "2024-04-23T22:51:08.008921600Z"
    }
   },
   "outputs": [],
   "source": [
    "import pandas as pd\n",
    "import numpy as np\n",
    "import json"
   ]
  },
  {
   "cell_type": "code",
   "execution_count": 2,
   "outputs": [
    {
     "name": "stderr",
     "output_type": "stream",
     "text": [
      "C:\\Users\\8613902476582\\AppData\\Local\\Temp\\ipykernel_27748\\1292311757.py:5: DtypeWarning: Columns (10) have mixed types. Specify dtype option on import or set low_memory=False.\n",
      "  movies = pd.read_csv(movie_path)\n"
     ]
    },
    {
     "data": {
      "text/plain": "   adult                              belongs_to_collection    budget  \\\n0  False  {'id': 10194, 'name': 'Toy Story Collection', ...  30000000   \n1  False                                                NaN  65000000   \n2  False  {'id': 119050, 'name': 'Grumpy Old Men Collect...         0   \n3  False                                                NaN  16000000   \n4  False  {'id': 96871, 'name': 'Father of the Bride Col...         0   \n\n                                              genres  \\\n0  [{'id': 16, 'name': 'Animation'}, {'id': 35, '...   \n1  [{'id': 12, 'name': 'Adventure'}, {'id': 14, '...   \n2  [{'id': 10749, 'name': 'Romance'}, {'id': 35, ...   \n3  [{'id': 35, 'name': 'Comedy'}, {'id': 18, 'nam...   \n4                     [{'id': 35, 'name': 'Comedy'}]   \n\n                               homepage     id    imdb_id original_language  \\\n0  http://toystory.disney.com/toy-story    862  tt0114709                en   \n1                                   NaN   8844  tt0113497                en   \n2                                   NaN  15602  tt0113228                en   \n3                                   NaN  31357  tt0114885                en   \n4                                   NaN  11862  tt0113041                en   \n\n                original_title  \\\n0                    Toy Story   \n1                      Jumanji   \n2             Grumpier Old Men   \n3            Waiting to Exhale   \n4  Father of the Bride Part II   \n\n                                            overview  ... release_date  \\\n0  Led by Woody, Andy's toys live happily in his ...  ...   1995-10-30   \n1  When siblings Judy and Peter discover an encha...  ...   1995-12-15   \n2  A family wedding reignites the ancient feud be...  ...   1995-12-22   \n3  Cheated on, mistreated and stepped on, the wom...  ...   1995-12-22   \n4  Just when George Banks has recovered from his ...  ...   1995-02-10   \n\n       revenue runtime                                   spoken_languages  \\\n0  373554033.0    81.0           [{'iso_639_1': 'en', 'name': 'English'}]   \n1  262797249.0   104.0  [{'iso_639_1': 'en', 'name': 'English'}, {'iso...   \n2          0.0   101.0           [{'iso_639_1': 'en', 'name': 'English'}]   \n3   81452156.0   127.0           [{'iso_639_1': 'en', 'name': 'English'}]   \n4   76578911.0   106.0           [{'iso_639_1': 'en', 'name': 'English'}]   \n\n     status                                            tagline  \\\n0  Released                                                NaN   \n1  Released          Roll the dice and unleash the excitement!   \n2  Released  Still Yelling. Still Fighting. Still Ready for...   \n3  Released  Friends are the people who let you be yourself...   \n4  Released  Just When His World Is Back To Normal... He's ...   \n\n                         title  video vote_average vote_count  \n0                    Toy Story  False          7.7     5415.0  \n1                      Jumanji  False          6.9     2413.0  \n2             Grumpier Old Men  False          6.5       92.0  \n3            Waiting to Exhale  False          6.1       34.0  \n4  Father of the Bride Part II  False          5.7      173.0  \n\n[5 rows x 24 columns]",
      "text/html": "<div>\n<style scoped>\n    .dataframe tbody tr th:only-of-type {\n        vertical-align: middle;\n    }\n\n    .dataframe tbody tr th {\n        vertical-align: top;\n    }\n\n    .dataframe thead th {\n        text-align: right;\n    }\n</style>\n<table border=\"1\" class=\"dataframe\">\n  <thead>\n    <tr style=\"text-align: right;\">\n      <th></th>\n      <th>adult</th>\n      <th>belongs_to_collection</th>\n      <th>budget</th>\n      <th>genres</th>\n      <th>homepage</th>\n      <th>id</th>\n      <th>imdb_id</th>\n      <th>original_language</th>\n      <th>original_title</th>\n      <th>overview</th>\n      <th>...</th>\n      <th>release_date</th>\n      <th>revenue</th>\n      <th>runtime</th>\n      <th>spoken_languages</th>\n      <th>status</th>\n      <th>tagline</th>\n      <th>title</th>\n      <th>video</th>\n      <th>vote_average</th>\n      <th>vote_count</th>\n    </tr>\n  </thead>\n  <tbody>\n    <tr>\n      <th>0</th>\n      <td>False</td>\n      <td>{'id': 10194, 'name': 'Toy Story Collection', ...</td>\n      <td>30000000</td>\n      <td>[{'id': 16, 'name': 'Animation'}, {'id': 35, '...</td>\n      <td>http://toystory.disney.com/toy-story</td>\n      <td>862</td>\n      <td>tt0114709</td>\n      <td>en</td>\n      <td>Toy Story</td>\n      <td>Led by Woody, Andy's toys live happily in his ...</td>\n      <td>...</td>\n      <td>1995-10-30</td>\n      <td>373554033.0</td>\n      <td>81.0</td>\n      <td>[{'iso_639_1': 'en', 'name': 'English'}]</td>\n      <td>Released</td>\n      <td>NaN</td>\n      <td>Toy Story</td>\n      <td>False</td>\n      <td>7.7</td>\n      <td>5415.0</td>\n    </tr>\n    <tr>\n      <th>1</th>\n      <td>False</td>\n      <td>NaN</td>\n      <td>65000000</td>\n      <td>[{'id': 12, 'name': 'Adventure'}, {'id': 14, '...</td>\n      <td>NaN</td>\n      <td>8844</td>\n      <td>tt0113497</td>\n      <td>en</td>\n      <td>Jumanji</td>\n      <td>When siblings Judy and Peter discover an encha...</td>\n      <td>...</td>\n      <td>1995-12-15</td>\n      <td>262797249.0</td>\n      <td>104.0</td>\n      <td>[{'iso_639_1': 'en', 'name': 'English'}, {'iso...</td>\n      <td>Released</td>\n      <td>Roll the dice and unleash the excitement!</td>\n      <td>Jumanji</td>\n      <td>False</td>\n      <td>6.9</td>\n      <td>2413.0</td>\n    </tr>\n    <tr>\n      <th>2</th>\n      <td>False</td>\n      <td>{'id': 119050, 'name': 'Grumpy Old Men Collect...</td>\n      <td>0</td>\n      <td>[{'id': 10749, 'name': 'Romance'}, {'id': 35, ...</td>\n      <td>NaN</td>\n      <td>15602</td>\n      <td>tt0113228</td>\n      <td>en</td>\n      <td>Grumpier Old Men</td>\n      <td>A family wedding reignites the ancient feud be...</td>\n      <td>...</td>\n      <td>1995-12-22</td>\n      <td>0.0</td>\n      <td>101.0</td>\n      <td>[{'iso_639_1': 'en', 'name': 'English'}]</td>\n      <td>Released</td>\n      <td>Still Yelling. Still Fighting. Still Ready for...</td>\n      <td>Grumpier Old Men</td>\n      <td>False</td>\n      <td>6.5</td>\n      <td>92.0</td>\n    </tr>\n    <tr>\n      <th>3</th>\n      <td>False</td>\n      <td>NaN</td>\n      <td>16000000</td>\n      <td>[{'id': 35, 'name': 'Comedy'}, {'id': 18, 'nam...</td>\n      <td>NaN</td>\n      <td>31357</td>\n      <td>tt0114885</td>\n      <td>en</td>\n      <td>Waiting to Exhale</td>\n      <td>Cheated on, mistreated and stepped on, the wom...</td>\n      <td>...</td>\n      <td>1995-12-22</td>\n      <td>81452156.0</td>\n      <td>127.0</td>\n      <td>[{'iso_639_1': 'en', 'name': 'English'}]</td>\n      <td>Released</td>\n      <td>Friends are the people who let you be yourself...</td>\n      <td>Waiting to Exhale</td>\n      <td>False</td>\n      <td>6.1</td>\n      <td>34.0</td>\n    </tr>\n    <tr>\n      <th>4</th>\n      <td>False</td>\n      <td>{'id': 96871, 'name': 'Father of the Bride Col...</td>\n      <td>0</td>\n      <td>[{'id': 35, 'name': 'Comedy'}]</td>\n      <td>NaN</td>\n      <td>11862</td>\n      <td>tt0113041</td>\n      <td>en</td>\n      <td>Father of the Bride Part II</td>\n      <td>Just when George Banks has recovered from his ...</td>\n      <td>...</td>\n      <td>1995-02-10</td>\n      <td>76578911.0</td>\n      <td>106.0</td>\n      <td>[{'iso_639_1': 'en', 'name': 'English'}]</td>\n      <td>Released</td>\n      <td>Just When His World Is Back To Normal... He's ...</td>\n      <td>Father of the Bride Part II</td>\n      <td>False</td>\n      <td>5.7</td>\n      <td>173.0</td>\n    </tr>\n  </tbody>\n</table>\n<p>5 rows × 24 columns</p>\n</div>"
     },
     "execution_count": 2,
     "metadata": {},
     "output_type": "execute_result"
    }
   ],
   "source": [
    "rating_path = 'dataset/ratings_small.csv'\n",
    "movie_path = 'dataset/movies_metadata.csv'\n",
    "\n",
    "ratings = pd.read_csv(rating_path)\n",
    "movies = pd.read_csv(movie_path)\n",
    "\n",
    "movies.head()"
   ],
   "metadata": {
    "collapsed": false,
    "ExecuteTime": {
     "end_time": "2024-04-23T22:51:14.308405300Z",
     "start_time": "2024-04-23T22:51:13.512245400Z"
    }
   },
   "id": "f6266e373e2b5597"
  },
  {
   "cell_type": "code",
   "execution_count": 3,
   "outputs": [
    {
     "name": "stdout",
     "output_type": "stream",
     "text": [
      "<class 'pandas.core.frame.DataFrame'>\n",
      "RangeIndex: 45466 entries, 0 to 45465\n",
      "Data columns (total 24 columns):\n",
      " #   Column                 Non-Null Count  Dtype  \n",
      "---  ------                 --------------  -----  \n",
      " 0   adult                  45466 non-null  object \n",
      " 1   belongs_to_collection  4494 non-null   object \n",
      " 2   budget                 45466 non-null  object \n",
      " 3   genres                 45466 non-null  object \n",
      " 4   homepage               7782 non-null   object \n",
      " 5   id                     45466 non-null  object \n",
      " 6   imdb_id                45449 non-null  object \n",
      " 7   original_language      45455 non-null  object \n",
      " 8   original_title         45466 non-null  object \n",
      " 9   overview               44512 non-null  object \n",
      " 10  popularity             45461 non-null  object \n",
      " 11  poster_path            45080 non-null  object \n",
      " 12  production_companies   45463 non-null  object \n",
      " 13  production_countries   45463 non-null  object \n",
      " 14  release_date           45379 non-null  object \n",
      " 15  revenue                45460 non-null  float64\n",
      " 16  runtime                45203 non-null  float64\n",
      " 17  spoken_languages       45460 non-null  object \n",
      " 18  status                 45379 non-null  object \n",
      " 19  tagline                20412 non-null  object \n",
      " 20  title                  45460 non-null  object \n",
      " 21  video                  45460 non-null  object \n",
      " 22  vote_average           45460 non-null  float64\n",
      " 23  vote_count             45460 non-null  float64\n",
      "dtypes: float64(4), object(20)\n",
      "memory usage: 8.3+ MB\n"
     ]
    }
   ],
   "source": [
    "movies.info()"
   ],
   "metadata": {
    "collapsed": false,
    "ExecuteTime": {
     "end_time": "2024-04-23T22:51:21.000511900Z",
     "start_time": "2024-04-23T22:51:20.949131800Z"
    }
   },
   "id": "9f56c52f2e584bc1"
  },
  {
   "cell_type": "code",
   "execution_count": 4,
   "outputs": [
    {
     "data": {
      "text/plain": "      id                        title  \\\n0    862                    Toy Story   \n1   8844                      Jumanji   \n2  15602             Grumpier Old Men   \n3  31357            Waiting to Exhale   \n4  11862  Father of the Bride Part II   \n\n                                              genres  \n0  [{'id': 16, 'name': 'Animation'}, {'id': 35, '...  \n1  [{'id': 12, 'name': 'Adventure'}, {'id': 14, '...  \n2  [{'id': 10749, 'name': 'Romance'}, {'id': 35, ...  \n3  [{'id': 35, 'name': 'Comedy'}, {'id': 18, 'nam...  \n4                     [{'id': 35, 'name': 'Comedy'}]  ",
      "text/html": "<div>\n<style scoped>\n    .dataframe tbody tr th:only-of-type {\n        vertical-align: middle;\n    }\n\n    .dataframe tbody tr th {\n        vertical-align: top;\n    }\n\n    .dataframe thead th {\n        text-align: right;\n    }\n</style>\n<table border=\"1\" class=\"dataframe\">\n  <thead>\n    <tr style=\"text-align: right;\">\n      <th></th>\n      <th>id</th>\n      <th>title</th>\n      <th>genres</th>\n    </tr>\n  </thead>\n  <tbody>\n    <tr>\n      <th>0</th>\n      <td>862</td>\n      <td>Toy Story</td>\n      <td>[{'id': 16, 'name': 'Animation'}, {'id': 35, '...</td>\n    </tr>\n    <tr>\n      <th>1</th>\n      <td>8844</td>\n      <td>Jumanji</td>\n      <td>[{'id': 12, 'name': 'Adventure'}, {'id': 14, '...</td>\n    </tr>\n    <tr>\n      <th>2</th>\n      <td>15602</td>\n      <td>Grumpier Old Men</td>\n      <td>[{'id': 10749, 'name': 'Romance'}, {'id': 35, ...</td>\n    </tr>\n    <tr>\n      <th>3</th>\n      <td>31357</td>\n      <td>Waiting to Exhale</td>\n      <td>[{'id': 35, 'name': 'Comedy'}, {'id': 18, 'nam...</td>\n    </tr>\n    <tr>\n      <th>4</th>\n      <td>11862</td>\n      <td>Father of the Bride Part II</td>\n      <td>[{'id': 35, 'name': 'Comedy'}]</td>\n    </tr>\n  </tbody>\n</table>\n</div>"
     },
     "execution_count": 4,
     "metadata": {},
     "output_type": "execute_result"
    }
   ],
   "source": [
    "desired_columns = ['id', 'title', 'genres']\n",
    "movies_refined = movies.loc[:, desired_columns]\n",
    "movies_refined.head()"
   ],
   "metadata": {
    "collapsed": false,
    "ExecuteTime": {
     "end_time": "2024-04-23T22:51:24.674051400Z",
     "start_time": "2024-04-23T22:51:24.648293400Z"
    }
   },
   "id": "449fd3bfe4512c2b"
  },
  {
   "cell_type": "code",
   "execution_count": 5,
   "outputs": [
    {
     "data": {
      "text/plain": "      id                        title  \\\n0    862                    Toy Story   \n1   8844                      Jumanji   \n2  15602             Grumpier Old Men   \n3  31357            Waiting to Exhale   \n4  11862  Father of the Bride Part II   \n\n                                              genres  \n0  [{\"id\": 16, \"name\": \"Animation\"}, {\"id\": 35, \"...  \n1  [{\"id\": 12, \"name\": \"Adventure\"}, {\"id\": 14, \"...  \n2  [{\"id\": 10749, \"name\": \"Romance\"}, {\"id\": 35, ...  \n3  [{\"id\": 35, \"name\": \"Comedy\"}, {\"id\": 18, \"nam...  \n4                     [{\"id\": 35, \"name\": \"Comedy\"}]  ",
      "text/html": "<div>\n<style scoped>\n    .dataframe tbody tr th:only-of-type {\n        vertical-align: middle;\n    }\n\n    .dataframe tbody tr th {\n        vertical-align: top;\n    }\n\n    .dataframe thead th {\n        text-align: right;\n    }\n</style>\n<table border=\"1\" class=\"dataframe\">\n  <thead>\n    <tr style=\"text-align: right;\">\n      <th></th>\n      <th>id</th>\n      <th>title</th>\n      <th>genres</th>\n    </tr>\n  </thead>\n  <tbody>\n    <tr>\n      <th>0</th>\n      <td>862</td>\n      <td>Toy Story</td>\n      <td>[{\"id\": 16, \"name\": \"Animation\"}, {\"id\": 35, \"...</td>\n    </tr>\n    <tr>\n      <th>1</th>\n      <td>8844</td>\n      <td>Jumanji</td>\n      <td>[{\"id\": 12, \"name\": \"Adventure\"}, {\"id\": 14, \"...</td>\n    </tr>\n    <tr>\n      <th>2</th>\n      <td>15602</td>\n      <td>Grumpier Old Men</td>\n      <td>[{\"id\": 10749, \"name\": \"Romance\"}, {\"id\": 35, ...</td>\n    </tr>\n    <tr>\n      <th>3</th>\n      <td>31357</td>\n      <td>Waiting to Exhale</td>\n      <td>[{\"id\": 35, \"name\": \"Comedy\"}, {\"id\": 18, \"nam...</td>\n    </tr>\n    <tr>\n      <th>4</th>\n      <td>11862</td>\n      <td>Father of the Bride Part II</td>\n      <td>[{\"id\": 35, \"name\": \"Comedy\"}]</td>\n    </tr>\n  </tbody>\n</table>\n</div>"
     },
     "execution_count": 5,
     "metadata": {},
     "output_type": "execute_result"
    }
   ],
   "source": [
    "movies_refined['genres'] = movies_refined['genres'].str.replace(\"'\", '\"')\n",
    "movies_refined.head()"
   ],
   "metadata": {
    "collapsed": false,
    "ExecuteTime": {
     "end_time": "2024-04-23T22:51:28.094676100Z",
     "start_time": "2024-04-23T22:51:28.056593200Z"
    }
   },
   "id": "bf8a13e5e00b804a"
  },
  {
   "cell_type": "code",
   "execution_count": 6,
   "outputs": [],
   "source": [
    "def EDA_genres(genre):\n",
    "    result = ''\n",
    "    \n",
    "    genre_list = json.loads(genre)\n",
    "    \n",
    "    for g in genre_list:\n",
    "        result += g['name'] + ','\n",
    "        \n",
    "    return result[:-1]"
   ],
   "metadata": {
    "collapsed": false,
    "ExecuteTime": {
     "end_time": "2024-04-23T22:51:30.191790500Z",
     "start_time": "2024-04-23T22:51:30.156470900Z"
    }
   },
   "id": "53d973a3086edd45"
  },
  {
   "cell_type": "code",
   "execution_count": 7,
   "outputs": [
    {
     "data": {
      "text/plain": "      id                        title  \\\n0    862                    Toy Story   \n1   8844                      Jumanji   \n2  15602             Grumpier Old Men   \n3  31357            Waiting to Exhale   \n4  11862  Father of the Bride Part II   \n\n                                              genres                 AllGenres  \n0  [{\"id\": 16, \"name\": \"Animation\"}, {\"id\": 35, \"...   Animation,Comedy,Family  \n1  [{\"id\": 12, \"name\": \"Adventure\"}, {\"id\": 14, \"...  Adventure,Fantasy,Family  \n2  [{\"id\": 10749, \"name\": \"Romance\"}, {\"id\": 35, ...            Romance,Comedy  \n3  [{\"id\": 35, \"name\": \"Comedy\"}, {\"id\": 18, \"nam...      Comedy,Drama,Romance  \n4                     [{\"id\": 35, \"name\": \"Comedy\"}]                    Comedy  ",
      "text/html": "<div>\n<style scoped>\n    .dataframe tbody tr th:only-of-type {\n        vertical-align: middle;\n    }\n\n    .dataframe tbody tr th {\n        vertical-align: top;\n    }\n\n    .dataframe thead th {\n        text-align: right;\n    }\n</style>\n<table border=\"1\" class=\"dataframe\">\n  <thead>\n    <tr style=\"text-align: right;\">\n      <th></th>\n      <th>id</th>\n      <th>title</th>\n      <th>genres</th>\n      <th>AllGenres</th>\n    </tr>\n  </thead>\n  <tbody>\n    <tr>\n      <th>0</th>\n      <td>862</td>\n      <td>Toy Story</td>\n      <td>[{\"id\": 16, \"name\": \"Animation\"}, {\"id\": 35, \"...</td>\n      <td>Animation,Comedy,Family</td>\n    </tr>\n    <tr>\n      <th>1</th>\n      <td>8844</td>\n      <td>Jumanji</td>\n      <td>[{\"id\": 12, \"name\": \"Adventure\"}, {\"id\": 14, \"...</td>\n      <td>Adventure,Fantasy,Family</td>\n    </tr>\n    <tr>\n      <th>2</th>\n      <td>15602</td>\n      <td>Grumpier Old Men</td>\n      <td>[{\"id\": 10749, \"name\": \"Romance\"}, {\"id\": 35, ...</td>\n      <td>Romance,Comedy</td>\n    </tr>\n    <tr>\n      <th>3</th>\n      <td>31357</td>\n      <td>Waiting to Exhale</td>\n      <td>[{\"id\": 35, \"name\": \"Comedy\"}, {\"id\": 18, \"nam...</td>\n      <td>Comedy,Drama,Romance</td>\n    </tr>\n    <tr>\n      <th>4</th>\n      <td>11862</td>\n      <td>Father of the Bride Part II</td>\n      <td>[{\"id\": 35, \"name\": \"Comedy\"}]</td>\n      <td>Comedy</td>\n    </tr>\n  </tbody>\n</table>\n</div>"
     },
     "execution_count": 7,
     "metadata": {},
     "output_type": "execute_result"
    }
   ],
   "source": [
    "movies_refined['AllGenres'] = movies_refined['genres'].apply(EDA_genres)\n",
    "movies_refined.head()"
   ],
   "metadata": {
    "collapsed": false,
    "ExecuteTime": {
     "end_time": "2024-04-23T22:51:30.877323100Z",
     "start_time": "2024-04-23T22:51:30.687603Z"
    }
   },
   "id": "b354e2477b6e6c4a"
  },
  {
   "cell_type": "code",
   "execution_count": 8,
   "outputs": [
    {
     "data": {
      "text/plain": "30"
     },
     "execution_count": 8,
     "metadata": {},
     "output_type": "execute_result"
    }
   ],
   "source": [
    "movies_refined.duplicated(subset=['id', 'title']).sum()"
   ],
   "metadata": {
    "collapsed": false,
    "ExecuteTime": {
     "end_time": "2024-04-23T22:51:32.514827500Z",
     "start_time": "2024-04-23T22:51:32.441966200Z"
    }
   },
   "id": "80a1e3677a66c2b1"
  },
  {
   "cell_type": "markdown",
   "source": [
    "#### It is a very very commen thing that movies have the same names\n",
    "#### we only need to deal with duplicated IDs"
   ],
   "metadata": {
    "collapsed": false
   },
   "id": "bfade8be091c4a27"
  },
  {
   "cell_type": "code",
   "execution_count": 9,
   "outputs": [
    {
     "data": {
      "text/plain": "3188"
     },
     "execution_count": 9,
     "metadata": {},
     "output_type": "execute_result"
    }
   ],
   "source": [
    "movies_refined.duplicated(subset=['title', ]).sum()"
   ],
   "metadata": {
    "collapsed": false,
    "ExecuteTime": {
     "end_time": "2024-04-23T22:51:35.194914600Z",
     "start_time": "2024-04-23T22:51:35.172703900Z"
    }
   },
   "id": "f2300f325bb85698"
  },
  {
   "cell_type": "code",
   "execution_count": 10,
   "outputs": [
    {
     "data": {
      "text/plain": "   userId  movieId  rating   timestamp\n0       1       31     2.5  1260759144\n1       1     1029     3.0  1260759179\n2       1     1061     3.0  1260759182\n3       1     1129     2.0  1260759185\n4       1     1172     4.0  1260759205",
      "text/html": "<div>\n<style scoped>\n    .dataframe tbody tr th:only-of-type {\n        vertical-align: middle;\n    }\n\n    .dataframe tbody tr th {\n        vertical-align: top;\n    }\n\n    .dataframe thead th {\n        text-align: right;\n    }\n</style>\n<table border=\"1\" class=\"dataframe\">\n  <thead>\n    <tr style=\"text-align: right;\">\n      <th></th>\n      <th>userId</th>\n      <th>movieId</th>\n      <th>rating</th>\n      <th>timestamp</th>\n    </tr>\n  </thead>\n  <tbody>\n    <tr>\n      <th>0</th>\n      <td>1</td>\n      <td>31</td>\n      <td>2.5</td>\n      <td>1260759144</td>\n    </tr>\n    <tr>\n      <th>1</th>\n      <td>1</td>\n      <td>1029</td>\n      <td>3.0</td>\n      <td>1260759179</td>\n    </tr>\n    <tr>\n      <th>2</th>\n      <td>1</td>\n      <td>1061</td>\n      <td>3.0</td>\n      <td>1260759182</td>\n    </tr>\n    <tr>\n      <th>3</th>\n      <td>1</td>\n      <td>1129</td>\n      <td>2.0</td>\n      <td>1260759185</td>\n    </tr>\n    <tr>\n      <th>4</th>\n      <td>1</td>\n      <td>1172</td>\n      <td>4.0</td>\n      <td>1260759205</td>\n    </tr>\n  </tbody>\n</table>\n</div>"
     },
     "execution_count": 10,
     "metadata": {},
     "output_type": "execute_result"
    }
   ],
   "source": [
    "ratings.head()"
   ],
   "metadata": {
    "collapsed": false,
    "ExecuteTime": {
     "end_time": "2024-04-23T22:51:36.538997500Z",
     "start_time": "2024-04-23T22:51:36.513885900Z"
    }
   },
   "id": "1c6546a49b0eb8b3"
  },
  {
   "cell_type": "code",
   "execution_count": 11,
   "outputs": [
    {
     "data": {
      "text/plain": "           id                                        title  \\\n15074   22649                           A Farewell to Arms   \n21116   84198                         A Place at the Table   \n20843   77221                                   Black Gold   \n13375  141971                                     Blackout   \n16764  141971                                     Blackout   \n23044   25541                                  Brotherhood   \n12066   14788                                       Bubble   \n23534  110428                         Camille Claudel 1915   \n40040  298721                        Cemetery of Splendour   \n33743   15028                                Clockstoppers   \n33826    4912              Confessions of a Dangerous Mind   \n22151   18440                             Days of Darkness   \n24844   11115                                         Deal   \n45265  265189                                Force Majeure   \n29374   42495                                    King Lear   \n9165     5511                                  Le Samouraï   \n28860  168538               Nana, the True Key of Pleasure   \n15765   13209                                      Offside   \n44826   12600  Pokémon 4Ever: Celebi - Voice of the Forest   \n44821   10991                Pokémon: Spell of the Unknown   \n20899  109962                              Rich and Famous   \n40276   97995                         Seven Years Bad Luck   \n21854  152795                                 The Congress   \n26625   69234                     The Phantom of the Opera   \n1465   105045                                  The Promise   \n21165  119916                                  The Tempest   \n38871   99080                                   The Viking   \n9327    23305                                  The Warrior   \n35798  159849             Why We Fight: Divide and Conquer   \n30001  132641                                         Wife   \n\n                                                  genres  \\\n15074  [{\"id\": 18, \"name\": \"Drama\"}, {\"id\": 10749, \"n...   \n21116                [{\"id\": 99, \"name\": \"Documentary\"}]   \n20843  [{\"id\": 12, \"name\": \"Adventure\"}, {\"id\": 18, \"...   \n13375  [{\"id\": 53, \"name\": \"Thriller\"}, {\"id\": 9648, ...   \n16764  [{\"id\": 53, \"name\": \"Thriller\"}, {\"id\": 9648, ...   \n23044                      [{\"id\": 18, \"name\": \"Drama\"}]   \n12066  [{\"id\": 18, \"name\": \"Drama\"}, {\"id\": 80, \"name...   \n23534                      [{\"id\": 18, \"name\": \"Drama\"}]   \n40040  [{\"id\": 18, \"name\": \"Drama\"}, {\"id\": 14, \"name...   \n33743  [{\"id\": 12, \"name\": \"Adventure\"}, {\"id\": 10751...   \n33826  [{\"id\": 35, \"name\": \"Comedy\"}, {\"id\": 80, \"nam...   \n22151  [{\"id\": 28, \"name\": \"Action\"}, {\"id\": 27, \"nam...   \n24844  [{\"id\": 35, \"name\": \"Comedy\"}, {\"id\": 18, \"nam...   \n45265  [{\"id\": 35, \"name\": \"Comedy\"}, {\"id\": 18, \"nam...   \n29374  [{\"id\": 18, \"name\": \"Drama\"}, {\"id\": 10769, \"n...   \n9165   [{\"id\": 80, \"name\": \"Crime\"}, {\"id\": 18, \"name...   \n28860  [{\"id\": 18, \"name\": \"Drama\"}, {\"id\": 35, \"name...   \n15765  [{\"id\": 18, \"name\": \"Drama\"}, {\"id\": 35, \"name...   \n44826  [{\"id\": 12, \"name\": \"Adventure\"}, {\"id\": 14, \"...   \n44821  [{\"id\": 12, \"name\": \"Adventure\"}, {\"id\": 14, \"...   \n20899                      [{\"id\": 18, \"name\": \"Drama\"}]   \n40276                     [{\"id\": 35, \"name\": \"Comedy\"}]   \n21854  [{\"id\": 18, \"name\": \"Drama\"}, {\"id\": 878, \"nam...   \n26625  [{\"id\": 18, \"name\": \"Drama\"}, {\"id\": 27, \"name...   \n1465   [{\"id\": 18, \"name\": \"Drama\"}, {\"id\": 10749, \"n...   \n21165  [{\"id\": 14, \"name\": \"Fantasy\"}, {\"id\": 18, \"na...   \n38871  [{\"id\": 28, \"name\": \"Action\"}, {\"id\": 18, \"nam...   \n9327   [{\"id\": 12, \"name\": \"Adventure\"}, {\"id\": 16, \"...   \n35798                [{\"id\": 99, \"name\": \"Documentary\"}]   \n30001                      [{\"id\": 18, \"name\": \"Drama\"}]   \n\n                                               AllGenres  \n15074                                  Drama,Romance,War  \n21116                                        Documentary  \n20843                                    Adventure,Drama  \n13375                                   Thriller,Mystery  \n16764                                   Thriller,Mystery  \n23044                                              Drama  \n12066                                Drama,Crime,Mystery  \n23534                                              Drama  \n40040                                      Drama,Fantasy  \n33743          Adventure,Family,Science Fiction,Thriller  \n33826                Comedy,Crime,Drama,Romance,Thriller  \n22151                      Action,Horror,Science Fiction  \n24844                                       Comedy,Drama  \n45265                                       Comedy,Drama  \n29374                                      Drama,Foreign  \n9165                                Crime,Drama,Thriller  \n28860                                       Drama,Comedy  \n15765                               Drama,Comedy,Foreign  \n44826  Adventure,Fantasy,Animation,Science Fiction,Fa...  \n44821          Adventure,Fantasy,Animation,Action,Family  \n20899                                              Drama  \n40276                                             Comedy  \n21854                    Drama,Science Fiction,Animation  \n26625                Drama,Horror,Music,Romance,TV Movie  \n1465                                       Drama,Romance  \n21165                      Fantasy,Drama,Science Fiction  \n38871                     Action,Drama,Romance,Adventure  \n9327            Adventure,Animation,Drama,Action,Foreign  \n35798                                        Documentary  \n30001                                              Drama  ",
      "text/html": "<div>\n<style scoped>\n    .dataframe tbody tr th:only-of-type {\n        vertical-align: middle;\n    }\n\n    .dataframe tbody tr th {\n        vertical-align: top;\n    }\n\n    .dataframe thead th {\n        text-align: right;\n    }\n</style>\n<table border=\"1\" class=\"dataframe\">\n  <thead>\n    <tr style=\"text-align: right;\">\n      <th></th>\n      <th>id</th>\n      <th>title</th>\n      <th>genres</th>\n      <th>AllGenres</th>\n    </tr>\n  </thead>\n  <tbody>\n    <tr>\n      <th>15074</th>\n      <td>22649</td>\n      <td>A Farewell to Arms</td>\n      <td>[{\"id\": 18, \"name\": \"Drama\"}, {\"id\": 10749, \"n...</td>\n      <td>Drama,Romance,War</td>\n    </tr>\n    <tr>\n      <th>21116</th>\n      <td>84198</td>\n      <td>A Place at the Table</td>\n      <td>[{\"id\": 99, \"name\": \"Documentary\"}]</td>\n      <td>Documentary</td>\n    </tr>\n    <tr>\n      <th>20843</th>\n      <td>77221</td>\n      <td>Black Gold</td>\n      <td>[{\"id\": 12, \"name\": \"Adventure\"}, {\"id\": 18, \"...</td>\n      <td>Adventure,Drama</td>\n    </tr>\n    <tr>\n      <th>13375</th>\n      <td>141971</td>\n      <td>Blackout</td>\n      <td>[{\"id\": 53, \"name\": \"Thriller\"}, {\"id\": 9648, ...</td>\n      <td>Thriller,Mystery</td>\n    </tr>\n    <tr>\n      <th>16764</th>\n      <td>141971</td>\n      <td>Blackout</td>\n      <td>[{\"id\": 53, \"name\": \"Thriller\"}, {\"id\": 9648, ...</td>\n      <td>Thriller,Mystery</td>\n    </tr>\n    <tr>\n      <th>23044</th>\n      <td>25541</td>\n      <td>Brotherhood</td>\n      <td>[{\"id\": 18, \"name\": \"Drama\"}]</td>\n      <td>Drama</td>\n    </tr>\n    <tr>\n      <th>12066</th>\n      <td>14788</td>\n      <td>Bubble</td>\n      <td>[{\"id\": 18, \"name\": \"Drama\"}, {\"id\": 80, \"name...</td>\n      <td>Drama,Crime,Mystery</td>\n    </tr>\n    <tr>\n      <th>23534</th>\n      <td>110428</td>\n      <td>Camille Claudel 1915</td>\n      <td>[{\"id\": 18, \"name\": \"Drama\"}]</td>\n      <td>Drama</td>\n    </tr>\n    <tr>\n      <th>40040</th>\n      <td>298721</td>\n      <td>Cemetery of Splendour</td>\n      <td>[{\"id\": 18, \"name\": \"Drama\"}, {\"id\": 14, \"name...</td>\n      <td>Drama,Fantasy</td>\n    </tr>\n    <tr>\n      <th>33743</th>\n      <td>15028</td>\n      <td>Clockstoppers</td>\n      <td>[{\"id\": 12, \"name\": \"Adventure\"}, {\"id\": 10751...</td>\n      <td>Adventure,Family,Science Fiction,Thriller</td>\n    </tr>\n    <tr>\n      <th>33826</th>\n      <td>4912</td>\n      <td>Confessions of a Dangerous Mind</td>\n      <td>[{\"id\": 35, \"name\": \"Comedy\"}, {\"id\": 80, \"nam...</td>\n      <td>Comedy,Crime,Drama,Romance,Thriller</td>\n    </tr>\n    <tr>\n      <th>22151</th>\n      <td>18440</td>\n      <td>Days of Darkness</td>\n      <td>[{\"id\": 28, \"name\": \"Action\"}, {\"id\": 27, \"nam...</td>\n      <td>Action,Horror,Science Fiction</td>\n    </tr>\n    <tr>\n      <th>24844</th>\n      <td>11115</td>\n      <td>Deal</td>\n      <td>[{\"id\": 35, \"name\": \"Comedy\"}, {\"id\": 18, \"nam...</td>\n      <td>Comedy,Drama</td>\n    </tr>\n    <tr>\n      <th>45265</th>\n      <td>265189</td>\n      <td>Force Majeure</td>\n      <td>[{\"id\": 35, \"name\": \"Comedy\"}, {\"id\": 18, \"nam...</td>\n      <td>Comedy,Drama</td>\n    </tr>\n    <tr>\n      <th>29374</th>\n      <td>42495</td>\n      <td>King Lear</td>\n      <td>[{\"id\": 18, \"name\": \"Drama\"}, {\"id\": 10769, \"n...</td>\n      <td>Drama,Foreign</td>\n    </tr>\n    <tr>\n      <th>9165</th>\n      <td>5511</td>\n      <td>Le Samouraï</td>\n      <td>[{\"id\": 80, \"name\": \"Crime\"}, {\"id\": 18, \"name...</td>\n      <td>Crime,Drama,Thriller</td>\n    </tr>\n    <tr>\n      <th>28860</th>\n      <td>168538</td>\n      <td>Nana, the True Key of Pleasure</td>\n      <td>[{\"id\": 18, \"name\": \"Drama\"}, {\"id\": 35, \"name...</td>\n      <td>Drama,Comedy</td>\n    </tr>\n    <tr>\n      <th>15765</th>\n      <td>13209</td>\n      <td>Offside</td>\n      <td>[{\"id\": 18, \"name\": \"Drama\"}, {\"id\": 35, \"name...</td>\n      <td>Drama,Comedy,Foreign</td>\n    </tr>\n    <tr>\n      <th>44826</th>\n      <td>12600</td>\n      <td>Pokémon 4Ever: Celebi - Voice of the Forest</td>\n      <td>[{\"id\": 12, \"name\": \"Adventure\"}, {\"id\": 14, \"...</td>\n      <td>Adventure,Fantasy,Animation,Science Fiction,Fa...</td>\n    </tr>\n    <tr>\n      <th>44821</th>\n      <td>10991</td>\n      <td>Pokémon: Spell of the Unknown</td>\n      <td>[{\"id\": 12, \"name\": \"Adventure\"}, {\"id\": 14, \"...</td>\n      <td>Adventure,Fantasy,Animation,Action,Family</td>\n    </tr>\n    <tr>\n      <th>20899</th>\n      <td>109962</td>\n      <td>Rich and Famous</td>\n      <td>[{\"id\": 18, \"name\": \"Drama\"}]</td>\n      <td>Drama</td>\n    </tr>\n    <tr>\n      <th>40276</th>\n      <td>97995</td>\n      <td>Seven Years Bad Luck</td>\n      <td>[{\"id\": 35, \"name\": \"Comedy\"}]</td>\n      <td>Comedy</td>\n    </tr>\n    <tr>\n      <th>21854</th>\n      <td>152795</td>\n      <td>The Congress</td>\n      <td>[{\"id\": 18, \"name\": \"Drama\"}, {\"id\": 878, \"nam...</td>\n      <td>Drama,Science Fiction,Animation</td>\n    </tr>\n    <tr>\n      <th>26625</th>\n      <td>69234</td>\n      <td>The Phantom of the Opera</td>\n      <td>[{\"id\": 18, \"name\": \"Drama\"}, {\"id\": 27, \"name...</td>\n      <td>Drama,Horror,Music,Romance,TV Movie</td>\n    </tr>\n    <tr>\n      <th>1465</th>\n      <td>105045</td>\n      <td>The Promise</td>\n      <td>[{\"id\": 18, \"name\": \"Drama\"}, {\"id\": 10749, \"n...</td>\n      <td>Drama,Romance</td>\n    </tr>\n    <tr>\n      <th>21165</th>\n      <td>119916</td>\n      <td>The Tempest</td>\n      <td>[{\"id\": 14, \"name\": \"Fantasy\"}, {\"id\": 18, \"na...</td>\n      <td>Fantasy,Drama,Science Fiction</td>\n    </tr>\n    <tr>\n      <th>38871</th>\n      <td>99080</td>\n      <td>The Viking</td>\n      <td>[{\"id\": 28, \"name\": \"Action\"}, {\"id\": 18, \"nam...</td>\n      <td>Action,Drama,Romance,Adventure</td>\n    </tr>\n    <tr>\n      <th>9327</th>\n      <td>23305</td>\n      <td>The Warrior</td>\n      <td>[{\"id\": 12, \"name\": \"Adventure\"}, {\"id\": 16, \"...</td>\n      <td>Adventure,Animation,Drama,Action,Foreign</td>\n    </tr>\n    <tr>\n      <th>35798</th>\n      <td>159849</td>\n      <td>Why We Fight: Divide and Conquer</td>\n      <td>[{\"id\": 99, \"name\": \"Documentary\"}]</td>\n      <td>Documentary</td>\n    </tr>\n    <tr>\n      <th>30001</th>\n      <td>132641</td>\n      <td>Wife</td>\n      <td>[{\"id\": 18, \"name\": \"Drama\"}]</td>\n      <td>Drama</td>\n    </tr>\n  </tbody>\n</table>\n</div>"
     },
     "execution_count": 11,
     "metadata": {},
     "output_type": "execute_result"
    }
   ],
   "source": [
    "dup = movies_refined.duplicated(subset=['id', 'title'])\n",
    "dup_movies = movies_refined[dup].sort_values(by='title')\n",
    "dup_movies"
   ],
   "metadata": {
    "collapsed": false,
    "ExecuteTime": {
     "end_time": "2024-04-23T22:51:37.266511100Z",
     "start_time": "2024-04-23T22:51:37.217790900Z"
    }
   },
   "id": "e4fdbe960dc83ec0"
  },
  {
   "cell_type": "markdown",
   "source": [
    "### very lucky"
   ],
   "metadata": {
    "collapsed": false
   },
   "id": "86cae3bb237deb99"
  },
  {
   "cell_type": "code",
   "execution_count": 12,
   "outputs": [],
   "source": [
    "dup_ids = dup_movies['id']\n",
    "\n",
    "for id in dup_ids:\n",
    "    if id in ratings['movieId']:\n",
    "        print(id)"
   ],
   "metadata": {
    "collapsed": false,
    "ExecuteTime": {
     "end_time": "2024-04-23T22:51:45.937896600Z",
     "start_time": "2024-04-23T22:51:45.927583100Z"
    }
   },
   "id": "c38c90ef372d5bd0"
  },
  {
   "cell_type": "code",
   "execution_count": 13,
   "outputs": [
    {
     "data": {
      "text/plain": "0"
     },
     "execution_count": 13,
     "metadata": {},
     "output_type": "execute_result"
    }
   ],
   "source": [
    "movies_refined = movies_refined.drop_duplicates()\n",
    "movies_refined.duplicated(subset=['id', 'title']).sum()"
   ],
   "metadata": {
    "collapsed": false,
    "ExecuteTime": {
     "end_time": "2024-04-23T22:51:47.174347700Z",
     "start_time": "2024-04-23T22:51:47.104420400Z"
    }
   },
   "id": "8e05999fc90c9b2c"
  },
  {
   "cell_type": "code",
   "execution_count": 14,
   "outputs": [
    {
     "data": {
      "text/plain": "id           0\ngenres       0\nAllGenres    0\ntitle        6\ndtype: int64"
     },
     "execution_count": 14,
     "metadata": {},
     "output_type": "execute_result"
    }
   ],
   "source": [
    "movies_refined.isnull().sum().sort_values()"
   ],
   "metadata": {
    "collapsed": false,
    "ExecuteTime": {
     "end_time": "2024-04-23T22:51:56.362147800Z",
     "start_time": "2024-04-23T22:51:56.345409200Z"
    }
   },
   "id": "32f6a95ecef25864"
  },
  {
   "cell_type": "code",
   "execution_count": 15,
   "outputs": [
    {
     "data": {
      "text/plain": "id           0\ntitle        0\ngenres       0\nAllGenres    0\ndtype: int64"
     },
     "execution_count": 15,
     "metadata": {},
     "output_type": "execute_result"
    }
   ],
   "source": [
    "movies_refined = movies_refined.fillna('')\n",
    "movies_refined.isnull().sum().sort_values()"
   ],
   "metadata": {
    "collapsed": false,
    "ExecuteTime": {
     "end_time": "2024-04-23T22:51:57.179903800Z",
     "start_time": "2024-04-23T22:51:57.145934700Z"
    }
   },
   "id": "9fb72219b9b0b427"
  },
  {
   "cell_type": "code",
   "execution_count": 18,
   "outputs": [],
   "source": [
    "# movies_refined.to_csv('dataset/movies_refined.csv', index=False)"
   ],
   "metadata": {
    "collapsed": false,
    "ExecuteTime": {
     "end_time": "2024-04-23T19:15:33.024159Z",
     "start_time": "2024-04-23T19:15:32.870488200Z"
    }
   },
   "id": "37ff9b4fbc6ab0f6"
  },
  {
   "cell_type": "code",
   "execution_count": 18,
   "outputs": [
    {
     "data": {
      "text/plain": "9066"
     },
     "execution_count": 18,
     "metadata": {},
     "output_type": "execute_result"
    }
   ],
   "source": [
    "unique_movie_id = ratings.movieId.unique().tolist()\n",
    "len(unique_movie_id)"
   ],
   "metadata": {
    "collapsed": false,
    "ExecuteTime": {
     "end_time": "2024-04-23T22:53:58.388997700Z",
     "start_time": "2024-04-23T22:53:58.372417600Z"
    }
   },
   "id": "73985a1593f084d0"
  },
  {
   "cell_type": "code",
   "execution_count": 20,
   "outputs": [
    {
     "data": {
      "text/plain": "    userId  movieId  rating   timestamp\n2        1     1061     3.0  1260759182\n3        1     1129     2.0  1260759185\n6        1     1287     2.0  1260759187\n7        1     1293     2.0  1260759148\n11       1     1405     1.0  1260759203",
      "text/html": "<div>\n<style scoped>\n    .dataframe tbody tr th:only-of-type {\n        vertical-align: middle;\n    }\n\n    .dataframe tbody tr th {\n        vertical-align: top;\n    }\n\n    .dataframe thead th {\n        text-align: right;\n    }\n</style>\n<table border=\"1\" class=\"dataframe\">\n  <thead>\n    <tr style=\"text-align: right;\">\n      <th></th>\n      <th>userId</th>\n      <th>movieId</th>\n      <th>rating</th>\n      <th>timestamp</th>\n    </tr>\n  </thead>\n  <tbody>\n    <tr>\n      <th>2</th>\n      <td>1</td>\n      <td>1061</td>\n      <td>3.0</td>\n      <td>1260759182</td>\n    </tr>\n    <tr>\n      <th>3</th>\n      <td>1</td>\n      <td>1129</td>\n      <td>2.0</td>\n      <td>1260759185</td>\n    </tr>\n    <tr>\n      <th>6</th>\n      <td>1</td>\n      <td>1287</td>\n      <td>2.0</td>\n      <td>1260759187</td>\n    </tr>\n    <tr>\n      <th>7</th>\n      <td>1</td>\n      <td>1293</td>\n      <td>2.0</td>\n      <td>1260759148</td>\n    </tr>\n    <tr>\n      <th>11</th>\n      <td>1</td>\n      <td>1405</td>\n      <td>1.0</td>\n      <td>1260759203</td>\n    </tr>\n  </tbody>\n</table>\n</div>"
     },
     "execution_count": 20,
     "metadata": {},
     "output_type": "execute_result"
    }
   ],
   "source": [
    "sample_ids = np.random.choice(unique_movie_id, size=5000, replace=False)\n",
    "ratings_5000 = ratings[ratings['movieId'].isin(sample_ids)]\n",
    "ratings_5000.head()"
   ],
   "metadata": {
    "collapsed": false,
    "ExecuteTime": {
     "end_time": "2024-04-23T23:00:23.004253900Z",
     "start_time": "2024-04-23T23:00:22.986384Z"
    }
   },
   "id": "b7182eab3e970671"
  },
  {
   "cell_type": "code",
   "execution_count": 25,
   "outputs": [
    {
     "data": {
      "text/plain": "Empty DataFrame\nColumns: [id, title, genres, AllGenres]\nIndex: []",
      "text/html": "<div>\n<style scoped>\n    .dataframe tbody tr th:only-of-type {\n        vertical-align: middle;\n    }\n\n    .dataframe tbody tr th {\n        vertical-align: top;\n    }\n\n    .dataframe thead th {\n        text-align: right;\n    }\n</style>\n<table border=\"1\" class=\"dataframe\">\n  <thead>\n    <tr style=\"text-align: right;\">\n      <th></th>\n      <th>id</th>\n      <th>title</th>\n      <th>genres</th>\n      <th>AllGenres</th>\n    </tr>\n  </thead>\n  <tbody>\n  </tbody>\n</table>\n</div>"
     },
     "execution_count": 25,
     "metadata": {},
     "output_type": "execute_result"
    }
   ],
   "source": [
    "movies_5000 = movies_refined[movies_refined['id'].isin(sample_ids)]\n",
    "movies_5000.head()"
   ],
   "metadata": {
    "collapsed": false,
    "ExecuteTime": {
     "end_time": "2024-04-23T23:11:49.940569300Z",
     "start_time": "2024-04-23T23:11:49.911101600Z"
    }
   },
   "id": "7ba73b0168713f7"
  },
  {
   "cell_type": "code",
   "execution_count": 27,
   "outputs": [
    {
     "data": {
      "text/plain": "45436"
     },
     "execution_count": 27,
     "metadata": {},
     "output_type": "execute_result"
    }
   ],
   "source": [
    "unique_id_for_movies = movies_refined['id'].unique().tolist()\n",
    "len(unique_id_for_movies)"
   ],
   "metadata": {
    "collapsed": false,
    "ExecuteTime": {
     "end_time": "2024-04-23T23:14:09.375659300Z",
     "start_time": "2024-04-23T23:14:09.359572800Z"
    }
   },
   "id": "75ccc09859af936e"
  },
  {
   "cell_type": "code",
   "execution_count": 28,
   "outputs": [
    {
     "data": {
      "text/plain": "       id                           title  \\\n3   31357               Waiting to Exhale   \n10   9087          The American President   \n18   9273  Ace Ventura: When Nature Calls   \n22   9691                       Assassins   \n37  33689                    It Takes Two   \n\n                                               genres  \\\n3   [{\"id\": 35, \"name\": \"Comedy\"}, {\"id\": 18, \"nam...   \n10  [{\"id\": 35, \"name\": \"Comedy\"}, {\"id\": 18, \"nam...   \n18  [{\"id\": 80, \"name\": \"Crime\"}, {\"id\": 35, \"name...   \n22  [{\"id\": 28, \"name\": \"Action\"}, {\"id\": 12, \"nam...   \n37  [{\"id\": 35, \"name\": \"Comedy\"}, {\"id\": 10751, \"...   \n\n                          AllGenres  \n3              Comedy,Drama,Romance  \n10             Comedy,Drama,Romance  \n18           Crime,Comedy,Adventure  \n22  Action,Adventure,Crime,Thriller  \n37            Comedy,Family,Romance  ",
      "text/html": "<div>\n<style scoped>\n    .dataframe tbody tr th:only-of-type {\n        vertical-align: middle;\n    }\n\n    .dataframe tbody tr th {\n        vertical-align: top;\n    }\n\n    .dataframe thead th {\n        text-align: right;\n    }\n</style>\n<table border=\"1\" class=\"dataframe\">\n  <thead>\n    <tr style=\"text-align: right;\">\n      <th></th>\n      <th>id</th>\n      <th>title</th>\n      <th>genres</th>\n      <th>AllGenres</th>\n    </tr>\n  </thead>\n  <tbody>\n    <tr>\n      <th>3</th>\n      <td>31357</td>\n      <td>Waiting to Exhale</td>\n      <td>[{\"id\": 35, \"name\": \"Comedy\"}, {\"id\": 18, \"nam...</td>\n      <td>Comedy,Drama,Romance</td>\n    </tr>\n    <tr>\n      <th>10</th>\n      <td>9087</td>\n      <td>The American President</td>\n      <td>[{\"id\": 35, \"name\": \"Comedy\"}, {\"id\": 18, \"nam...</td>\n      <td>Comedy,Drama,Romance</td>\n    </tr>\n    <tr>\n      <th>18</th>\n      <td>9273</td>\n      <td>Ace Ventura: When Nature Calls</td>\n      <td>[{\"id\": 80, \"name\": \"Crime\"}, {\"id\": 35, \"name...</td>\n      <td>Crime,Comedy,Adventure</td>\n    </tr>\n    <tr>\n      <th>22</th>\n      <td>9691</td>\n      <td>Assassins</td>\n      <td>[{\"id\": 28, \"name\": \"Action\"}, {\"id\": 12, \"nam...</td>\n      <td>Action,Adventure,Crime,Thriller</td>\n    </tr>\n    <tr>\n      <th>37</th>\n      <td>33689</td>\n      <td>It Takes Two</td>\n      <td>[{\"id\": 35, \"name\": \"Comedy\"}, {\"id\": 10751, \"...</td>\n      <td>Comedy,Family,Romance</td>\n    </tr>\n  </tbody>\n</table>\n</div>"
     },
     "execution_count": 28,
     "metadata": {},
     "output_type": "execute_result"
    }
   ],
   "source": [
    "sample_ids_for_movies = np.random.choice(unique_id_for_movies, size=5000, replace=False)\n",
    "movies_5000 = movies_refined[movies_refined['id'].isin(sample_ids_for_movies)]\n",
    "movies_5000.head()"
   ],
   "metadata": {
    "collapsed": false,
    "ExecuteTime": {
     "end_time": "2024-04-23T23:16:18.963248600Z",
     "start_time": "2024-04-23T23:16:18.928820700Z"
    }
   },
   "id": "afa054d1086168b0"
  },
  {
   "cell_type": "code",
   "execution_count": 30,
   "outputs": [
    {
     "data": {
      "text/plain": "      id                           title  \\\n0  31357               Waiting to Exhale   \n1   9087          The American President   \n2   9273  Ace Ventura: When Nature Calls   \n3   9691                       Assassins   \n4  33689                    It Takes Two   \n\n                                              genres  \\\n0  [{\"id\": 35, \"name\": \"Comedy\"}, {\"id\": 18, \"nam...   \n1  [{\"id\": 35, \"name\": \"Comedy\"}, {\"id\": 18, \"nam...   \n2  [{\"id\": 80, \"name\": \"Crime\"}, {\"id\": 35, \"name...   \n3  [{\"id\": 28, \"name\": \"Action\"}, {\"id\": 12, \"nam...   \n4  [{\"id\": 35, \"name\": \"Comedy\"}, {\"id\": 10751, \"...   \n\n                         AllGenres  \n0             Comedy,Drama,Romance  \n1             Comedy,Drama,Romance  \n2           Crime,Comedy,Adventure  \n3  Action,Adventure,Crime,Thriller  \n4            Comedy,Family,Romance  ",
      "text/html": "<div>\n<style scoped>\n    .dataframe tbody tr th:only-of-type {\n        vertical-align: middle;\n    }\n\n    .dataframe tbody tr th {\n        vertical-align: top;\n    }\n\n    .dataframe thead th {\n        text-align: right;\n    }\n</style>\n<table border=\"1\" class=\"dataframe\">\n  <thead>\n    <tr style=\"text-align: right;\">\n      <th></th>\n      <th>id</th>\n      <th>title</th>\n      <th>genres</th>\n      <th>AllGenres</th>\n    </tr>\n  </thead>\n  <tbody>\n    <tr>\n      <th>0</th>\n      <td>31357</td>\n      <td>Waiting to Exhale</td>\n      <td>[{\"id\": 35, \"name\": \"Comedy\"}, {\"id\": 18, \"nam...</td>\n      <td>Comedy,Drama,Romance</td>\n    </tr>\n    <tr>\n      <th>1</th>\n      <td>9087</td>\n      <td>The American President</td>\n      <td>[{\"id\": 35, \"name\": \"Comedy\"}, {\"id\": 18, \"nam...</td>\n      <td>Comedy,Drama,Romance</td>\n    </tr>\n    <tr>\n      <th>2</th>\n      <td>9273</td>\n      <td>Ace Ventura: When Nature Calls</td>\n      <td>[{\"id\": 80, \"name\": \"Crime\"}, {\"id\": 35, \"name...</td>\n      <td>Crime,Comedy,Adventure</td>\n    </tr>\n    <tr>\n      <th>3</th>\n      <td>9691</td>\n      <td>Assassins</td>\n      <td>[{\"id\": 28, \"name\": \"Action\"}, {\"id\": 12, \"nam...</td>\n      <td>Action,Adventure,Crime,Thriller</td>\n    </tr>\n    <tr>\n      <th>4</th>\n      <td>33689</td>\n      <td>It Takes Two</td>\n      <td>[{\"id\": 35, \"name\": \"Comedy\"}, {\"id\": 10751, \"...</td>\n      <td>Comedy,Family,Romance</td>\n    </tr>\n  </tbody>\n</table>\n</div>"
     },
     "execution_count": 30,
     "metadata": {},
     "output_type": "execute_result"
    }
   ],
   "source": [
    "movies_5000 = movies_5000.reset_index(drop=True)\n",
    "movies_5000.head()"
   ],
   "metadata": {
    "collapsed": false,
    "ExecuteTime": {
     "end_time": "2024-04-23T23:19:06.742471300Z",
     "start_time": "2024-04-23T23:19:06.728708200Z"
    }
   },
   "id": "72715b055e5f0bd1"
  },
  {
   "cell_type": "code",
   "execution_count": 31,
   "outputs": [],
   "source": [
    "movies_5000.to_csv('dataset/movies_5000.csv', index=False)\n",
    "ratings_5000.to_csv('dataset/ratings_5000.csv', index=False)"
   ],
   "metadata": {
    "collapsed": false,
    "ExecuteTime": {
     "end_time": "2024-04-23T23:20:34.427615700Z",
     "start_time": "2024-04-23T23:20:34.302956100Z"
    }
   },
   "id": "656dab385179379f"
  },
  {
   "cell_type": "code",
   "execution_count": null,
   "outputs": [],
   "source": [],
   "metadata": {
    "collapsed": false
   },
   "id": "9314eaf341a9f8c1"
  }
 ],
 "metadata": {
  "kernelspec": {
   "name": "ee541",
   "language": "python",
   "display_name": "EE541"
  },
  "language_info": {
   "codemirror_mode": {
    "name": "ipython",
    "version": 2
   },
   "file_extension": ".py",
   "mimetype": "text/x-python",
   "name": "python",
   "nbconvert_exporter": "python",
   "pygments_lexer": "ipython2",
   "version": "2.7.6"
  }
 },
 "nbformat": 4,
 "nbformat_minor": 5
}
