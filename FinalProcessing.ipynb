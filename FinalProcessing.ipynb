{
 "cells": [
  {
   "cell_type": "code",
   "execution_count": 5,
   "id": "initial_id",
   "metadata": {
    "ExecuteTime": {
     "end_time": "2024-04-30T04:36:33.194576400Z",
     "start_time": "2024-04-30T04:36:32.458859800Z"
    },
    "collapsed": true,
    "metadata": {}
   },
   "outputs": [],
   "source": [
    "import pandas as pd\n",
    "import numpy as np\n",
    "import json\n",
    "import random"
   ]
  },
  {
   "cell_type": "code",
   "execution_count": 6,
   "id": "28dd2a004f65ed4a",
   "metadata": {
    "ExecuteTime": {
     "end_time": "2024-04-30T04:37:00.188621700Z",
     "start_time": "2024-04-30T04:36:59.030877700Z"
    },
    "collapsed": false,
    "metadata": {}
   },
   "outputs": [
    {
     "name": "stderr",
     "output_type": "stream",
     "text": [
      "/home/marin/.local/lib/python3.10/site-packages/IPython/core/interactiveshell.py:3194: DtypeWarning: Columns (10) have mixed types.Specify dtype option on import or set low_memory=False.\n",
      "  has_raised = await self.run_ast_nodes(code_ast.body, cell_name,\n"
     ]
    },
    {
     "data": {
      "text/html": [
       "<div>\n",
       "<style scoped>\n",
       "    .dataframe tbody tr th:only-of-type {\n",
       "        vertical-align: middle;\n",
       "    }\n",
       "\n",
       "    .dataframe tbody tr th {\n",
       "        vertical-align: top;\n",
       "    }\n",
       "\n",
       "    .dataframe thead th {\n",
       "        text-align: right;\n",
       "    }\n",
       "</style>\n",
       "<table border=\"1\" class=\"dataframe\">\n",
       "  <thead>\n",
       "    <tr style=\"text-align: right;\">\n",
       "      <th></th>\n",
       "      <th>adult</th>\n",
       "      <th>belongs_to_collection</th>\n",
       "      <th>budget</th>\n",
       "      <th>genres</th>\n",
       "      <th>homepage</th>\n",
       "      <th>id</th>\n",
       "      <th>imdb_id</th>\n",
       "      <th>original_language</th>\n",
       "      <th>original_title</th>\n",
       "      <th>overview</th>\n",
       "      <th>...</th>\n",
       "      <th>release_date</th>\n",
       "      <th>revenue</th>\n",
       "      <th>runtime</th>\n",
       "      <th>spoken_languages</th>\n",
       "      <th>status</th>\n",
       "      <th>tagline</th>\n",
       "      <th>title</th>\n",
       "      <th>video</th>\n",
       "      <th>vote_average</th>\n",
       "      <th>vote_count</th>\n",
       "    </tr>\n",
       "  </thead>\n",
       "  <tbody>\n",
       "    <tr>\n",
       "      <th>0</th>\n",
       "      <td>False</td>\n",
       "      <td>{'id': 10194, 'name': 'Toy Story Collection', ...</td>\n",
       "      <td>30000000</td>\n",
       "      <td>[{'id': 16, 'name': 'Animation'}, {'id': 35, '...</td>\n",
       "      <td>http://toystory.disney.com/toy-story</td>\n",
       "      <td>862</td>\n",
       "      <td>tt0114709</td>\n",
       "      <td>en</td>\n",
       "      <td>Toy Story</td>\n",
       "      <td>Led by Woody, Andy's toys live happily in his ...</td>\n",
       "      <td>...</td>\n",
       "      <td>1995-10-30</td>\n",
       "      <td>373554033.0</td>\n",
       "      <td>81.0</td>\n",
       "      <td>[{'iso_639_1': 'en', 'name': 'English'}]</td>\n",
       "      <td>Released</td>\n",
       "      <td>NaN</td>\n",
       "      <td>Toy Story</td>\n",
       "      <td>False</td>\n",
       "      <td>7.7</td>\n",
       "      <td>5415.0</td>\n",
       "    </tr>\n",
       "    <tr>\n",
       "      <th>1</th>\n",
       "      <td>False</td>\n",
       "      <td>NaN</td>\n",
       "      <td>65000000</td>\n",
       "      <td>[{'id': 12, 'name': 'Adventure'}, {'id': 14, '...</td>\n",
       "      <td>NaN</td>\n",
       "      <td>8844</td>\n",
       "      <td>tt0113497</td>\n",
       "      <td>en</td>\n",
       "      <td>Jumanji</td>\n",
       "      <td>When siblings Judy and Peter discover an encha...</td>\n",
       "      <td>...</td>\n",
       "      <td>1995-12-15</td>\n",
       "      <td>262797249.0</td>\n",
       "      <td>104.0</td>\n",
       "      <td>[{'iso_639_1': 'en', 'name': 'English'}, {'iso...</td>\n",
       "      <td>Released</td>\n",
       "      <td>Roll the dice and unleash the excitement!</td>\n",
       "      <td>Jumanji</td>\n",
       "      <td>False</td>\n",
       "      <td>6.9</td>\n",
       "      <td>2413.0</td>\n",
       "    </tr>\n",
       "    <tr>\n",
       "      <th>2</th>\n",
       "      <td>False</td>\n",
       "      <td>{'id': 119050, 'name': 'Grumpy Old Men Collect...</td>\n",
       "      <td>0</td>\n",
       "      <td>[{'id': 10749, 'name': 'Romance'}, {'id': 35, ...</td>\n",
       "      <td>NaN</td>\n",
       "      <td>15602</td>\n",
       "      <td>tt0113228</td>\n",
       "      <td>en</td>\n",
       "      <td>Grumpier Old Men</td>\n",
       "      <td>A family wedding reignites the ancient feud be...</td>\n",
       "      <td>...</td>\n",
       "      <td>1995-12-22</td>\n",
       "      <td>0.0</td>\n",
       "      <td>101.0</td>\n",
       "      <td>[{'iso_639_1': 'en', 'name': 'English'}]</td>\n",
       "      <td>Released</td>\n",
       "      <td>Still Yelling. Still Fighting. Still Ready for...</td>\n",
       "      <td>Grumpier Old Men</td>\n",
       "      <td>False</td>\n",
       "      <td>6.5</td>\n",
       "      <td>92.0</td>\n",
       "    </tr>\n",
       "    <tr>\n",
       "      <th>3</th>\n",
       "      <td>False</td>\n",
       "      <td>NaN</td>\n",
       "      <td>16000000</td>\n",
       "      <td>[{'id': 35, 'name': 'Comedy'}, {'id': 18, 'nam...</td>\n",
       "      <td>NaN</td>\n",
       "      <td>31357</td>\n",
       "      <td>tt0114885</td>\n",
       "      <td>en</td>\n",
       "      <td>Waiting to Exhale</td>\n",
       "      <td>Cheated on, mistreated and stepped on, the wom...</td>\n",
       "      <td>...</td>\n",
       "      <td>1995-12-22</td>\n",
       "      <td>81452156.0</td>\n",
       "      <td>127.0</td>\n",
       "      <td>[{'iso_639_1': 'en', 'name': 'English'}]</td>\n",
       "      <td>Released</td>\n",
       "      <td>Friends are the people who let you be yourself...</td>\n",
       "      <td>Waiting to Exhale</td>\n",
       "      <td>False</td>\n",
       "      <td>6.1</td>\n",
       "      <td>34.0</td>\n",
       "    </tr>\n",
       "    <tr>\n",
       "      <th>4</th>\n",
       "      <td>False</td>\n",
       "      <td>{'id': 96871, 'name': 'Father of the Bride Col...</td>\n",
       "      <td>0</td>\n",
       "      <td>[{'id': 35, 'name': 'Comedy'}]</td>\n",
       "      <td>NaN</td>\n",
       "      <td>11862</td>\n",
       "      <td>tt0113041</td>\n",
       "      <td>en</td>\n",
       "      <td>Father of the Bride Part II</td>\n",
       "      <td>Just when George Banks has recovered from his ...</td>\n",
       "      <td>...</td>\n",
       "      <td>1995-02-10</td>\n",
       "      <td>76578911.0</td>\n",
       "      <td>106.0</td>\n",
       "      <td>[{'iso_639_1': 'en', 'name': 'English'}]</td>\n",
       "      <td>Released</td>\n",
       "      <td>Just When His World Is Back To Normal... He's ...</td>\n",
       "      <td>Father of the Bride Part II</td>\n",
       "      <td>False</td>\n",
       "      <td>5.7</td>\n",
       "      <td>173.0</td>\n",
       "    </tr>\n",
       "  </tbody>\n",
       "</table>\n",
       "<p>5 rows × 24 columns</p>\n",
       "</div>"
      ],
      "text/plain": [
       "   adult                              belongs_to_collection    budget  \\\n",
       "0  False  {'id': 10194, 'name': 'Toy Story Collection', ...  30000000   \n",
       "1  False                                                NaN  65000000   \n",
       "2  False  {'id': 119050, 'name': 'Grumpy Old Men Collect...         0   \n",
       "3  False                                                NaN  16000000   \n",
       "4  False  {'id': 96871, 'name': 'Father of the Bride Col...         0   \n",
       "\n",
       "                                              genres  \\\n",
       "0  [{'id': 16, 'name': 'Animation'}, {'id': 35, '...   \n",
       "1  [{'id': 12, 'name': 'Adventure'}, {'id': 14, '...   \n",
       "2  [{'id': 10749, 'name': 'Romance'}, {'id': 35, ...   \n",
       "3  [{'id': 35, 'name': 'Comedy'}, {'id': 18, 'nam...   \n",
       "4                     [{'id': 35, 'name': 'Comedy'}]   \n",
       "\n",
       "                               homepage     id    imdb_id original_language  \\\n",
       "0  http://toystory.disney.com/toy-story    862  tt0114709                en   \n",
       "1                                   NaN   8844  tt0113497                en   \n",
       "2                                   NaN  15602  tt0113228                en   \n",
       "3                                   NaN  31357  tt0114885                en   \n",
       "4                                   NaN  11862  tt0113041                en   \n",
       "\n",
       "                original_title  \\\n",
       "0                    Toy Story   \n",
       "1                      Jumanji   \n",
       "2             Grumpier Old Men   \n",
       "3            Waiting to Exhale   \n",
       "4  Father of the Bride Part II   \n",
       "\n",
       "                                            overview  ... release_date  \\\n",
       "0  Led by Woody, Andy's toys live happily in his ...  ...   1995-10-30   \n",
       "1  When siblings Judy and Peter discover an encha...  ...   1995-12-15   \n",
       "2  A family wedding reignites the ancient feud be...  ...   1995-12-22   \n",
       "3  Cheated on, mistreated and stepped on, the wom...  ...   1995-12-22   \n",
       "4  Just when George Banks has recovered from his ...  ...   1995-02-10   \n",
       "\n",
       "       revenue runtime                                   spoken_languages  \\\n",
       "0  373554033.0    81.0           [{'iso_639_1': 'en', 'name': 'English'}]   \n",
       "1  262797249.0   104.0  [{'iso_639_1': 'en', 'name': 'English'}, {'iso...   \n",
       "2          0.0   101.0           [{'iso_639_1': 'en', 'name': 'English'}]   \n",
       "3   81452156.0   127.0           [{'iso_639_1': 'en', 'name': 'English'}]   \n",
       "4   76578911.0   106.0           [{'iso_639_1': 'en', 'name': 'English'}]   \n",
       "\n",
       "     status                                            tagline  \\\n",
       "0  Released                                                NaN   \n",
       "1  Released          Roll the dice and unleash the excitement!   \n",
       "2  Released  Still Yelling. Still Fighting. Still Ready for...   \n",
       "3  Released  Friends are the people who let you be yourself...   \n",
       "4  Released  Just When His World Is Back To Normal... He's ...   \n",
       "\n",
       "                         title  video vote_average vote_count  \n",
       "0                    Toy Story  False          7.7     5415.0  \n",
       "1                      Jumanji  False          6.9     2413.0  \n",
       "2             Grumpier Old Men  False          6.5       92.0  \n",
       "3            Waiting to Exhale  False          6.1       34.0  \n",
       "4  Father of the Bride Part II  False          5.7      173.0  \n",
       "\n",
       "[5 rows x 24 columns]"
      ]
     },
     "execution_count": 6,
     "metadata": {},
     "output_type": "execute_result"
    }
   ],
   "source": [
    "keyword_path = 'data/kaggle_movie/keywords.csv'\n",
    "rating_path = 'data/kaggle_movie/ratings_small.csv'  # ratings_small is big enough\n",
    "movie_path = 'data/kaggle_movie/movies_metadata.csv'\n",
    "\n",
    "keywords = pd.read_csv(keyword_path)\n",
    "ratings = pd.read_csv(rating_path)\n",
    "movies = pd.read_csv(movie_path)\n",
    "\n",
    "movies.head()"
   ]
  },
  {
   "cell_type": "code",
   "execution_count": 7,
   "id": "8ca29666fa08c7bb",
   "metadata": {
    "ExecuteTime": {
     "end_time": "2024-04-30T04:37:03.399397500Z",
     "start_time": "2024-04-30T04:37:03.357349900Z"
    },
    "collapsed": false,
    "metadata": {}
   },
   "outputs": [
    {
     "data": {
      "text/html": [
       "<div>\n",
       "<style scoped>\n",
       "    .dataframe tbody tr th:only-of-type {\n",
       "        vertical-align: middle;\n",
       "    }\n",
       "\n",
       "    .dataframe tbody tr th {\n",
       "        vertical-align: top;\n",
       "    }\n",
       "\n",
       "    .dataframe thead th {\n",
       "        text-align: right;\n",
       "    }\n",
       "</style>\n",
       "<table border=\"1\" class=\"dataframe\">\n",
       "  <thead>\n",
       "    <tr style=\"text-align: right;\">\n",
       "      <th></th>\n",
       "      <th>id</th>\n",
       "      <th>title</th>\n",
       "      <th>genres</th>\n",
       "    </tr>\n",
       "  </thead>\n",
       "  <tbody>\n",
       "    <tr>\n",
       "      <th>0</th>\n",
       "      <td>862</td>\n",
       "      <td>Toy Story</td>\n",
       "      <td>[{'id': 16, 'name': 'Animation'}, {'id': 35, '...</td>\n",
       "    </tr>\n",
       "    <tr>\n",
       "      <th>1</th>\n",
       "      <td>8844</td>\n",
       "      <td>Jumanji</td>\n",
       "      <td>[{'id': 12, 'name': 'Adventure'}, {'id': 14, '...</td>\n",
       "    </tr>\n",
       "    <tr>\n",
       "      <th>2</th>\n",
       "      <td>15602</td>\n",
       "      <td>Grumpier Old Men</td>\n",
       "      <td>[{'id': 10749, 'name': 'Romance'}, {'id': 35, ...</td>\n",
       "    </tr>\n",
       "    <tr>\n",
       "      <th>3</th>\n",
       "      <td>31357</td>\n",
       "      <td>Waiting to Exhale</td>\n",
       "      <td>[{'id': 35, 'name': 'Comedy'}, {'id': 18, 'nam...</td>\n",
       "    </tr>\n",
       "    <tr>\n",
       "      <th>4</th>\n",
       "      <td>11862</td>\n",
       "      <td>Father of the Bride Part II</td>\n",
       "      <td>[{'id': 35, 'name': 'Comedy'}]</td>\n",
       "    </tr>\n",
       "  </tbody>\n",
       "</table>\n",
       "</div>"
      ],
      "text/plain": [
       "      id                        title  \\\n",
       "0    862                    Toy Story   \n",
       "1   8844                      Jumanji   \n",
       "2  15602             Grumpier Old Men   \n",
       "3  31357            Waiting to Exhale   \n",
       "4  11862  Father of the Bride Part II   \n",
       "\n",
       "                                              genres  \n",
       "0  [{'id': 16, 'name': 'Animation'}, {'id': 35, '...  \n",
       "1  [{'id': 12, 'name': 'Adventure'}, {'id': 14, '...  \n",
       "2  [{'id': 10749, 'name': 'Romance'}, {'id': 35, ...  \n",
       "3  [{'id': 35, 'name': 'Comedy'}, {'id': 18, 'nam...  \n",
       "4                     [{'id': 35, 'name': 'Comedy'}]  "
      ]
     },
     "execution_count": 7,
     "metadata": {},
     "output_type": "execute_result"
    }
   ],
   "source": [
    "desired_columns = ['id', 'title', 'genres']\n",
    "movies_refined = movies.loc[:, desired_columns]\n",
    "movies_refined.head()"
   ]
  },
  {
   "cell_type": "code",
   "execution_count": 8,
   "id": "3b74c991007a572",
   "metadata": {
    "ExecuteTime": {
     "end_time": "2024-04-30T04:37:04.956392Z",
     "start_time": "2024-04-30T04:37:04.897964700Z"
    },
    "collapsed": false,
    "metadata": {}
   },
   "outputs": [
    {
     "data": {
      "text/html": [
       "<div>\n",
       "<style scoped>\n",
       "    .dataframe tbody tr th:only-of-type {\n",
       "        vertical-align: middle;\n",
       "    }\n",
       "\n",
       "    .dataframe tbody tr th {\n",
       "        vertical-align: top;\n",
       "    }\n",
       "\n",
       "    .dataframe thead th {\n",
       "        text-align: right;\n",
       "    }\n",
       "</style>\n",
       "<table border=\"1\" class=\"dataframe\">\n",
       "  <thead>\n",
       "    <tr style=\"text-align: right;\">\n",
       "      <th></th>\n",
       "      <th>id</th>\n",
       "      <th>title</th>\n",
       "      <th>genres</th>\n",
       "    </tr>\n",
       "  </thead>\n",
       "  <tbody>\n",
       "    <tr>\n",
       "      <th>0</th>\n",
       "      <td>862</td>\n",
       "      <td>Toy Story</td>\n",
       "      <td>[{\"id\": 16, \"name\": \"Animation\"}, {\"id\": 35, \"...</td>\n",
       "    </tr>\n",
       "    <tr>\n",
       "      <th>1</th>\n",
       "      <td>8844</td>\n",
       "      <td>Jumanji</td>\n",
       "      <td>[{\"id\": 12, \"name\": \"Adventure\"}, {\"id\": 14, \"...</td>\n",
       "    </tr>\n",
       "    <tr>\n",
       "      <th>2</th>\n",
       "      <td>15602</td>\n",
       "      <td>Grumpier Old Men</td>\n",
       "      <td>[{\"id\": 10749, \"name\": \"Romance\"}, {\"id\": 35, ...</td>\n",
       "    </tr>\n",
       "    <tr>\n",
       "      <th>3</th>\n",
       "      <td>31357</td>\n",
       "      <td>Waiting to Exhale</td>\n",
       "      <td>[{\"id\": 35, \"name\": \"Comedy\"}, {\"id\": 18, \"nam...</td>\n",
       "    </tr>\n",
       "    <tr>\n",
       "      <th>4</th>\n",
       "      <td>11862</td>\n",
       "      <td>Father of the Bride Part II</td>\n",
       "      <td>[{\"id\": 35, \"name\": \"Comedy\"}]</td>\n",
       "    </tr>\n",
       "  </tbody>\n",
       "</table>\n",
       "</div>"
      ],
      "text/plain": [
       "      id                        title  \\\n",
       "0    862                    Toy Story   \n",
       "1   8844                      Jumanji   \n",
       "2  15602             Grumpier Old Men   \n",
       "3  31357            Waiting to Exhale   \n",
       "4  11862  Father of the Bride Part II   \n",
       "\n",
       "                                              genres  \n",
       "0  [{\"id\": 16, \"name\": \"Animation\"}, {\"id\": 35, \"...  \n",
       "1  [{\"id\": 12, \"name\": \"Adventure\"}, {\"id\": 14, \"...  \n",
       "2  [{\"id\": 10749, \"name\": \"Romance\"}, {\"id\": 35, ...  \n",
       "3  [{\"id\": 35, \"name\": \"Comedy\"}, {\"id\": 18, \"nam...  \n",
       "4                     [{\"id\": 35, \"name\": \"Comedy\"}]  "
      ]
     },
     "execution_count": 8,
     "metadata": {},
     "output_type": "execute_result"
    }
   ],
   "source": [
    "movies_refined['genres'] = movies_refined['genres'].str.replace(\"'\", '\"')\n",
    "movies_refined.head()"
   ]
  },
  {
   "cell_type": "code",
   "execution_count": 9,
   "id": "519e9bc6a8ba91fa",
   "metadata": {
    "ExecuteTime": {
     "end_time": "2024-04-30T04:37:07.809701200Z",
     "start_time": "2024-04-30T04:37:07.792801100Z"
    },
    "collapsed": false,
    "metadata": {}
   },
   "outputs": [],
   "source": [
    "def EDA_genres(genres):\n",
    "    genre_list = json.loads(genres)\n",
    "    \n",
    "    all_genres = ','.join(genre['name'] for genre in genre_list)\n",
    "        \n",
    "    return all_genres"
   ]
  },
  {
   "cell_type": "code",
   "execution_count": 10,
   "id": "81dfb5222b45a9a9",
   "metadata": {
    "ExecuteTime": {
     "end_time": "2024-04-30T04:37:13.206837600Z",
     "start_time": "2024-04-30T04:37:13.032424900Z"
    },
    "collapsed": false,
    "metadata": {}
   },
   "outputs": [
    {
     "data": {
      "text/html": [
       "<div>\n",
       "<style scoped>\n",
       "    .dataframe tbody tr th:only-of-type {\n",
       "        vertical-align: middle;\n",
       "    }\n",
       "\n",
       "    .dataframe tbody tr th {\n",
       "        vertical-align: top;\n",
       "    }\n",
       "\n",
       "    .dataframe thead th {\n",
       "        text-align: right;\n",
       "    }\n",
       "</style>\n",
       "<table border=\"1\" class=\"dataframe\">\n",
       "  <thead>\n",
       "    <tr style=\"text-align: right;\">\n",
       "      <th></th>\n",
       "      <th>id</th>\n",
       "      <th>title</th>\n",
       "      <th>AllGenres</th>\n",
       "    </tr>\n",
       "  </thead>\n",
       "  <tbody>\n",
       "    <tr>\n",
       "      <th>0</th>\n",
       "      <td>862</td>\n",
       "      <td>Toy Story</td>\n",
       "      <td>Animation,Comedy,Family</td>\n",
       "    </tr>\n",
       "    <tr>\n",
       "      <th>1</th>\n",
       "      <td>8844</td>\n",
       "      <td>Jumanji</td>\n",
       "      <td>Adventure,Fantasy,Family</td>\n",
       "    </tr>\n",
       "    <tr>\n",
       "      <th>2</th>\n",
       "      <td>15602</td>\n",
       "      <td>Grumpier Old Men</td>\n",
       "      <td>Romance,Comedy</td>\n",
       "    </tr>\n",
       "    <tr>\n",
       "      <th>3</th>\n",
       "      <td>31357</td>\n",
       "      <td>Waiting to Exhale</td>\n",
       "      <td>Comedy,Drama,Romance</td>\n",
       "    </tr>\n",
       "    <tr>\n",
       "      <th>4</th>\n",
       "      <td>11862</td>\n",
       "      <td>Father of the Bride Part II</td>\n",
       "      <td>Comedy</td>\n",
       "    </tr>\n",
       "  </tbody>\n",
       "</table>\n",
       "</div>"
      ],
      "text/plain": [
       "      id                        title                 AllGenres\n",
       "0    862                    Toy Story   Animation,Comedy,Family\n",
       "1   8844                      Jumanji  Adventure,Fantasy,Family\n",
       "2  15602             Grumpier Old Men            Romance,Comedy\n",
       "3  31357            Waiting to Exhale      Comedy,Drama,Romance\n",
       "4  11862  Father of the Bride Part II                    Comedy"
      ]
     },
     "execution_count": 10,
     "metadata": {},
     "output_type": "execute_result"
    }
   ],
   "source": [
    "movies_refined['AllGenres'] = movies_refined['genres'].apply(EDA_genres)\n",
    "movies_refined.drop(['genres', ], axis=1, inplace=True)\n",
    "movies_refined.head()"
   ]
  },
  {
   "cell_type": "code",
   "execution_count": 11,
   "id": "e924dd6371ab109a",
   "metadata": {
    "ExecuteTime": {
     "end_time": "2024-04-30T04:37:15.996724300Z",
     "start_time": "2024-04-30T04:37:15.957710Z"
    },
    "collapsed": false,
    "metadata": {}
   },
   "outputs": [
    {
     "data": {
      "text/plain": [
       "30"
      ]
     },
     "execution_count": 11,
     "metadata": {},
     "output_type": "execute_result"
    }
   ],
   "source": [
    "movies_refined.duplicated(subset=['id', 'title']).sum()"
   ]
  },
  {
   "cell_type": "code",
   "execution_count": 12,
   "id": "ae6ddd9a854aaedb",
   "metadata": {
    "ExecuteTime": {
     "end_time": "2024-04-30T04:37:18.335412900Z",
     "start_time": "2024-04-30T04:37:18.318408900Z"
    },
    "collapsed": false,
    "metadata": {}
   },
   "outputs": [
    {
     "name": "stdout",
     "output_type": "stream",
     "text": [
      "int64\n",
      "object\n",
      "int64\n"
     ]
    }
   ],
   "source": [
    "print(keywords['id'].dtypes)\n",
    "print(movies_refined['id'].dtypes)\n",
    "print(ratings['movieId'].dtypes)"
   ]
  },
  {
   "cell_type": "code",
   "execution_count": 13,
   "id": "851bb8edbb073052",
   "metadata": {
    "ExecuteTime": {
     "end_time": "2024-04-30T04:37:41.412909600Z",
     "start_time": "2024-04-30T04:37:41.343349600Z"
    },
    "collapsed": false,
    "metadata": {}
   },
   "outputs": [],
   "source": [
    "keywords['id'] = keywords['id'].astype(str)\n",
    "movies_refined['id'] = movies_refined['id'].astype(str)\n",
    "ratings['movieId'] = ratings['movieId'].astype(str)"
   ]
  },
  {
   "cell_type": "code",
   "execution_count": 14,
   "id": "2c999f20a07cf32c",
   "metadata": {
    "ExecuteTime": {
     "end_time": "2024-04-30T04:37:47.882599Z",
     "start_time": "2024-04-30T04:37:47.836984900Z"
    },
    "collapsed": false,
    "metadata": {}
   },
   "outputs": [
    {
     "data": {
      "text/html": [
       "<div>\n",
       "<style scoped>\n",
       "    .dataframe tbody tr th:only-of-type {\n",
       "        vertical-align: middle;\n",
       "    }\n",
       "\n",
       "    .dataframe tbody tr th {\n",
       "        vertical-align: top;\n",
       "    }\n",
       "\n",
       "    .dataframe thead th {\n",
       "        text-align: right;\n",
       "    }\n",
       "</style>\n",
       "<table border=\"1\" class=\"dataframe\">\n",
       "  <thead>\n",
       "    <tr style=\"text-align: right;\">\n",
       "      <th></th>\n",
       "      <th>id</th>\n",
       "      <th>title</th>\n",
       "      <th>AllGenres</th>\n",
       "    </tr>\n",
       "  </thead>\n",
       "  <tbody>\n",
       "    <tr>\n",
       "      <th>15074</th>\n",
       "      <td>22649</td>\n",
       "      <td>A Farewell to Arms</td>\n",
       "      <td>Drama,Romance,War</td>\n",
       "    </tr>\n",
       "    <tr>\n",
       "      <th>21116</th>\n",
       "      <td>84198</td>\n",
       "      <td>A Place at the Table</td>\n",
       "      <td>Documentary</td>\n",
       "    </tr>\n",
       "    <tr>\n",
       "      <th>20843</th>\n",
       "      <td>77221</td>\n",
       "      <td>Black Gold</td>\n",
       "      <td>Adventure,Drama</td>\n",
       "    </tr>\n",
       "    <tr>\n",
       "      <th>13375</th>\n",
       "      <td>141971</td>\n",
       "      <td>Blackout</td>\n",
       "      <td>Thriller,Mystery</td>\n",
       "    </tr>\n",
       "    <tr>\n",
       "      <th>16764</th>\n",
       "      <td>141971</td>\n",
       "      <td>Blackout</td>\n",
       "      <td>Thriller,Mystery</td>\n",
       "    </tr>\n",
       "    <tr>\n",
       "      <th>23044</th>\n",
       "      <td>25541</td>\n",
       "      <td>Brotherhood</td>\n",
       "      <td>Drama</td>\n",
       "    </tr>\n",
       "    <tr>\n",
       "      <th>12066</th>\n",
       "      <td>14788</td>\n",
       "      <td>Bubble</td>\n",
       "      <td>Drama,Crime,Mystery</td>\n",
       "    </tr>\n",
       "    <tr>\n",
       "      <th>23534</th>\n",
       "      <td>110428</td>\n",
       "      <td>Camille Claudel 1915</td>\n",
       "      <td>Drama</td>\n",
       "    </tr>\n",
       "    <tr>\n",
       "      <th>40040</th>\n",
       "      <td>298721</td>\n",
       "      <td>Cemetery of Splendour</td>\n",
       "      <td>Drama,Fantasy</td>\n",
       "    </tr>\n",
       "    <tr>\n",
       "      <th>33743</th>\n",
       "      <td>15028</td>\n",
       "      <td>Clockstoppers</td>\n",
       "      <td>Adventure,Family,Science Fiction,Thriller</td>\n",
       "    </tr>\n",
       "    <tr>\n",
       "      <th>33826</th>\n",
       "      <td>4912</td>\n",
       "      <td>Confessions of a Dangerous Mind</td>\n",
       "      <td>Comedy,Crime,Drama,Romance,Thriller</td>\n",
       "    </tr>\n",
       "    <tr>\n",
       "      <th>22151</th>\n",
       "      <td>18440</td>\n",
       "      <td>Days of Darkness</td>\n",
       "      <td>Action,Horror,Science Fiction</td>\n",
       "    </tr>\n",
       "    <tr>\n",
       "      <th>24844</th>\n",
       "      <td>11115</td>\n",
       "      <td>Deal</td>\n",
       "      <td>Comedy,Drama</td>\n",
       "    </tr>\n",
       "    <tr>\n",
       "      <th>45265</th>\n",
       "      <td>265189</td>\n",
       "      <td>Force Majeure</td>\n",
       "      <td>Comedy,Drama</td>\n",
       "    </tr>\n",
       "    <tr>\n",
       "      <th>29374</th>\n",
       "      <td>42495</td>\n",
       "      <td>King Lear</td>\n",
       "      <td>Drama,Foreign</td>\n",
       "    </tr>\n",
       "    <tr>\n",
       "      <th>9165</th>\n",
       "      <td>5511</td>\n",
       "      <td>Le Samouraï</td>\n",
       "      <td>Crime,Drama,Thriller</td>\n",
       "    </tr>\n",
       "    <tr>\n",
       "      <th>28860</th>\n",
       "      <td>168538</td>\n",
       "      <td>Nana, the True Key of Pleasure</td>\n",
       "      <td>Drama,Comedy</td>\n",
       "    </tr>\n",
       "    <tr>\n",
       "      <th>15765</th>\n",
       "      <td>13209</td>\n",
       "      <td>Offside</td>\n",
       "      <td>Drama,Comedy,Foreign</td>\n",
       "    </tr>\n",
       "    <tr>\n",
       "      <th>44826</th>\n",
       "      <td>12600</td>\n",
       "      <td>Pokémon 4Ever: Celebi - Voice of the Forest</td>\n",
       "      <td>Adventure,Fantasy,Animation,Science Fiction,Fa...</td>\n",
       "    </tr>\n",
       "    <tr>\n",
       "      <th>44821</th>\n",
       "      <td>10991</td>\n",
       "      <td>Pokémon: Spell of the Unknown</td>\n",
       "      <td>Adventure,Fantasy,Animation,Action,Family</td>\n",
       "    </tr>\n",
       "    <tr>\n",
       "      <th>20899</th>\n",
       "      <td>109962</td>\n",
       "      <td>Rich and Famous</td>\n",
       "      <td>Drama</td>\n",
       "    </tr>\n",
       "    <tr>\n",
       "      <th>40276</th>\n",
       "      <td>97995</td>\n",
       "      <td>Seven Years Bad Luck</td>\n",
       "      <td>Comedy</td>\n",
       "    </tr>\n",
       "    <tr>\n",
       "      <th>21854</th>\n",
       "      <td>152795</td>\n",
       "      <td>The Congress</td>\n",
       "      <td>Drama,Science Fiction,Animation</td>\n",
       "    </tr>\n",
       "    <tr>\n",
       "      <th>26625</th>\n",
       "      <td>69234</td>\n",
       "      <td>The Phantom of the Opera</td>\n",
       "      <td>Drama,Horror,Music,Romance,TV Movie</td>\n",
       "    </tr>\n",
       "    <tr>\n",
       "      <th>1465</th>\n",
       "      <td>105045</td>\n",
       "      <td>The Promise</td>\n",
       "      <td>Drama,Romance</td>\n",
       "    </tr>\n",
       "    <tr>\n",
       "      <th>21165</th>\n",
       "      <td>119916</td>\n",
       "      <td>The Tempest</td>\n",
       "      <td>Fantasy,Drama,Science Fiction</td>\n",
       "    </tr>\n",
       "    <tr>\n",
       "      <th>38871</th>\n",
       "      <td>99080</td>\n",
       "      <td>The Viking</td>\n",
       "      <td>Action,Drama,Romance,Adventure</td>\n",
       "    </tr>\n",
       "    <tr>\n",
       "      <th>9327</th>\n",
       "      <td>23305</td>\n",
       "      <td>The Warrior</td>\n",
       "      <td>Adventure,Animation,Drama,Action,Foreign</td>\n",
       "    </tr>\n",
       "    <tr>\n",
       "      <th>35798</th>\n",
       "      <td>159849</td>\n",
       "      <td>Why We Fight: Divide and Conquer</td>\n",
       "      <td>Documentary</td>\n",
       "    </tr>\n",
       "    <tr>\n",
       "      <th>30001</th>\n",
       "      <td>132641</td>\n",
       "      <td>Wife</td>\n",
       "      <td>Drama</td>\n",
       "    </tr>\n",
       "  </tbody>\n",
       "</table>\n",
       "</div>"
      ],
      "text/plain": [
       "           id                                        title  \\\n",
       "15074   22649                           A Farewell to Arms   \n",
       "21116   84198                         A Place at the Table   \n",
       "20843   77221                                   Black Gold   \n",
       "13375  141971                                     Blackout   \n",
       "16764  141971                                     Blackout   \n",
       "23044   25541                                  Brotherhood   \n",
       "12066   14788                                       Bubble   \n",
       "23534  110428                         Camille Claudel 1915   \n",
       "40040  298721                        Cemetery of Splendour   \n",
       "33743   15028                                Clockstoppers   \n",
       "33826    4912              Confessions of a Dangerous Mind   \n",
       "22151   18440                             Days of Darkness   \n",
       "24844   11115                                         Deal   \n",
       "45265  265189                                Force Majeure   \n",
       "29374   42495                                    King Lear   \n",
       "9165     5511                                  Le Samouraï   \n",
       "28860  168538               Nana, the True Key of Pleasure   \n",
       "15765   13209                                      Offside   \n",
       "44826   12600  Pokémon 4Ever: Celebi - Voice of the Forest   \n",
       "44821   10991                Pokémon: Spell of the Unknown   \n",
       "20899  109962                              Rich and Famous   \n",
       "40276   97995                         Seven Years Bad Luck   \n",
       "21854  152795                                 The Congress   \n",
       "26625   69234                     The Phantom of the Opera   \n",
       "1465   105045                                  The Promise   \n",
       "21165  119916                                  The Tempest   \n",
       "38871   99080                                   The Viking   \n",
       "9327    23305                                  The Warrior   \n",
       "35798  159849             Why We Fight: Divide and Conquer   \n",
       "30001  132641                                         Wife   \n",
       "\n",
       "                                               AllGenres  \n",
       "15074                                  Drama,Romance,War  \n",
       "21116                                        Documentary  \n",
       "20843                                    Adventure,Drama  \n",
       "13375                                   Thriller,Mystery  \n",
       "16764                                   Thriller,Mystery  \n",
       "23044                                              Drama  \n",
       "12066                                Drama,Crime,Mystery  \n",
       "23534                                              Drama  \n",
       "40040                                      Drama,Fantasy  \n",
       "33743          Adventure,Family,Science Fiction,Thriller  \n",
       "33826                Comedy,Crime,Drama,Romance,Thriller  \n",
       "22151                      Action,Horror,Science Fiction  \n",
       "24844                                       Comedy,Drama  \n",
       "45265                                       Comedy,Drama  \n",
       "29374                                      Drama,Foreign  \n",
       "9165                                Crime,Drama,Thriller  \n",
       "28860                                       Drama,Comedy  \n",
       "15765                               Drama,Comedy,Foreign  \n",
       "44826  Adventure,Fantasy,Animation,Science Fiction,Fa...  \n",
       "44821          Adventure,Fantasy,Animation,Action,Family  \n",
       "20899                                              Drama  \n",
       "40276                                             Comedy  \n",
       "21854                    Drama,Science Fiction,Animation  \n",
       "26625                Drama,Horror,Music,Romance,TV Movie  \n",
       "1465                                       Drama,Romance  \n",
       "21165                      Fantasy,Drama,Science Fiction  \n",
       "38871                     Action,Drama,Romance,Adventure  \n",
       "9327            Adventure,Animation,Drama,Action,Foreign  \n",
       "35798                                        Documentary  \n",
       "30001                                              Drama  "
      ]
     },
     "execution_count": 14,
     "metadata": {},
     "output_type": "execute_result"
    }
   ],
   "source": [
    "dup = movies_refined.duplicated(subset=['id', 'title'])\n",
    "dup_movies = movies_refined[dup].sort_values(by=['title', ])\n",
    "dup_movies"
   ]
  },
  {
   "cell_type": "markdown",
   "id": "3d08ae25cd8b5078",
   "metadata": {
    "collapsed": false
   },
   "source": [
    "### Very lucky:"
   ]
  },
  {
   "cell_type": "code",
   "execution_count": 15,
   "id": "84370cb43c50f6c5",
   "metadata": {
    "ExecuteTime": {
     "end_time": "2024-04-30T04:38:24.050429200Z",
     "start_time": "2024-04-30T04:38:24.026433200Z"
    },
    "collapsed": false,
    "metadata": {}
   },
   "outputs": [],
   "source": [
    "for id_ in dup_movies['id']:\n",
    "    if id_ in ratings['movieId']:\n",
    "        print(f'ID: {id_} is in ratings.csv', end=', ')\n",
    "    if id_ in keywords['id']:\n",
    "        print(f'ID: {id_} is in keywords.csv', end=', ')"
   ]
  },
  {
   "cell_type": "code",
   "execution_count": 16,
   "id": "d786a9f50c038c97",
   "metadata": {
    "ExecuteTime": {
     "end_time": "2024-04-30T04:38:36.935916600Z",
     "start_time": "2024-04-30T04:38:36.874990100Z"
    },
    "collapsed": false,
    "metadata": {}
   },
   "outputs": [
    {
     "data": {
      "text/plain": [
       "0"
      ]
     },
     "execution_count": 16,
     "metadata": {},
     "output_type": "execute_result"
    }
   ],
   "source": [
    "movies_refined = movies_refined.drop_duplicates(subset=['id', 'title'])\n",
    "movies_refined.duplicated(subset=['id', 'title']).sum()"
   ]
  },
  {
   "cell_type": "code",
   "execution_count": 17,
   "id": "81a5f44b96d9b7f6",
   "metadata": {
    "ExecuteTime": {
     "end_time": "2024-04-30T04:38:38.640208Z",
     "start_time": "2024-04-30T04:38:38.601638100Z"
    },
    "collapsed": false,
    "metadata": {}
   },
   "outputs": [
    {
     "data": {
      "text/plain": [
       "id           0\n",
       "AllGenres    0\n",
       "title        6\n",
       "dtype: int64"
      ]
     },
     "execution_count": 17,
     "metadata": {},
     "output_type": "execute_result"
    }
   ],
   "source": [
    "movies_refined.isnull().sum().sort_values()"
   ]
  },
  {
   "cell_type": "code",
   "execution_count": 18,
   "id": "65e4caf2e0a3b152",
   "metadata": {
    "ExecuteTime": {
     "end_time": "2024-04-30T04:38:40.260465700Z",
     "start_time": "2024-04-30T04:38:40.212351800Z"
    },
    "collapsed": false,
    "metadata": {}
   },
   "outputs": [
    {
     "data": {
      "text/plain": [
       "id           0\n",
       "title        0\n",
       "AllGenres    0\n",
       "dtype: int64"
      ]
     },
     "execution_count": 18,
     "metadata": {},
     "output_type": "execute_result"
    }
   ],
   "source": [
    "movies_refined = movies_refined.dropna(subset=['title', ])\n",
    "movies_refined.isnull().sum().sort_values()"
   ]
  },
  {
   "cell_type": "markdown",
   "id": "77576476a320f1da",
   "metadata": {
    "collapsed": false
   },
   "source": [
    "## Now process keywords:"
   ]
  },
  {
   "cell_type": "code",
   "execution_count": 19,
   "id": "c5db5bfda366f644",
   "metadata": {
    "ExecuteTime": {
     "end_time": "2024-04-30T04:38:48.340105900Z",
     "start_time": "2024-04-30T04:38:48.309544500Z"
    },
    "collapsed": false,
    "metadata": {}
   },
   "outputs": [
    {
     "data": {
      "text/plain": [
       "45432"
      ]
     },
     "execution_count": 19,
     "metadata": {},
     "output_type": "execute_result"
    }
   ],
   "source": [
    "keywords_movie_id = keywords['id'].unique().tolist()\n",
    "len(keywords_movie_id)"
   ]
  },
  {
   "cell_type": "code",
   "execution_count": 20,
   "id": "bd8cb986e394122e",
   "metadata": {
    "ExecuteTime": {
     "end_time": "2024-04-30T04:38:49.256282500Z",
     "start_time": "2024-04-30T04:38:49.222701700Z"
    },
    "collapsed": false,
    "metadata": {}
   },
   "outputs": [
    {
     "name": "stdout",
     "output_type": "stream",
     "text": [
      "45429\n"
     ]
    }
   ],
   "source": [
    "movies_with_keywords = movies_refined[movies_refined['id'].isin(keywords_movie_id)]\n",
    "print(movies_with_keywords.shape[0])"
   ]
  },
  {
   "cell_type": "code",
   "execution_count": 21,
   "id": "e515f6b17df54af8",
   "metadata": {
    "ExecuteTime": {
     "end_time": "2024-04-30T04:38:50.951303800Z",
     "start_time": "2024-04-30T04:38:50.932728800Z"
    },
    "collapsed": false,
    "metadata": {}
   },
   "outputs": [
    {
     "name": "stdout",
     "output_type": "stream",
     "text": [
      "[{'id': 10090, 'name': 'board game'}, {'id': 10941, 'name': 'disappearance'}, {'id': 15101, 'name': \"based on children's book\"}, {'id': 33467, 'name': 'new home'}, {'id': 158086, 'name': 'recluse'}, {'id': 158091, 'name': 'giant insect'}]\n"
     ]
    }
   ],
   "source": [
    "# check the datatype of the \"keywords\" column\n",
    "print(keywords.iloc[1]['keywords'])"
   ]
  },
  {
   "cell_type": "code",
   "execution_count": 22,
   "id": "82ff9483e7ba22bf",
   "metadata": {
    "ExecuteTime": {
     "end_time": "2024-04-30T04:39:16.634934300Z",
     "start_time": "2024-04-30T04:39:16.612901Z"
    },
    "collapsed": false,
    "metadata": {}
   },
   "outputs": [],
   "source": [
    "def EDA_keywords(keywords):\n",
    "    try:\n",
    "        keywords_list = json.loads(keywords)\n",
    "        \n",
    "        keywords_num = len(keywords_list)\n",
    "        if keywords_num > 4:\n",
    "            keywords_list = random.sample(keywords_list, 4)\n",
    "            \n",
    "        all_keywords = ','.join(keyword['name'] for keyword in keywords_list)\n",
    "        return all_keywords\n",
    "    \n",
    "    except json.JSONDecodeError as e:\n",
    "        print(f\"Error parsing JSON: {e}\")\n",
    "        return ''"
   ]
  },
  {
   "cell_type": "code",
   "execution_count": 23,
   "id": "49367ae46a4173f",
   "metadata": {
    "ExecuteTime": {
     "end_time": "2024-04-30T04:39:19.238320500Z",
     "start_time": "2024-04-30T04:39:18.953528200Z"
    },
    "collapsed": false,
    "metadata": {}
   },
   "outputs": [
    {
     "name": "stdout",
     "output_type": "stream",
     "text": [
      "Error parsing JSON: Expecting ',' delimiter: line 1 column 120 (char 119)\n",
      "Error parsing JSON: Expecting ',' delimiter: line 1 column 62 (char 61)\n",
      "Error parsing JSON: Expecting ',' delimiter: line 1 column 265 (char 264)\n",
      "Error parsing JSON: Expecting ',' delimiter: line 1 column 140 (char 139)\n",
      "Error parsing JSON: Expecting ',' delimiter: line 1 column 320 (char 319)\n",
      "Error parsing JSON: Expecting ',' delimiter: line 1 column 220 (char 219)\n",
      "Error parsing JSON: Invalid \\escape: line 1 column 222 (char 221)\n",
      "Error parsing JSON: Expecting ',' delimiter: line 1 column 182 (char 181)\n",
      "Error parsing JSON: Expecting ',' delimiter: line 1 column 176 (char 175)\n",
      "Error parsing JSON: Expecting ',' delimiter: line 1 column 173 (char 172)\n",
      "Error parsing JSON: Expecting ',' delimiter: line 1 column 229 (char 228)\n",
      "Error parsing JSON: Expecting ',' delimiter: line 1 column 100 (char 99)\n",
      "Error parsing JSON: Invalid \\escape: line 1 column 217 (char 216)\n",
      "Error parsing JSON: Expecting ',' delimiter: line 1 column 149 (char 148)\n",
      "Error parsing JSON: Invalid \\escape: line 1 column 300 (char 299)\n",
      "Error parsing JSON: Expecting ',' delimiter: line 1 column 332 (char 331)\n",
      "Error parsing JSON: Expecting ',' delimiter: line 1 column 200 (char 199)\n",
      "Error parsing JSON: Expecting ',' delimiter: line 1 column 314 (char 313)\n",
      "Error parsing JSON: Expecting ',' delimiter: line 1 column 216 (char 215)\n",
      "Error parsing JSON: Expecting ',' delimiter: line 1 column 157 (char 156)\n",
      "Error parsing JSON: Expecting ',' delimiter: line 1 column 106 (char 105)\n",
      "Error parsing JSON: Invalid \\escape: line 1 column 196 (char 195)\n",
      "Error parsing JSON: Expecting ',' delimiter: line 1 column 61 (char 60)\n",
      "Error parsing JSON: Expecting ',' delimiter: line 1 column 222 (char 221)\n",
      "Error parsing JSON: Expecting ',' delimiter: line 1 column 183 (char 182)\n",
      "Error parsing JSON: Expecting ',' delimiter: line 1 column 65 (char 64)\n",
      "Error parsing JSON: Expecting ',' delimiter: line 1 column 317 (char 316)\n",
      "Error parsing JSON: Expecting ',' delimiter: line 1 column 132 (char 131)\n",
      "Error parsing JSON: Expecting ',' delimiter: line 1 column 32 (char 31)\n",
      "Error parsing JSON: Expecting ',' delimiter: line 1 column 481 (char 480)\n",
      "Error parsing JSON: Expecting ',' delimiter: line 1 column 321 (char 320)\n",
      "Error parsing JSON: Expecting ',' delimiter: line 1 column 147 (char 146)\n",
      "Error parsing JSON: Expecting ',' delimiter: line 1 column 337 (char 336)\n",
      "Error parsing JSON: Expecting ',' delimiter: line 1 column 134 (char 133)\n",
      "Error parsing JSON: Expecting ',' delimiter: line 1 column 96 (char 95)\n",
      "Error parsing JSON: Invalid \\escape: line 1 column 438 (char 437)\n",
      "Error parsing JSON: Expecting ',' delimiter: line 1 column 368 (char 367)\n",
      "Error parsing JSON: Expecting ',' delimiter: line 1 column 214 (char 213)\n",
      "Error parsing JSON: Invalid \\escape: line 1 column 777 (char 776)\n",
      "Error parsing JSON: Expecting ',' delimiter: line 1 column 683 (char 682)\n",
      "Error parsing JSON: Expecting ',' delimiter: line 1 column 429 (char 428)\n",
      "Error parsing JSON: Invalid \\escape: line 1 column 233 (char 232)\n",
      "Error parsing JSON: Expecting ',' delimiter: line 1 column 429 (char 428)\n",
      "Error parsing JSON: Invalid \\escape: line 1 column 652 (char 651)\n",
      "Error parsing JSON: Expecting ',' delimiter: line 1 column 203 (char 202)\n",
      "Error parsing JSON: Invalid \\escape: line 1 column 552 (char 551)\n",
      "Error parsing JSON: Expecting ',' delimiter: line 1 column 195 (char 194)\n",
      "Error parsing JSON: Invalid \\escape: line 1 column 249 (char 248)\n",
      "Error parsing JSON: Expecting ',' delimiter: line 1 column 184 (char 183)\n",
      "Error parsing JSON: Expecting ',' delimiter: line 1 column 68 (char 67)\n",
      "Error parsing JSON: Expecting ',' delimiter: line 1 column 146 (char 145)\n",
      "Error parsing JSON: Expecting ',' delimiter: line 1 column 107 (char 106)\n",
      "Error parsing JSON: Expecting ',' delimiter: line 1 column 341 (char 340)\n",
      "Error parsing JSON: Expecting ',' delimiter: line 1 column 64 (char 63)\n",
      "Error parsing JSON: Expecting ',' delimiter: line 1 column 65 (char 64)\n",
      "Error parsing JSON: Expecting ',' delimiter: line 1 column 117 (char 116)\n",
      "Error parsing JSON: Expecting ',' delimiter: line 1 column 32 (char 31)\n",
      "Error parsing JSON: Expecting ',' delimiter: line 1 column 172 (char 171)\n",
      "Error parsing JSON: Expecting ',' delimiter: line 1 column 134 (char 133)\n",
      "Error parsing JSON: Expecting ',' delimiter: line 1 column 131 (char 130)\n",
      "Error parsing JSON: Expecting ',' delimiter: line 1 column 143 (char 142)\n",
      "Error parsing JSON: Expecting ',' delimiter: line 1 column 212 (char 211)\n",
      "Error parsing JSON: Expecting ',' delimiter: line 1 column 692 (char 691)\n",
      "Error parsing JSON: Expecting ',' delimiter: line 1 column 106 (char 105)\n",
      "Error parsing JSON: Expecting ',' delimiter: line 1 column 139 (char 138)\n",
      "Error parsing JSON: Expecting ',' delimiter: line 1 column 69 (char 68)\n",
      "Error parsing JSON: Invalid \\escape: line 1 column 733 (char 732)\n",
      "Error parsing JSON: Expecting ',' delimiter: line 1 column 109 (char 108)\n",
      "Error parsing JSON: Invalid \\escape: line 1 column 382 (char 381)\n",
      "Error parsing JSON: Expecting ',' delimiter: line 1 column 524 (char 523)\n",
      "Error parsing JSON: Expecting ',' delimiter: line 1 column 359 (char 358)\n",
      "Error parsing JSON: Expecting ',' delimiter: line 1 column 76 (char 75)\n",
      "Error parsing JSON: Expecting ',' delimiter: line 1 column 102 (char 101)\n",
      "Error parsing JSON: Expecting ',' delimiter: line 1 column 166 (char 165)\n",
      "Error parsing JSON: Expecting ',' delimiter: line 1 column 404 (char 403)\n",
      "Error parsing JSON: Invalid \\escape: line 1 column 286 (char 285)\n",
      "Error parsing JSON: Expecting ',' delimiter: line 1 column 205 (char 204)\n",
      "Error parsing JSON: Expecting ',' delimiter: line 1 column 72 (char 71)\n",
      "Error parsing JSON: Invalid \\escape: line 1 column 586 (char 585)\n",
      "Error parsing JSON: Invalid \\escape: line 1 column 824 (char 823)\n",
      "Error parsing JSON: Expecting ',' delimiter: line 1 column 222 (char 221)\n",
      "Error parsing JSON: Expecting ',' delimiter: line 1 column 602 (char 601)\n",
      "Error parsing JSON: Expecting ',' delimiter: line 1 column 138 (char 137)\n",
      "Error parsing JSON: Invalid \\escape: line 1 column 216 (char 215)\n",
      "Error parsing JSON: Expecting ',' delimiter: line 1 column 32 (char 31)\n",
      "Error parsing JSON: Expecting ',' delimiter: line 1 column 497 (char 496)\n",
      "Error parsing JSON: Expecting ',' delimiter: line 1 column 577 (char 576)\n",
      "Error parsing JSON: Expecting ',' delimiter: line 1 column 208 (char 207)\n",
      "Error parsing JSON: Expecting ',' delimiter: line 1 column 105 (char 104)\n",
      "Error parsing JSON: Expecting ',' delimiter: line 1 column 71 (char 70)\n",
      "Error parsing JSON: Expecting ',' delimiter: line 1 column 505 (char 504)\n",
      "Error parsing JSON: Expecting ',' delimiter: line 1 column 258 (char 257)\n",
      "Error parsing JSON: Expecting ',' delimiter: line 1 column 351 (char 350)\n",
      "Error parsing JSON: Expecting ',' delimiter: line 1 column 682 (char 681)\n",
      "Error parsing JSON: Expecting ',' delimiter: line 1 column 350 (char 349)\n",
      "Error parsing JSON: Expecting ',' delimiter: line 1 column 416 (char 415)\n",
      "Error parsing JSON: Invalid \\escape: line 1 column 712 (char 711)\n",
      "Error parsing JSON: Expecting ',' delimiter: line 1 column 106 (char 105)\n",
      "Error parsing JSON: Invalid \\escape: line 1 column 271 (char 270)\n",
      "Error parsing JSON: Invalid \\escape: line 1 column 370 (char 369)\n",
      "Error parsing JSON: Expecting ',' delimiter: line 1 column 104 (char 103)\n",
      "Error parsing JSON: Expecting ',' delimiter: line 1 column 105 (char 104)\n",
      "Error parsing JSON: Expecting ',' delimiter: line 1 column 169 (char 168)\n",
      "Error parsing JSON: Invalid \\escape: line 1 column 72 (char 71)\n",
      "Error parsing JSON: Expecting ',' delimiter: line 1 column 70 (char 69)\n",
      "Error parsing JSON: Expecting ',' delimiter: line 1 column 36 (char 35)\n",
      "Error parsing JSON: Expecting ',' delimiter: line 1 column 64 (char 63)\n",
      "Error parsing JSON: Expecting ',' delimiter: line 1 column 63 (char 62)\n",
      "Error parsing JSON: Expecting ',' delimiter: line 1 column 130 (char 129)\n",
      "Error parsing JSON: Expecting ',' delimiter: line 1 column 97 (char 96)\n",
      "Error parsing JSON: Invalid \\escape: line 1 column 241 (char 240)\n",
      "Error parsing JSON: Expecting ',' delimiter: line 1 column 107 (char 106)\n",
      "Error parsing JSON: Expecting ',' delimiter: line 1 column 532 (char 531)\n",
      "Error parsing JSON: Expecting ',' delimiter: line 1 column 107 (char 106)\n",
      "Error parsing JSON: Expecting ',' delimiter: line 1 column 134 (char 133)\n",
      "Error parsing JSON: Expecting ',' delimiter: line 1 column 36 (char 35)\n",
      "Error parsing JSON: Expecting ',' delimiter: line 1 column 252 (char 251)\n",
      "Error parsing JSON: Expecting ',' delimiter: line 1 column 167 (char 166)\n",
      "Error parsing JSON: Invalid \\escape: line 1 column 283 (char 282)\n",
      "Error parsing JSON: Expecting ',' delimiter: line 1 column 76 (char 75)\n",
      "Error parsing JSON: Expecting ',' delimiter: line 1 column 94 (char 93)\n",
      "Error parsing JSON: Expecting ',' delimiter: line 1 column 146 (char 145)\n",
      "Error parsing JSON: Expecting ',' delimiter: line 1 column 106 (char 105)\n",
      "Error parsing JSON: Expecting ',' delimiter: line 1 column 95 (char 94)\n",
      "Error parsing JSON: Expecting ',' delimiter: line 1 column 70 (char 69)\n",
      "Error parsing JSON: Expecting ',' delimiter: line 1 column 70 (char 69)\n",
      "Error parsing JSON: Expecting ',' delimiter: line 1 column 33 (char 32)\n",
      "Error parsing JSON: Expecting ',' delimiter: line 1 column 36 (char 35)\n",
      "Error parsing JSON: Expecting ',' delimiter: line 1 column 32 (char 31)\n",
      "Error parsing JSON: Expecting ',' delimiter: line 1 column 145 (char 144)\n",
      "Error parsing JSON: Expecting ',' delimiter: line 1 column 222 (char 221)\n",
      "Error parsing JSON: Invalid \\escape: line 1 column 98 (char 97)\n",
      "Error parsing JSON: Expecting ',' delimiter: line 1 column 335 (char 334)\n",
      "Error parsing JSON: Expecting ',' delimiter: line 1 column 36 (char 35)\n",
      "Error parsing JSON: Expecting ',' delimiter: line 1 column 175 (char 174)\n",
      "Error parsing JSON: Expecting ',' delimiter: line 1 column 223 (char 222)\n",
      "Error parsing JSON: Invalid \\escape: line 1 column 247 (char 246)\n",
      "Error parsing JSON: Invalid \\escape: line 1 column 238 (char 237)\n",
      "Error parsing JSON: Invalid \\escape: line 1 column 398 (char 397)\n",
      "Error parsing JSON: Invalid \\escape: line 1 column 129 (char 128)\n",
      "Error parsing JSON: Expecting ',' delimiter: line 1 column 181 (char 180)\n",
      "Error parsing JSON: Expecting ',' delimiter: line 1 column 94 (char 93)\n",
      "Error parsing JSON: Expecting ',' delimiter: line 1 column 304 (char 303)\n",
      "Error parsing JSON: Invalid \\escape: line 1 column 394 (char 393)\n",
      "Error parsing JSON: Expecting ',' delimiter: line 1 column 156 (char 155)\n",
      "Error parsing JSON: Expecting ',' delimiter: line 1 column 90 (char 89)\n",
      "Error parsing JSON: Invalid \\escape: line 1 column 533 (char 532)\n",
      "Error parsing JSON: Invalid \\escape: line 1 column 386 (char 385)\n",
      "Error parsing JSON: Expecting ',' delimiter: line 1 column 637 (char 636)\n",
      "Error parsing JSON: Expecting ',' delimiter: line 1 column 95 (char 94)\n",
      "Error parsing JSON: Invalid \\escape: line 1 column 261 (char 260)\n",
      "Error parsing JSON: Expecting ',' delimiter: line 1 column 261 (char 260)\n",
      "Error parsing JSON: Invalid \\escape: line 1 column 101 (char 100)\n",
      "Error parsing JSON: Expecting ',' delimiter: line 1 column 134 (char 133)\n",
      "Error parsing JSON: Expecting ',' delimiter: line 1 column 109 (char 108)\n",
      "Error parsing JSON: Expecting ',' delimiter: line 1 column 76 (char 75)\n",
      "Error parsing JSON: Expecting ',' delimiter: line 1 column 147 (char 146)\n",
      "Error parsing JSON: Expecting ',' delimiter: line 1 column 190 (char 189)\n",
      "Error parsing JSON: Expecting ',' delimiter: line 1 column 170 (char 169)\n",
      "Error parsing JSON: Expecting ',' delimiter: line 1 column 310 (char 309)\n",
      "Error parsing JSON: Expecting ',' delimiter: line 1 column 251 (char 250)\n",
      "Error parsing JSON: Expecting ',' delimiter: line 1 column 135 (char 134)\n",
      "Error parsing JSON: Expecting ',' delimiter: line 1 column 159 (char 158)\n",
      "Error parsing JSON: Expecting ',' delimiter: line 1 column 735 (char 734)\n",
      "Error parsing JSON: Expecting ',' delimiter: line 1 column 686 (char 685)\n",
      "Error parsing JSON: Expecting ',' delimiter: line 1 column 68 (char 67)\n",
      "Error parsing JSON: Expecting ',' delimiter: line 1 column 148 (char 147)\n",
      "Error parsing JSON: Expecting ',' delimiter: line 1 column 179 (char 178)\n",
      "Error parsing JSON: Expecting ',' delimiter: line 1 column 143 (char 142)\n",
      "Error parsing JSON: Expecting ',' delimiter: line 1 column 198 (char 197)\n",
      "Error parsing JSON: Expecting ',' delimiter: line 1 column 64 (char 63)\n",
      "Error parsing JSON: Expecting ',' delimiter: line 1 column 109 (char 108)\n",
      "Error parsing JSON: Expecting ',' delimiter: line 1 column 212 (char 211)\n",
      "Error parsing JSON: Expecting ',' delimiter: line 1 column 286 (char 285)\n",
      "Error parsing JSON: Expecting ',' delimiter: line 1 column 68 (char 67)\n",
      "Error parsing JSON: Expecting ',' delimiter: line 1 column 238 (char 237)\n",
      "Error parsing JSON: Expecting ',' delimiter: line 1 column 107 (char 106)\n",
      "Error parsing JSON: Expecting ',' delimiter: line 1 column 439 (char 438)\n",
      "Error parsing JSON: Expecting ',' delimiter: line 1 column 512 (char 511)\n",
      "Error parsing JSON: Expecting ',' delimiter: line 1 column 36 (char 35)\n",
      "Error parsing JSON: Expecting ',' delimiter: line 1 column 101 (char 100)\n",
      "Error parsing JSON: Invalid \\escape: line 1 column 220 (char 219)\n",
      "Error parsing JSON: Expecting ',' delimiter: line 1 column 284 (char 283)\n",
      "Error parsing JSON: Expecting ',' delimiter: line 1 column 156 (char 155)\n",
      "Error parsing JSON: Expecting ',' delimiter: line 1 column 162 (char 161)\n",
      "Error parsing JSON: Expecting ',' delimiter: line 1 column 146 (char 145)\n",
      "Error parsing JSON: Invalid \\escape: line 1 column 63 (char 62)\n",
      "Error parsing JSON: Expecting ',' delimiter: line 1 column 208 (char 207)\n",
      "Error parsing JSON: Expecting ',' delimiter: line 1 column 31 (char 30)\n",
      "Error parsing JSON: Expecting ',' delimiter: line 1 column 108 (char 107)\n",
      "Error parsing JSON: Expecting ',' delimiter: line 1 column 101 (char 100)\n",
      "Error parsing JSON: Expecting ',' delimiter: line 1 column 139 (char 138)\n",
      "Error parsing JSON: Expecting ',' delimiter: line 1 column 67 (char 66)\n",
      "Error parsing JSON: Expecting ',' delimiter: line 1 column 131 (char 130)\n",
      "Error parsing JSON: Expecting ',' delimiter: line 1 column 292 (char 291)\n",
      "Error parsing JSON: Expecting ',' delimiter: line 1 column 137 (char 136)\n",
      "Error parsing JSON: Expecting ',' delimiter: line 1 column 112 (char 111)\n",
      "Error parsing JSON: Expecting ',' delimiter: line 1 column 30 (char 29)\n",
      "Error parsing JSON: Expecting ',' delimiter: line 1 column 225 (char 224)\n",
      "Error parsing JSON: Expecting ',' delimiter: line 1 column 154 (char 153)\n",
      "Error parsing JSON: Expecting ',' delimiter: line 1 column 95 (char 94)\n",
      "Error parsing JSON: Expecting ',' delimiter: line 1 column 80 (char 79)\n",
      "Error parsing JSON: Expecting ',' delimiter: line 1 column 62 (char 61)\n",
      "Error parsing JSON: Invalid \\escape: line 1 column 100 (char 99)\n",
      "Error parsing JSON: Invalid \\escape: line 1 column 210 (char 209)\n",
      "Error parsing JSON: Expecting ',' delimiter: line 1 column 31 (char 30)\n",
      "Error parsing JSON: Expecting ',' delimiter: line 1 column 115 (char 114)\n",
      "Error parsing JSON: Expecting ',' delimiter: line 1 column 441 (char 440)\n",
      "Error parsing JSON: Expecting ',' delimiter: line 1 column 653 (char 652)\n",
      "Error parsing JSON: Expecting ',' delimiter: line 1 column 208 (char 207)\n",
      "Error parsing JSON: Expecting ',' delimiter: line 1 column 189 (char 188)\n",
      "Error parsing JSON: Expecting ',' delimiter: line 1 column 432 (char 431)\n",
      "Error parsing JSON: Invalid \\escape: line 1 column 286 (char 285)\n",
      "Error parsing JSON: Expecting ',' delimiter: line 1 column 172 (char 171)\n",
      "Error parsing JSON: Invalid \\escape: line 1 column 519 (char 518)\n",
      "Error parsing JSON: Expecting ',' delimiter: line 1 column 763 (char 762)\n",
      "Error parsing JSON: Expecting ',' delimiter: line 1 column 208 (char 207)\n",
      "Error parsing JSON: Expecting ',' delimiter: line 1 column 32 (char 31)\n",
      "Error parsing JSON: Expecting ',' delimiter: line 1 column 299 (char 298)\n",
      "Error parsing JSON: Invalid \\escape: line 1 column 31 (char 30)\n",
      "Error parsing JSON: Expecting ',' delimiter: line 1 column 219 (char 218)\n",
      "Error parsing JSON: Expecting ',' delimiter: line 1 column 237 (char 236)\n",
      "Error parsing JSON: Expecting ',' delimiter: line 1 column 215 (char 214)\n",
      "Error parsing JSON: Expecting ',' delimiter: line 1 column 183 (char 182)\n",
      "Error parsing JSON: Expecting ',' delimiter: line 1 column 102 (char 101)\n",
      "Error parsing JSON: Expecting ',' delimiter: line 1 column 160 (char 159)\n",
      "Error parsing JSON: Expecting ',' delimiter: line 1 column 184 (char 183)\n",
      "Error parsing JSON: Expecting ',' delimiter: line 1 column 74 (char 73)\n",
      "Error parsing JSON: Expecting ',' delimiter: line 1 column 264 (char 263)\n",
      "Error parsing JSON: Invalid \\escape: line 1 column 201 (char 200)\n",
      "Error parsing JSON: Expecting ',' delimiter: line 1 column 36 (char 35)\n",
      "Error parsing JSON: Expecting ',' delimiter: line 1 column 86 (char 85)\n",
      "Error parsing JSON: Expecting ',' delimiter: line 1 column 545 (char 544)\n",
      "Error parsing JSON: Expecting ',' delimiter: line 1 column 60 (char 59)\n",
      "Error parsing JSON: Expecting ',' delimiter: line 1 column 401 (char 400)\n",
      "Error parsing JSON: Expecting ',' delimiter: line 1 column 99 (char 98)\n",
      "Error parsing JSON: Expecting ',' delimiter: line 1 column 36 (char 35)\n",
      "Error parsing JSON: Invalid \\escape: line 1 column 180 (char 179)\n",
      "Error parsing JSON: Invalid \\escape: line 1 column 174 (char 173)\n",
      "Error parsing JSON: Expecting ',' delimiter: line 1 column 211 (char 210)\n",
      "Error parsing JSON: Invalid \\escape: line 1 column 327 (char 326)\n",
      "Error parsing JSON: Expecting ',' delimiter: line 1 column 112 (char 111)\n",
      "Error parsing JSON: Expecting ',' delimiter: line 1 column 297 (char 296)\n",
      "Error parsing JSON: Expecting ',' delimiter: line 1 column 173 (char 172)\n",
      "Error parsing JSON: Expecting ',' delimiter: line 1 column 97 (char 96)\n",
      "Error parsing JSON: Expecting ',' delimiter: line 1 column 78 (char 77)\n",
      "Error parsing JSON: Expecting ',' delimiter: line 1 column 63 (char 62)\n",
      "Error parsing JSON: Expecting ',' delimiter: line 1 column 324 (char 323)\n",
      "Error parsing JSON: Expecting ',' delimiter: line 1 column 464 (char 463)\n",
      "Error parsing JSON: Expecting ',' delimiter: line 1 column 446 (char 445)\n",
      "Error parsing JSON: Expecting ',' delimiter: line 1 column 93 (char 92)\n",
      "Error parsing JSON: Expecting ',' delimiter: line 1 column 67 (char 66)\n",
      "Error parsing JSON: Expecting ',' delimiter: line 1 column 486 (char 485)\n",
      "Error parsing JSON: Expecting ',' delimiter: line 1 column 788 (char 787)\n",
      "Error parsing JSON: Expecting ',' delimiter: line 1 column 203 (char 202)\n",
      "Error parsing JSON: Expecting ',' delimiter: line 1 column 158 (char 157)\n",
      "Error parsing JSON: Expecting ',' delimiter: line 1 column 495 (char 494)\n",
      "Error parsing JSON: Expecting ',' delimiter: line 1 column 173 (char 172)\n",
      "Error parsing JSON: Expecting ',' delimiter: line 1 column 80 (char 79)\n",
      "Error parsing JSON: Expecting ',' delimiter: line 1 column 376 (char 375)\n",
      "Error parsing JSON: Expecting ',' delimiter: line 1 column 84 (char 83)\n",
      "Error parsing JSON: Expecting ',' delimiter: line 1 column 97 (char 96)\n",
      "Error parsing JSON: Expecting ',' delimiter: line 1 column 65 (char 64)\n",
      "Error parsing JSON: Expecting ',' delimiter: line 1 column 421 (char 420)\n",
      "Error parsing JSON: Expecting ',' delimiter: line 1 column 156 (char 155)\n",
      "Error parsing JSON: Expecting ',' delimiter: line 1 column 175 (char 174)\n",
      "Error parsing JSON: Expecting ',' delimiter: line 1 column 170 (char 169)\n",
      "Error parsing JSON: Expecting ',' delimiter: line 1 column 70 (char 69)\n",
      "Error parsing JSON: Expecting ',' delimiter: line 1 column 673 (char 672)\n",
      "Error parsing JSON: Expecting ',' delimiter: line 1 column 222 (char 221)\n",
      "Error parsing JSON: Expecting ',' delimiter: line 1 column 65 (char 64)\n",
      "Error parsing JSON: Expecting ',' delimiter: line 1 column 306 (char 305)\n",
      "Error parsing JSON: Expecting ',' delimiter: line 1 column 498 (char 497)\n",
      "Error parsing JSON: Expecting ',' delimiter: line 1 column 346 (char 345)\n",
      "Error parsing JSON: Expecting ',' delimiter: line 1 column 149 (char 148)\n",
      "Error parsing JSON: Expecting ',' delimiter: line 1 column 111 (char 110)\n",
      "Error parsing JSON: Expecting ',' delimiter: line 1 column 186 (char 185)\n",
      "Error parsing JSON: Expecting ',' delimiter: line 1 column 574 (char 573)\n",
      "Error parsing JSON: Expecting ',' delimiter: line 1 column 141 (char 140)\n",
      "Error parsing JSON: Expecting ',' delimiter: line 1 column 168 (char 167)\n",
      "Error parsing JSON: Expecting ',' delimiter: line 1 column 149 (char 148)\n",
      "Error parsing JSON: Expecting ',' delimiter: line 1 column 93 (char 92)\n",
      "Error parsing JSON: Expecting ',' delimiter: line 1 column 177 (char 176)\n",
      "Error parsing JSON: Expecting ',' delimiter: line 1 column 189 (char 188)\n",
      "Error parsing JSON: Expecting ',' delimiter: line 1 column 91 (char 90)\n",
      "Error parsing JSON: Expecting ',' delimiter: line 1 column 106 (char 105)\n",
      "Error parsing JSON: Expecting ',' delimiter: line 1 column 70 (char 69)\n",
      "Error parsing JSON: Expecting ',' delimiter: line 1 column 213 (char 212)\n",
      "Error parsing JSON: Expecting ',' delimiter: line 1 column 275 (char 274)\n",
      "Error parsing JSON: Expecting ',' delimiter: line 1 column 325 (char 324)\n",
      "Error parsing JSON: Expecting ',' delimiter: line 1 column 136 (char 135)\n",
      "Error parsing JSON: Invalid \\escape: line 1 column 475 (char 474)\n",
      "Error parsing JSON: Invalid \\escape: line 1 column 476 (char 475)\n",
      "Error parsing JSON: Expecting ',' delimiter: line 1 column 540 (char 539)\n",
      "Error parsing JSON: Expecting ',' delimiter: line 1 column 96 (char 95)\n",
      "Error parsing JSON: Expecting ',' delimiter: line 1 column 106 (char 105)\n",
      "Error parsing JSON: Invalid \\escape: line 1 column 129 (char 128)\n",
      "Error parsing JSON: Expecting ',' delimiter: line 1 column 141 (char 140)\n",
      "Error parsing JSON: Expecting ',' delimiter: line 1 column 537 (char 536)\n",
      "Error parsing JSON: Invalid \\escape: line 1 column 161 (char 160)\n",
      "Error parsing JSON: Expecting ',' delimiter: line 1 column 258 (char 257)\n",
      "Error parsing JSON: Expecting ',' delimiter: line 1 column 32 (char 31)\n",
      "Error parsing JSON: Expecting ',' delimiter: line 1 column 207 (char 206)\n",
      "Error parsing JSON: Expecting ',' delimiter: line 1 column 70 (char 69)\n",
      "Error parsing JSON: Expecting ',' delimiter: line 1 column 298 (char 297)\n",
      "Error parsing JSON: Expecting ',' delimiter: line 1 column 170 (char 169)\n",
      "Error parsing JSON: Expecting ',' delimiter: line 1 column 36 (char 35)\n",
      "Error parsing JSON: Expecting ',' delimiter: line 1 column 378 (char 377)\n",
      "Error parsing JSON: Invalid \\escape: line 1 column 156 (char 155)\n",
      "Error parsing JSON: Expecting ',' delimiter: line 1 column 349 (char 348)\n",
      "Error parsing JSON: Expecting ',' delimiter: line 1 column 138 (char 137)\n",
      "Error parsing JSON: Expecting ',' delimiter: line 1 column 582 (char 581)\n",
      "Error parsing JSON: Expecting ',' delimiter: line 1 column 371 (char 370)\n",
      "Error parsing JSON: Expecting ',' delimiter: line 1 column 140 (char 139)\n",
      "Error parsing JSON: Expecting ',' delimiter: line 1 column 399 (char 398)\n",
      "Error parsing JSON: Expecting ',' delimiter: line 1 column 390 (char 389)\n",
      "Error parsing JSON: Expecting ',' delimiter: line 1 column 143 (char 142)\n",
      "Error parsing JSON: Expecting ',' delimiter: line 1 column 429 (char 428)\n",
      "Error parsing JSON: Expecting ',' delimiter: line 1 column 32 (char 31)\n",
      "Error parsing JSON: Expecting ',' delimiter: line 1 column 268 (char 267)\n",
      "Error parsing JSON: Expecting ',' delimiter: line 1 column 353 (char 352)\n",
      "Error parsing JSON: Expecting ',' delimiter: line 1 column 344 (char 343)\n",
      "Error parsing JSON: Expecting ',' delimiter: line 1 column 122 (char 121)\n",
      "Error parsing JSON: Expecting ',' delimiter: line 1 column 239 (char 238)\n",
      "Error parsing JSON: Expecting ',' delimiter: line 1 column 104 (char 103)\n",
      "Error parsing JSON: Expecting ',' delimiter: line 1 column 251 (char 250)\n",
      "Error parsing JSON: Expecting ',' delimiter: line 1 column 142 (char 141)\n",
      "Error parsing JSON: Expecting ',' delimiter: line 1 column 163 (char 162)\n",
      "Error parsing JSON: Expecting ',' delimiter: line 1 column 133 (char 132)\n",
      "Error parsing JSON: Expecting ',' delimiter: line 1 column 668 (char 667)\n",
      "Error parsing JSON: Expecting ',' delimiter: line 1 column 139 (char 138)\n",
      "Error parsing JSON: Expecting ',' delimiter: line 1 column 191 (char 190)\n",
      "Error parsing JSON: Expecting ',' delimiter: line 1 column 96 (char 95)\n",
      "Error parsing JSON: Expecting ',' delimiter: line 1 column 136 (char 135)\n",
      "Error parsing JSON: Expecting ',' delimiter: line 1 column 309 (char 308)\n",
      "Error parsing JSON: Expecting ',' delimiter: line 1 column 266 (char 265)\n",
      "Error parsing JSON: Expecting ',' delimiter: line 1 column 249 (char 248)\n",
      "Error parsing JSON: Expecting ',' delimiter: line 1 column 467 (char 466)\n",
      "Error parsing JSON: Expecting ',' delimiter: line 1 column 316 (char 315)\n",
      "Error parsing JSON: Expecting ',' delimiter: line 1 column 170 (char 169)\n",
      "Error parsing JSON: Invalid \\escape: line 1 column 199 (char 198)\n",
      "Error parsing JSON: Expecting ',' delimiter: line 1 column 327 (char 326)\n",
      "Error parsing JSON: Expecting ',' delimiter: line 1 column 75 (char 74)\n",
      "Error parsing JSON: Expecting ',' delimiter: line 1 column 318 (char 317)\n",
      "Error parsing JSON: Expecting ',' delimiter: line 1 column 186 (char 185)\n",
      "Error parsing JSON: Expecting ',' delimiter: line 1 column 118 (char 117)\n",
      "Error parsing JSON: Invalid \\escape: line 1 column 737 (char 736)\n",
      "Error parsing JSON: Invalid \\escape: line 1 column 389 (char 388)\n",
      "Error parsing JSON: Expecting ',' delimiter: line 1 column 36 (char 35)\n",
      "Error parsing JSON: Expecting ',' delimiter: line 1 column 164 (char 163)\n",
      "Error parsing JSON: Expecting ',' delimiter: line 1 column 213 (char 212)\n",
      "Error parsing JSON: Expecting ',' delimiter: line 1 column 30 (char 29)\n",
      "Error parsing JSON: Expecting ',' delimiter: line 1 column 73 (char 72)\n",
      "Error parsing JSON: Expecting ',' delimiter: line 1 column 395 (char 394)\n",
      "Error parsing JSON: Expecting ',' delimiter: line 1 column 69 (char 68)\n",
      "Error parsing JSON: Expecting ',' delimiter: line 1 column 69 (char 68)\n",
      "Error parsing JSON: Invalid \\escape: line 1 column 602 (char 601)\n",
      "Error parsing JSON: Expecting ',' delimiter: line 1 column 100 (char 99)\n",
      "Error parsing JSON: Invalid \\escape: line 1 column 62 (char 61)\n",
      "Error parsing JSON: Expecting ',' delimiter: line 1 column 410 (char 409)\n",
      "Error parsing JSON: Expecting ',' delimiter: line 1 column 99 (char 98)\n",
      "Error parsing JSON: Expecting ',' delimiter: line 1 column 282 (char 281)\n",
      "Error parsing JSON: Expecting ',' delimiter: line 1 column 300 (char 299)\n",
      "Error parsing JSON: Expecting ',' delimiter: line 1 column 36 (char 35)\n",
      "Error parsing JSON: Expecting ',' delimiter: line 1 column 390 (char 389)\n",
      "Error parsing JSON: Expecting ',' delimiter: line 1 column 100 (char 99)\n",
      "Error parsing JSON: Expecting ',' delimiter: line 1 column 168 (char 167)\n",
      "Error parsing JSON: Expecting ',' delimiter: line 1 column 72 (char 71)\n",
      "Error parsing JSON: Invalid \\escape: line 1 column 33 (char 32)\n",
      "Error parsing JSON: Expecting ',' delimiter: line 1 column 139 (char 138)\n",
      "Error parsing JSON: Invalid \\escape: line 1 column 95 (char 94)\n",
      "Error parsing JSON: Expecting ',' delimiter: line 1 column 174 (char 173)\n",
      "Error parsing JSON: Expecting ',' delimiter: line 1 column 171 (char 170)\n",
      "Error parsing JSON: Expecting ',' delimiter: line 1 column 32 (char 31)\n",
      "Error parsing JSON: Expecting ',' delimiter: line 1 column 36 (char 35)\n",
      "Error parsing JSON: Expecting ',' delimiter: line 1 column 309 (char 308)\n",
      "Error parsing JSON: Expecting ',' delimiter: line 1 column 315 (char 314)\n",
      "Error parsing JSON: Invalid \\escape: line 1 column 583 (char 582)\n",
      "Error parsing JSON: Invalid \\escape: line 1 column 242 (char 241)\n",
      "Error parsing JSON: Expecting ',' delimiter: line 1 column 73 (char 72)\n",
      "Error parsing JSON: Expecting ',' delimiter: line 1 column 140 (char 139)\n",
      "Error parsing JSON: Expecting ',' delimiter: line 1 column 35 (char 34)\n",
      "Error parsing JSON: Expecting ',' delimiter: line 1 column 36 (char 35)\n",
      "Error parsing JSON: Expecting ',' delimiter: line 1 column 78 (char 77)\n",
      "Error parsing JSON: Expecting ',' delimiter: line 1 column 64 (char 63)\n",
      "Error parsing JSON: Expecting ',' delimiter: line 1 column 65 (char 64)\n",
      "Error parsing JSON: Invalid \\escape: line 1 column 148 (char 147)\n",
      "Error parsing JSON: Invalid \\escape: line 1 column 355 (char 354)\n",
      "Error parsing JSON: Expecting ',' delimiter: line 1 column 238 (char 237)\n",
      "Error parsing JSON: Invalid \\escape: line 1 column 137 (char 136)\n",
      "Error parsing JSON: Expecting ',' delimiter: line 1 column 61 (char 60)\n",
      "Error parsing JSON: Invalid \\escape: line 1 column 117 (char 116)\n",
      "Error parsing JSON: Expecting ',' delimiter: line 1 column 93 (char 92)\n",
      "Error parsing JSON: Expecting ',' delimiter: line 1 column 180 (char 179)\n",
      "Error parsing JSON: Expecting ',' delimiter: line 1 column 70 (char 69)\n",
      "Error parsing JSON: Expecting ',' delimiter: line 1 column 267 (char 266)\n",
      "Error parsing JSON: Expecting ',' delimiter: line 1 column 134 (char 133)\n",
      "Error parsing JSON: Invalid \\escape: line 1 column 70 (char 69)\n",
      "Error parsing JSON: Expecting ',' delimiter: line 1 column 105 (char 104)\n",
      "Error parsing JSON: Expecting ',' delimiter: line 1 column 377 (char 376)\n",
      "Error parsing JSON: Expecting ',' delimiter: line 1 column 327 (char 326)\n",
      "Error parsing JSON: Expecting ',' delimiter: line 1 column 168 (char 167)\n",
      "Error parsing JSON: Expecting ',' delimiter: line 1 column 200 (char 199)\n",
      "Error parsing JSON: Expecting ',' delimiter: line 1 column 99 (char 98)\n",
      "Error parsing JSON: Expecting ',' delimiter: line 1 column 68 (char 67)\n",
      "Error parsing JSON: Expecting ',' delimiter: line 1 column 29 (char 28)\n",
      "Error parsing JSON: Expecting ',' delimiter: line 1 column 239 (char 238)\n",
      "Error parsing JSON: Expecting ',' delimiter: line 1 column 101 (char 100)\n",
      "Error parsing JSON: Invalid \\escape: line 1 column 152 (char 151)\n",
      "Error parsing JSON: Expecting ',' delimiter: line 1 column 33 (char 32)\n",
      "Error parsing JSON: Expecting ',' delimiter: line 1 column 102 (char 101)\n",
      "Error parsing JSON: Expecting ',' delimiter: line 1 column 69 (char 68)\n",
      "Error parsing JSON: Expecting ',' delimiter: line 1 column 134 (char 133)\n",
      "Error parsing JSON: Expecting ',' delimiter: line 1 column 614 (char 613)\n",
      "Error parsing JSON: Expecting ',' delimiter: line 1 column 160 (char 159)\n",
      "Error parsing JSON: Expecting ',' delimiter: line 1 column 106 (char 105)\n",
      "Error parsing JSON: Expecting ',' delimiter: line 1 column 185 (char 184)\n",
      "Error parsing JSON: Expecting ',' delimiter: line 1 column 253 (char 252)\n",
      "Error parsing JSON: Expecting ',' delimiter: line 1 column 31 (char 30)\n",
      "Error parsing JSON: Expecting ',' delimiter: line 1 column 31 (char 30)\n",
      "Error parsing JSON: Expecting ',' delimiter: line 1 column 36 (char 35)\n",
      "Error parsing JSON: Expecting ',' delimiter: line 1 column 452 (char 451)\n",
      "Error parsing JSON: Expecting ',' delimiter: line 1 column 36 (char 35)\n",
      "Error parsing JSON: Expecting ',' delimiter: line 1 column 194 (char 193)\n",
      "Error parsing JSON: Invalid \\escape: line 1 column 171 (char 170)\n",
      "Error parsing JSON: Expecting ',' delimiter: line 1 column 319 (char 318)\n",
      "Error parsing JSON: Expecting ',' delimiter: line 1 column 32 (char 31)\n",
      "Error parsing JSON: Expecting ',' delimiter: line 1 column 110 (char 109)\n",
      "Error parsing JSON: Invalid \\escape: line 1 column 518 (char 517)\n",
      "Error parsing JSON: Invalid \\escape: line 1 column 113 (char 112)\n",
      "Error parsing JSON: Expecting ',' delimiter: line 1 column 268 (char 267)\n",
      "Error parsing JSON: Expecting ',' delimiter: line 1 column 361 (char 360)\n",
      "Error parsing JSON: Expecting ',' delimiter: line 1 column 287 (char 286)\n",
      "Error parsing JSON: Invalid \\escape: line 1 column 327 (char 326)\n",
      "Error parsing JSON: Expecting ',' delimiter: line 1 column 96 (char 95)\n",
      "Error parsing JSON: Expecting ',' delimiter: line 1 column 64 (char 63)\n",
      "Error parsing JSON: Expecting ',' delimiter: line 1 column 277 (char 276)\n",
      "Error parsing JSON: Expecting ',' delimiter: line 1 column 32 (char 31)\n",
      "Error parsing JSON: Invalid \\escape: line 1 column 279 (char 278)\n",
      "Error parsing JSON: Invalid \\escape: line 1 column 380 (char 379)\n",
      "Error parsing JSON: Expecting ',' delimiter: line 1 column 898 (char 897)\n",
      "Error parsing JSON: Invalid \\escape: line 1 column 156 (char 155)\n",
      "Error parsing JSON: Expecting ',' delimiter: line 1 column 73 (char 72)\n",
      "Error parsing JSON: Expecting ',' delimiter: line 1 column 71 (char 70)\n",
      "Error parsing JSON: Expecting ',' delimiter: line 1 column 153 (char 152)\n",
      "Error parsing JSON: Invalid \\escape: line 1 column 335 (char 334)\n",
      "Error parsing JSON: Expecting ',' delimiter: line 1 column 30 (char 29)\n",
      "Error parsing JSON: Expecting ',' delimiter: line 1 column 150 (char 149)\n",
      "Error parsing JSON: Invalid \\escape: line 1 column 139 (char 138)\n",
      "Error parsing JSON: Invalid \\escape: line 1 column 137 (char 136)\n",
      "Error parsing JSON: Expecting ',' delimiter: line 1 column 100 (char 99)\n",
      "Error parsing JSON: Invalid \\escape: line 1 column 156 (char 155)\n",
      "Error parsing JSON: Expecting ',' delimiter: line 1 column 98 (char 97)\n",
      "Error parsing JSON: Expecting ',' delimiter: line 1 column 318 (char 317)\n",
      "Error parsing JSON: Invalid \\escape: line 1 column 448 (char 447)\n",
      "Error parsing JSON: Invalid \\escape: line 1 column 236 (char 235)\n",
      "Error parsing JSON: Invalid \\escape: line 1 column 323 (char 322)\n",
      "Error parsing JSON: Invalid \\escape: line 1 column 463 (char 462)\n",
      "Error parsing JSON: Expecting ',' delimiter: line 1 column 66 (char 65)\n",
      "Error parsing JSON: Expecting ',' delimiter: line 1 column 71 (char 70)\n",
      "Error parsing JSON: Invalid \\escape: line 1 column 286 (char 285)\n",
      "Error parsing JSON: Invalid \\escape: line 1 column 216 (char 215)\n",
      "Error parsing JSON: Expecting ',' delimiter: line 1 column 99 (char 98)\n",
      "Error parsing JSON: Expecting ',' delimiter: line 1 column 282 (char 281)\n",
      "Error parsing JSON: Expecting ',' delimiter: line 1 column 131 (char 130)\n",
      "Error parsing JSON: Expecting ',' delimiter: line 1 column 218 (char 217)\n",
      "Error parsing JSON: Expecting ',' delimiter: line 1 column 153 (char 152)\n",
      "Error parsing JSON: Expecting ',' delimiter: line 1 column 316 (char 315)\n",
      "Error parsing JSON: Expecting ',' delimiter: line 1 column 287 (char 286)\n",
      "Error parsing JSON: Expecting ',' delimiter: line 1 column 62 (char 61)\n",
      "Error parsing JSON: Invalid \\escape: line 1 column 196 (char 195)\n",
      "Error parsing JSON: Expecting ',' delimiter: line 1 column 68 (char 67)\n",
      "Error parsing JSON: Expecting ',' delimiter: line 1 column 32 (char 31)\n",
      "Error parsing JSON: Expecting ',' delimiter: line 1 column 30 (char 29)\n",
      "Error parsing JSON: Expecting ',' delimiter: line 1 column 511 (char 510)\n",
      "Error parsing JSON: Expecting ',' delimiter: line 1 column 60 (char 59)\n",
      "Error parsing JSON: Expecting ',' delimiter: line 1 column 67 (char 66)\n",
      "Error parsing JSON: Expecting ',' delimiter: line 1 column 61 (char 60)\n",
      "Error parsing JSON: Expecting ',' delimiter: line 1 column 509 (char 508)\n",
      "Error parsing JSON: Expecting ',' delimiter: line 1 column 30 (char 29)\n",
      "Error parsing JSON: Expecting ',' delimiter: line 1 column 97 (char 96)\n",
      "Error parsing JSON: Expecting ',' delimiter: line 1 column 60 (char 59)\n",
      "Error parsing JSON: Invalid \\escape: line 1 column 412 (char 411)\n",
      "Error parsing JSON: Expecting ',' delimiter: line 1 column 219 (char 218)\n",
      "Error parsing JSON: Expecting ',' delimiter: line 1 column 290 (char 289)\n",
      "Error parsing JSON: Invalid \\escape: line 1 column 294 (char 293)\n",
      "Error parsing JSON: Invalid \\escape: line 1 column 66 (char 65)\n",
      "Error parsing JSON: Expecting ',' delimiter: line 1 column 79 (char 78)\n",
      "Error parsing JSON: Expecting ',' delimiter: line 1 column 32 (char 31)\n",
      "Error parsing JSON: Expecting ',' delimiter: line 1 column 31 (char 30)\n",
      "Error parsing JSON: Expecting ',' delimiter: line 1 column 146 (char 145)\n",
      "Error parsing JSON: Expecting ',' delimiter: line 1 column 264 (char 263)\n",
      "Error parsing JSON: Expecting ',' delimiter: line 1 column 59 (char 58)\n",
      "Error parsing JSON: Invalid \\escape: line 1 column 26 (char 25)\n",
      "Error parsing JSON: Expecting ',' delimiter: line 1 column 298 (char 297)\n",
      "Error parsing JSON: Expecting ',' delimiter: line 1 column 35 (char 34)\n",
      "Error parsing JSON: Expecting ',' delimiter: line 1 column 259 (char 258)\n",
      "Error parsing JSON: Expecting ',' delimiter: line 1 column 32 (char 31)\n",
      "Error parsing JSON: Expecting ',' delimiter: line 1 column 117 (char 116)\n",
      "Error parsing JSON: Expecting ',' delimiter: line 1 column 43 (char 42)\n",
      "Error parsing JSON: Expecting ',' delimiter: line 1 column 31 (char 30)\n",
      "Error parsing JSON: Expecting ',' delimiter: line 1 column 247 (char 246)\n",
      "Error parsing JSON: Expecting ',' delimiter: line 1 column 78 (char 77)\n",
      "Error parsing JSON: Invalid \\escape: line 1 column 262 (char 261)\n",
      "Error parsing JSON: Invalid \\escape: line 1 column 193 (char 192)\n",
      "Error parsing JSON: Expecting ',' delimiter: line 1 column 171 (char 170)\n",
      "Error parsing JSON: Expecting ',' delimiter: line 1 column 101 (char 100)\n",
      "Error parsing JSON: Expecting ',' delimiter: line 1 column 70 (char 69)\n",
      "Error parsing JSON: Expecting ',' delimiter: line 1 column 131 (char 130)\n",
      "Error parsing JSON: Expecting ',' delimiter: line 1 column 157 (char 156)\n",
      "Error parsing JSON: Expecting ',' delimiter: line 1 column 396 (char 395)\n",
      "Error parsing JSON: Expecting ',' delimiter: line 1 column 70 (char 69)\n",
      "Error parsing JSON: Expecting ',' delimiter: line 1 column 131 (char 130)\n",
      "Error parsing JSON: Expecting ',' delimiter: line 1 column 288 (char 287)\n",
      "Error parsing JSON: Expecting ',' delimiter: line 1 column 246 (char 245)\n",
      "Error parsing JSON: Invalid \\escape: line 1 column 94 (char 93)\n",
      "Error parsing JSON: Invalid \\escape: line 1 column 725 (char 724)\n",
      "Error parsing JSON: Expecting ',' delimiter: line 1 column 72 (char 71)\n",
      "Error parsing JSON: Expecting ',' delimiter: line 1 column 121 (char 120)\n",
      "Error parsing JSON: Expecting ',' delimiter: line 1 column 221 (char 220)\n",
      "Error parsing JSON: Expecting ',' delimiter: line 1 column 30 (char 29)\n",
      "Error parsing JSON: Expecting ',' delimiter: line 1 column 32 (char 31)\n",
      "Error parsing JSON: Expecting ',' delimiter: line 1 column 30 (char 29)\n",
      "Error parsing JSON: Expecting ',' delimiter: line 1 column 32 (char 31)\n",
      "Error parsing JSON: Expecting ',' delimiter: line 1 column 182 (char 181)\n",
      "Error parsing JSON: Expecting ',' delimiter: line 1 column 110 (char 109)\n",
      "Error parsing JSON: Expecting ',' delimiter: line 1 column 110 (char 109)\n",
      "Error parsing JSON: Expecting ',' delimiter: line 1 column 222 (char 221)\n",
      "Error parsing JSON: Expecting ',' delimiter: line 1 column 35 (char 34)\n",
      "Error parsing JSON: Invalid \\escape: line 1 column 106 (char 105)\n",
      "Error parsing JSON: Invalid \\escape: line 1 column 313 (char 312)\n",
      "Error parsing JSON: Expecting ',' delimiter: line 1 column 85 (char 84)\n",
      "Error parsing JSON: Expecting ',' delimiter: line 1 column 550 (char 549)\n",
      "Error parsing JSON: Invalid \\escape: line 1 column 181 (char 180)\n",
      "Error parsing JSON: Expecting ',' delimiter: line 1 column 60 (char 59)\n",
      "Error parsing JSON: Expecting ',' delimiter: line 1 column 463 (char 462)\n",
      "Error parsing JSON: Invalid \\escape: line 1 column 282 (char 281)\n",
      "Error parsing JSON: Invalid \\escape: line 1 column 217 (char 216)\n",
      "Error parsing JSON: Invalid \\escape: line 1 column 126 (char 125)\n",
      "Error parsing JSON: Expecting ',' delimiter: line 1 column 99 (char 98)\n",
      "Error parsing JSON: Expecting ',' delimiter: line 1 column 411 (char 410)\n",
      "Error parsing JSON: Invalid \\escape: line 1 column 198 (char 197)\n",
      "Error parsing JSON: Expecting ',' delimiter: line 1 column 208 (char 207)\n",
      "Error parsing JSON: Expecting ',' delimiter: line 1 column 629 (char 628)\n",
      "Error parsing JSON: Expecting ',' delimiter: line 1 column 322 (char 321)\n",
      "Error parsing JSON: Expecting ',' delimiter: line 1 column 144 (char 143)\n",
      "Error parsing JSON: Invalid \\escape: line 1 column 198 (char 197)\n",
      "Error parsing JSON: Expecting ',' delimiter: line 1 column 31 (char 30)\n",
      "Error parsing JSON: Invalid \\escape: line 1 column 33 (char 32)\n",
      "Error parsing JSON: Expecting ',' delimiter: line 1 column 261 (char 260)\n",
      "Error parsing JSON: Expecting ',' delimiter: line 1 column 144 (char 143)\n",
      "Error parsing JSON: Expecting ',' delimiter: line 1 column 272 (char 271)\n",
      "Error parsing JSON: Expecting ',' delimiter: line 1 column 512 (char 511)\n",
      "Error parsing JSON: Expecting ',' delimiter: line 1 column 373 (char 372)\n",
      "Error parsing JSON: Expecting ',' delimiter: line 1 column 65 (char 64)\n",
      "Error parsing JSON: Expecting ',' delimiter: line 1 column 96 (char 95)\n",
      "Error parsing JSON: Expecting ',' delimiter: line 1 column 105 (char 104)\n",
      "Error parsing JSON: Expecting ',' delimiter: line 1 column 154 (char 153)\n",
      "Error parsing JSON: Expecting ',' delimiter: line 1 column 107 (char 106)\n",
      "Error parsing JSON: Expecting ',' delimiter: line 1 column 226 (char 225)\n",
      "Error parsing JSON: Expecting ',' delimiter: line 1 column 36 (char 35)\n",
      "Error parsing JSON: Expecting ',' delimiter: line 1 column 36 (char 35)\n",
      "Error parsing JSON: Expecting ',' delimiter: line 1 column 31 (char 30)\n",
      "Error parsing JSON: Expecting ',' delimiter: line 1 column 64 (char 63)\n",
      "Error parsing JSON: Expecting ',' delimiter: line 1 column 32 (char 31)\n",
      "Error parsing JSON: Expecting ',' delimiter: line 1 column 168 (char 167)\n",
      "Error parsing JSON: Expecting ',' delimiter: line 1 column 66 (char 65)\n",
      "Error parsing JSON: Expecting ',' delimiter: line 1 column 63 (char 62)\n",
      "Error parsing JSON: Expecting ',' delimiter: line 1 column 31 (char 30)\n",
      "Error parsing JSON: Expecting ',' delimiter: line 1 column 36 (char 35)\n",
      "Error parsing JSON: Expecting ',' delimiter: line 1 column 39 (char 38)\n",
      "Error parsing JSON: Expecting ',' delimiter: line 1 column 174 (char 173)\n",
      "Error parsing JSON: Expecting ',' delimiter: line 1 column 36 (char 35)\n",
      "Error parsing JSON: Expecting ',' delimiter: line 1 column 39 (char 38)\n",
      "Error parsing JSON: Expecting ',' delimiter: line 1 column 174 (char 173)\n",
      "Error parsing JSON: Invalid \\escape: line 1 column 257 (char 256)\n",
      "Error parsing JSON: Expecting ',' delimiter: line 1 column 105 (char 104)\n",
      "Error parsing JSON: Expecting ',' delimiter: line 1 column 59 (char 58)\n",
      "Error parsing JSON: Expecting ',' delimiter: line 1 column 149 (char 148)\n",
      "Error parsing JSON: Expecting ',' delimiter: line 1 column 187 (char 186)\n",
      "Error parsing JSON: Expecting ',' delimiter: line 1 column 304 (char 303)\n",
      "Error parsing JSON: Invalid \\escape: line 1 column 214 (char 213)\n",
      "Error parsing JSON: Expecting ',' delimiter: line 1 column 64 (char 63)\n",
      "Error parsing JSON: Expecting ',' delimiter: line 1 column 202 (char 201)\n",
      "Error parsing JSON: Expecting ',' delimiter: line 1 column 63 (char 62)\n",
      "Error parsing JSON: Expecting ',' delimiter: line 1 column 106 (char 105)\n",
      "Error parsing JSON: Expecting ',' delimiter: line 1 column 174 (char 173)\n",
      "Error parsing JSON: Expecting ',' delimiter: line 1 column 270 (char 269)\n",
      "Error parsing JSON: Expecting ',' delimiter: line 1 column 77 (char 76)\n",
      "Error parsing JSON: Expecting ',' delimiter: line 1 column 70 (char 69)\n",
      "Error parsing JSON: Invalid \\escape: line 1 column 430 (char 429)\n",
      "Error parsing JSON: Expecting ',' delimiter: line 1 column 133 (char 132)\n",
      "Error parsing JSON: Invalid \\escape: line 1 column 227 (char 226)\n",
      "Error parsing JSON: Expecting ',' delimiter: line 1 column 33 (char 32)\n",
      "Error parsing JSON: Invalid \\escape: line 1 column 336 (char 335)\n",
      "Error parsing JSON: Expecting ',' delimiter: line 1 column 83 (char 82)\n",
      "Error parsing JSON: Expecting ',' delimiter: line 1 column 118 (char 117)\n",
      "Error parsing JSON: Expecting ',' delimiter: line 1 column 105 (char 104)\n",
      "Error parsing JSON: Expecting ',' delimiter: line 1 column 76 (char 75)\n",
      "Error parsing JSON: Expecting ',' delimiter: line 1 column 43 (char 42)\n",
      "Error parsing JSON: Invalid \\escape: line 1 column 41 (char 40)\n",
      "Error parsing JSON: Expecting ',' delimiter: line 1 column 77 (char 76)\n",
      "Error parsing JSON: Expecting ',' delimiter: line 1 column 117 (char 116)\n",
      "Error parsing JSON: Invalid \\escape: line 1 column 179 (char 178)\n",
      "Error parsing JSON: Expecting ',' delimiter: line 1 column 163 (char 162)\n",
      "Error parsing JSON: Expecting ',' delimiter: line 1 column 108 (char 107)\n",
      "Error parsing JSON: Expecting ',' delimiter: line 1 column 245 (char 244)\n",
      "Error parsing JSON: Expecting ',' delimiter: line 1 column 239 (char 238)\n",
      "Error parsing JSON: Expecting ',' delimiter: line 1 column 152 (char 151)\n",
      "Error parsing JSON: Expecting ',' delimiter: line 1 column 118 (char 117)\n",
      "Error parsing JSON: Expecting ',' delimiter: line 1 column 407 (char 406)\n",
      "Error parsing JSON: Expecting ',' delimiter: line 1 column 43 (char 42)\n",
      "Error parsing JSON: Expecting ',' delimiter: line 1 column 214 (char 213)\n",
      "Error parsing JSON: Expecting ',' delimiter: line 1 column 217 (char 216)\n",
      "Error parsing JSON: Expecting ',' delimiter: line 1 column 394 (char 393)\n",
      "Error parsing JSON: Expecting ',' delimiter: line 1 column 32 (char 31)\n",
      "Error parsing JSON: Expecting ',' delimiter: line 1 column 218 (char 217)\n",
      "Error parsing JSON: Expecting ',' delimiter: line 1 column 144 (char 143)\n",
      "Error parsing JSON: Invalid \\escape: line 1 column 82 (char 81)\n",
      "Error parsing JSON: Expecting ',' delimiter: line 1 column 36 (char 35)\n",
      "Error parsing JSON: Expecting ',' delimiter: line 1 column 28 (char 27)\n",
      "Error parsing JSON: Expecting ',' delimiter: line 1 column 251 (char 250)\n",
      "Error parsing JSON: Expecting ',' delimiter: line 1 column 259 (char 258)\n",
      "Error parsing JSON: Expecting ',' delimiter: line 1 column 36 (char 35)\n",
      "Error parsing JSON: Expecting ',' delimiter: line 1 column 135 (char 134)\n",
      "Error parsing JSON: Expecting ',' delimiter: line 1 column 144 (char 143)\n",
      "Error parsing JSON: Expecting ',' delimiter: line 1 column 354 (char 353)\n",
      "Error parsing JSON: Expecting ',' delimiter: line 1 column 97 (char 96)\n",
      "Error parsing JSON: Invalid \\escape: line 1 column 523 (char 522)\n",
      "Error parsing JSON: Expecting ',' delimiter: line 1 column 227 (char 226)\n",
      "Error parsing JSON: Expecting ',' delimiter: line 1 column 226 (char 225)\n"
     ]
    },
    {
     "data": {
      "text/html": [
       "<div>\n",
       "<style scoped>\n",
       "    .dataframe tbody tr th:only-of-type {\n",
       "        vertical-align: middle;\n",
       "    }\n",
       "\n",
       "    .dataframe tbody tr th {\n",
       "        vertical-align: top;\n",
       "    }\n",
       "\n",
       "    .dataframe thead th {\n",
       "        text-align: right;\n",
       "    }\n",
       "</style>\n",
       "<table border=\"1\" class=\"dataframe\">\n",
       "  <thead>\n",
       "    <tr style=\"text-align: right;\">\n",
       "      <th></th>\n",
       "      <th>id</th>\n",
       "      <th>keywords</th>\n",
       "      <th>AllKeywords</th>\n",
       "    </tr>\n",
       "  </thead>\n",
       "  <tbody>\n",
       "    <tr>\n",
       "      <th>0</th>\n",
       "      <td>862</td>\n",
       "      <td>[{\"id\": 931, \"name\": \"jealousy\"}, {\"id\": 4290,...</td>\n",
       "      <td>friendship,new toy,rivalry,boy</td>\n",
       "    </tr>\n",
       "    <tr>\n",
       "      <th>1</th>\n",
       "      <td>8844</td>\n",
       "      <td>[{\"id\": 10090, \"name\": \"board game\"}, {\"id\": 1...</td>\n",
       "      <td></td>\n",
       "    </tr>\n",
       "    <tr>\n",
       "      <th>2</th>\n",
       "      <td>15602</td>\n",
       "      <td>[{\"id\": 1495, \"name\": \"fishing\"}, {\"id\": 12392...</td>\n",
       "      <td>fishing,best friend,duringcreditsstinger,old men</td>\n",
       "    </tr>\n",
       "    <tr>\n",
       "      <th>3</th>\n",
       "      <td>31357</td>\n",
       "      <td>[{\"id\": 818, \"name\": \"based on novel\"}, {\"id\":...</td>\n",
       "      <td>interracial relationship,based on novel,single...</td>\n",
       "    </tr>\n",
       "    <tr>\n",
       "      <th>4</th>\n",
       "      <td>11862</td>\n",
       "      <td>[{\"id\": 1009, \"name\": \"baby\"}, {\"id\": 1599, \"n...</td>\n",
       "      <td>baby,aging,mother daughter relationship,gyneco...</td>\n",
       "    </tr>\n",
       "  </tbody>\n",
       "</table>\n",
       "</div>"
      ],
      "text/plain": [
       "      id                                           keywords  \\\n",
       "0    862  [{\"id\": 931, \"name\": \"jealousy\"}, {\"id\": 4290,...   \n",
       "1   8844  [{\"id\": 10090, \"name\": \"board game\"}, {\"id\": 1...   \n",
       "2  15602  [{\"id\": 1495, \"name\": \"fishing\"}, {\"id\": 12392...   \n",
       "3  31357  [{\"id\": 818, \"name\": \"based on novel\"}, {\"id\":...   \n",
       "4  11862  [{\"id\": 1009, \"name\": \"baby\"}, {\"id\": 1599, \"n...   \n",
       "\n",
       "                                         AllKeywords  \n",
       "0                     friendship,new toy,rivalry,boy  \n",
       "1                                                     \n",
       "2   fishing,best friend,duringcreditsstinger,old men  \n",
       "3  interracial relationship,based on novel,single...  \n",
       "4  baby,aging,mother daughter relationship,gyneco...  "
      ]
     },
     "execution_count": 23,
     "metadata": {},
     "output_type": "execute_result"
    }
   ],
   "source": [
    "keywords['keywords'] = keywords['keywords'].str.replace(\"'\", '\"')\n",
    "\n",
    "keywords['AllKeywords'] = keywords['keywords'].apply(EDA_keywords)\n",
    "keywords.head()"
   ]
  },
  {
   "cell_type": "code",
   "execution_count": 24,
   "id": "c31111e9cbd561b5",
   "metadata": {
    "ExecuteTime": {
     "end_time": "2024-04-30T04:39:21.494941800Z",
     "start_time": "2024-04-30T04:39:21.473406800Z"
    },
    "collapsed": false,
    "metadata": {}
   },
   "outputs": [
    {
     "name": "stdout",
     "output_type": "stream",
     "text": [
      "15426\n"
     ]
    }
   ],
   "source": [
    "print((keywords['AllKeywords'] == '').sum())"
   ]
  },
  {
   "cell_type": "code",
   "execution_count": 25,
   "id": "9c1cf3061ab13f50",
   "metadata": {
    "ExecuteTime": {
     "end_time": "2024-04-30T04:39:22.627767900Z",
     "start_time": "2024-04-30T04:39:22.537181800Z"
    },
    "collapsed": false,
    "metadata": {}
   },
   "outputs": [
    {
     "data": {
      "text/html": [
       "<div>\n",
       "<style scoped>\n",
       "    .dataframe tbody tr th:only-of-type {\n",
       "        vertical-align: middle;\n",
       "    }\n",
       "\n",
       "    .dataframe tbody tr th {\n",
       "        vertical-align: top;\n",
       "    }\n",
       "\n",
       "    .dataframe thead th {\n",
       "        text-align: right;\n",
       "    }\n",
       "</style>\n",
       "<table border=\"1\" class=\"dataframe\">\n",
       "  <thead>\n",
       "    <tr style=\"text-align: right;\">\n",
       "      <th></th>\n",
       "      <th>id</th>\n",
       "      <th>title</th>\n",
       "      <th>AllGenres</th>\n",
       "      <th>AllKeywords</th>\n",
       "    </tr>\n",
       "  </thead>\n",
       "  <tbody>\n",
       "    <tr>\n",
       "      <th>0</th>\n",
       "      <td>862</td>\n",
       "      <td>Toy Story</td>\n",
       "      <td>Animation,Comedy,Family</td>\n",
       "      <td>friendship,new toy,rivalry,boy</td>\n",
       "    </tr>\n",
       "    <tr>\n",
       "      <th>1</th>\n",
       "      <td>8844</td>\n",
       "      <td>Jumanji</td>\n",
       "      <td>Adventure,Fantasy,Family</td>\n",
       "      <td></td>\n",
       "    </tr>\n",
       "    <tr>\n",
       "      <th>2</th>\n",
       "      <td>15602</td>\n",
       "      <td>Grumpier Old Men</td>\n",
       "      <td>Romance,Comedy</td>\n",
       "      <td>fishing,best friend,duringcreditsstinger,old men</td>\n",
       "    </tr>\n",
       "    <tr>\n",
       "      <th>3</th>\n",
       "      <td>31357</td>\n",
       "      <td>Waiting to Exhale</td>\n",
       "      <td>Comedy,Drama,Romance</td>\n",
       "      <td>interracial relationship,based on novel,single...</td>\n",
       "    </tr>\n",
       "    <tr>\n",
       "      <th>4</th>\n",
       "      <td>11862</td>\n",
       "      <td>Father of the Bride Part II</td>\n",
       "      <td>Comedy</td>\n",
       "      <td>baby,aging,mother daughter relationship,gyneco...</td>\n",
       "    </tr>\n",
       "  </tbody>\n",
       "</table>\n",
       "</div>"
      ],
      "text/plain": [
       "      id                        title                 AllGenres  \\\n",
       "0    862                    Toy Story   Animation,Comedy,Family   \n",
       "1   8844                      Jumanji  Adventure,Fantasy,Family   \n",
       "2  15602             Grumpier Old Men            Romance,Comedy   \n",
       "3  31357            Waiting to Exhale      Comedy,Drama,Romance   \n",
       "4  11862  Father of the Bride Part II                    Comedy   \n",
       "\n",
       "                                         AllKeywords  \n",
       "0                     friendship,new toy,rivalry,boy  \n",
       "1                                                     \n",
       "2   fishing,best friend,duringcreditsstinger,old men  \n",
       "3  interracial relationship,based on novel,single...  \n",
       "4  baby,aging,mother daughter relationship,gyneco...  "
      ]
     },
     "execution_count": 25,
     "metadata": {},
     "output_type": "execute_result"
    }
   ],
   "source": [
    "movies_with_keywords = pd.merge(movies_with_keywords, keywords, on='id', how='inner')\n",
    "movies_with_keywords.drop(['keywords', ], axis=1, inplace=True)\n",
    "movies_with_keywords.head()"
   ]
  },
  {
   "cell_type": "code",
   "execution_count": 26,
   "id": "3a62271c122e535a",
   "metadata": {
    "ExecuteTime": {
     "end_time": "2024-04-30T04:39:24.527613800Z",
     "start_time": "2024-04-30T04:39:24.511612600Z"
    },
    "collapsed": false,
    "metadata": {}
   },
   "outputs": [
    {
     "data": {
      "text/plain": [
       "46415"
      ]
     },
     "execution_count": 26,
     "metadata": {},
     "output_type": "execute_result"
    }
   ],
   "source": [
    "movies_with_keywords.shape[0]"
   ]
  },
  {
   "cell_type": "code",
   "execution_count": 27,
   "id": "e3e3cac99195d45d",
   "metadata": {
    "ExecuteTime": {
     "end_time": "2024-04-30T04:39:28.837366Z",
     "start_time": "2024-04-30T04:39:28.806358Z"
    },
    "collapsed": false,
    "metadata": {}
   },
   "outputs": [
    {
     "data": {
      "text/plain": [
       "id             0\n",
       "title          0\n",
       "AllGenres      0\n",
       "AllKeywords    0\n",
       "dtype: int64"
      ]
     },
     "execution_count": 27,
     "metadata": {},
     "output_type": "execute_result"
    }
   ],
   "source": [
    "movies_with_keywords.isnull().sum().sort_values()"
   ]
  },
  {
   "cell_type": "code",
   "execution_count": 28,
   "id": "e037774482d6fd45",
   "metadata": {
    "ExecuteTime": {
     "end_time": "2024-04-30T04:39:29.973541500Z",
     "start_time": "2024-04-30T04:39:29.931549100Z"
    },
    "collapsed": false,
    "metadata": {}
   },
   "outputs": [
    {
     "data": {
      "text/plain": [
       "986"
      ]
     },
     "execution_count": 28,
     "metadata": {},
     "output_type": "execute_result"
    }
   ],
   "source": [
    "movies_with_keywords.duplicated(subset=['id', ]).sum()"
   ]
  },
  {
   "cell_type": "code",
   "execution_count": 29,
   "id": "f07e7812ed32ee48",
   "metadata": {
    "ExecuteTime": {
     "end_time": "2024-04-30T04:39:34.065151800Z",
     "start_time": "2024-04-30T04:39:34.027133700Z"
    },
    "collapsed": false,
    "metadata": {}
   },
   "outputs": [
    {
     "data": {
      "text/plain": [
       "0"
      ]
     },
     "execution_count": 29,
     "metadata": {},
     "output_type": "execute_result"
    }
   ],
   "source": [
    "movies_with_keywords = movies_with_keywords.drop_duplicates(subset=['id', ])\n",
    "movies_with_keywords.duplicated(subset=['id', ]).sum()"
   ]
  },
  {
   "cell_type": "code",
   "execution_count": 30,
   "id": "f34cb9ef66036266",
   "metadata": {
    "ExecuteTime": {
     "end_time": "2024-04-30T04:39:35.022723100Z",
     "start_time": "2024-04-30T04:39:34.989203600Z"
    },
    "collapsed": false,
    "metadata": {}
   },
   "outputs": [
    {
     "data": {
      "text/plain": [
       "45429"
      ]
     },
     "execution_count": 30,
     "metadata": {},
     "output_type": "execute_result"
    }
   ],
   "source": [
    "movies_with_keywords.shape[0]"
   ]
  },
  {
   "cell_type": "markdown",
   "id": "23f6ca3339dc308f",
   "metadata": {
    "collapsed": false
   },
   "source": [
    "## Now process ratings"
   ]
  },
  {
   "cell_type": "code",
   "execution_count": 31,
   "id": "c57391670fd0e7ba",
   "metadata": {
    "ExecuteTime": {
     "end_time": "2024-04-30T04:39:48.678242500Z",
     "start_time": "2024-04-30T04:39:48.624042400Z"
    },
    "collapsed": false,
    "metadata": {}
   },
   "outputs": [
    {
     "name": "stdout",
     "output_type": "stream",
     "text": [
      "<class 'pandas.core.frame.DataFrame'>\n",
      "RangeIndex: 100004 entries, 0 to 100003\n",
      "Data columns (total 4 columns):\n",
      " #   Column     Non-Null Count   Dtype  \n",
      "---  ------     --------------   -----  \n",
      " 0   userId     100004 non-null  int64  \n",
      " 1   movieId    100004 non-null  object \n",
      " 2   rating     100004 non-null  float64\n",
      " 3   timestamp  100004 non-null  int64  \n",
      "dtypes: float64(1), int64(2), object(1)\n",
      "memory usage: 3.1+ MB\n"
     ]
    }
   ],
   "source": [
    "ratings.info()"
   ]
  },
  {
   "cell_type": "code",
   "execution_count": 32,
   "id": "12008990a76c264b",
   "metadata": {
    "ExecuteTime": {
     "end_time": "2024-04-30T04:39:53.950021Z",
     "start_time": "2024-04-30T04:39:53.916486300Z"
    },
    "collapsed": false,
    "metadata": {}
   },
   "outputs": [
    {
     "data": {
      "text/plain": [
       "userId       0\n",
       "movieId      0\n",
       "rating       0\n",
       "timestamp    0\n",
       "dtype: int64"
      ]
     },
     "execution_count": 32,
     "metadata": {},
     "output_type": "execute_result"
    }
   ],
   "source": [
    "ratings.isnull().sum().sort_values()"
   ]
  },
  {
   "cell_type": "code",
   "execution_count": 33,
   "id": "69bd632153b9c26a",
   "metadata": {
    "ExecuteTime": {
     "end_time": "2024-04-30T04:39:54.906741900Z",
     "start_time": "2024-04-30T04:39:54.849524400Z"
    },
    "collapsed": false,
    "metadata": {}
   },
   "outputs": [
    {
     "data": {
      "text/plain": [
       "0"
      ]
     },
     "execution_count": 33,
     "metadata": {},
     "output_type": "execute_result"
    }
   ],
   "source": [
    "ratings.duplicated(subset=['userId', 'movieId']).sum()"
   ]
  },
  {
   "cell_type": "markdown",
   "id": "1852d3feb81be77d",
   "metadata": {
    "collapsed": false
   },
   "source": [
    "## Now I have all the movies with keywords\n",
    "### Create some small datasets\n",
    "#### 1. selected ratings + rated movies = recommendations with history"
   ]
  },
  {
   "cell_type": "code",
   "execution_count": 34,
   "id": "5b7a83e9e5b1657f",
   "metadata": {
    "ExecuteTime": {
     "end_time": "2024-04-30T04:45:35.975169100Z",
     "start_time": "2024-04-30T04:45:35.931499500Z"
    },
    "collapsed": false,
    "metadata": {}
   },
   "outputs": [
    {
     "data": {
      "text/plain": [
       "45429"
      ]
     },
     "execution_count": 34,
     "metadata": {},
     "output_type": "execute_result"
    }
   ],
   "source": [
    "unique_movie_id_keywords = movies_with_keywords['id'].unique().tolist()\n",
    "len(unique_movie_id_keywords)"
   ]
  },
  {
   "cell_type": "code",
   "execution_count": 35,
   "id": "248acf25e5e9d67",
   "metadata": {
    "ExecuteTime": {
     "end_time": "2024-04-30T04:47:36.627352800Z",
     "start_time": "2024-04-30T04:47:36.570987Z"
    },
    "collapsed": false,
    "metadata": {}
   },
   "outputs": [
    {
     "name": "stdout",
     "output_type": "stream",
     "text": [
      "44989\n"
     ]
    },
    {
     "data": {
      "text/html": [
       "<div>\n",
       "<style scoped>\n",
       "    .dataframe tbody tr th:only-of-type {\n",
       "        vertical-align: middle;\n",
       "    }\n",
       "\n",
       "    .dataframe tbody tr th {\n",
       "        vertical-align: top;\n",
       "    }\n",
       "\n",
       "    .dataframe thead th {\n",
       "        text-align: right;\n",
       "    }\n",
       "</style>\n",
       "<table border=\"1\" class=\"dataframe\">\n",
       "  <thead>\n",
       "    <tr style=\"text-align: right;\">\n",
       "      <th></th>\n",
       "      <th>userId</th>\n",
       "      <th>movieId</th>\n",
       "      <th>rating</th>\n",
       "      <th>timestamp</th>\n",
       "    </tr>\n",
       "  </thead>\n",
       "  <tbody>\n",
       "    <tr>\n",
       "      <th>0</th>\n",
       "      <td>1</td>\n",
       "      <td>1371</td>\n",
       "      <td>2.5</td>\n",
       "      <td>1260759135</td>\n",
       "    </tr>\n",
       "    <tr>\n",
       "      <th>1</th>\n",
       "      <td>1</td>\n",
       "      <td>1405</td>\n",
       "      <td>1.0</td>\n",
       "      <td>1260759203</td>\n",
       "    </tr>\n",
       "    <tr>\n",
       "      <th>2</th>\n",
       "      <td>1</td>\n",
       "      <td>2105</td>\n",
       "      <td>4.0</td>\n",
       "      <td>1260759139</td>\n",
       "    </tr>\n",
       "    <tr>\n",
       "      <th>3</th>\n",
       "      <td>1</td>\n",
       "      <td>2193</td>\n",
       "      <td>2.0</td>\n",
       "      <td>1260759198</td>\n",
       "    </tr>\n",
       "    <tr>\n",
       "      <th>4</th>\n",
       "      <td>1</td>\n",
       "      <td>2294</td>\n",
       "      <td>2.0</td>\n",
       "      <td>1260759108</td>\n",
       "    </tr>\n",
       "  </tbody>\n",
       "</table>\n",
       "</div>"
      ],
      "text/plain": [
       "   userId movieId  rating   timestamp\n",
       "0       1    1371     2.5  1260759135\n",
       "1       1    1405     1.0  1260759203\n",
       "2       1    2105     4.0  1260759139\n",
       "3       1    2193     2.0  1260759198\n",
       "4       1    2294     2.0  1260759108"
      ]
     },
     "execution_count": 35,
     "metadata": {},
     "output_type": "execute_result"
    }
   ],
   "source": [
    "ratings_for_history = ratings[ratings['movieId'].isin(unique_movie_id_keywords)]\n",
    "ratings_for_history = ratings_for_history.reset_index(drop=True)\n",
    "print(ratings_for_history.shape[0])\n",
    "ratings_for_history.head()"
   ]
  },
  {
   "cell_type": "markdown",
   "id": "b453c249b3aa4295",
   "metadata": {
    "collapsed": false
   },
   "source": [
    "#### 2. Create a subset of movies with keywords\n",
    "#### Also the corresponding ratings"
   ]
  },
  {
   "cell_type": "code",
   "execution_count": 36,
   "id": "3e5e09ee944e44f4",
   "metadata": {
    "ExecuteTime": {
     "end_time": "2024-04-30T04:50:02.205180500Z",
     "start_time": "2024-04-30T04:50:02.163092600Z"
    },
    "collapsed": false,
    "metadata": {}
   },
   "outputs": [
    {
     "data": {
      "text/html": [
       "<div>\n",
       "<style scoped>\n",
       "    .dataframe tbody tr th:only-of-type {\n",
       "        vertical-align: middle;\n",
       "    }\n",
       "\n",
       "    .dataframe tbody tr th {\n",
       "        vertical-align: top;\n",
       "    }\n",
       "\n",
       "    .dataframe thead th {\n",
       "        text-align: right;\n",
       "    }\n",
       "</style>\n",
       "<table border=\"1\" class=\"dataframe\">\n",
       "  <thead>\n",
       "    <tr style=\"text-align: right;\">\n",
       "      <th></th>\n",
       "      <th>id</th>\n",
       "      <th>title</th>\n",
       "      <th>AllGenres</th>\n",
       "      <th>AllKeywords</th>\n",
       "    </tr>\n",
       "  </thead>\n",
       "  <tbody>\n",
       "    <tr>\n",
       "      <th>0</th>\n",
       "      <td>11860</td>\n",
       "      <td>Sabrina</td>\n",
       "      <td>Comedy,Romance</td>\n",
       "      <td>millionaire,fusion,long island,paris</td>\n",
       "    </tr>\n",
       "    <tr>\n",
       "      <th>1</th>\n",
       "      <td>5</td>\n",
       "      <td>Four Rooms</td>\n",
       "      <td>Crime,Comedy</td>\n",
       "      <td></td>\n",
       "    </tr>\n",
       "    <tr>\n",
       "      <th>2</th>\n",
       "      <td>451</td>\n",
       "      <td>Leaving Las Vegas</td>\n",
       "      <td>Drama,Romance</td>\n",
       "      <td>individual,los angeles,prostitute,attempted su...</td>\n",
       "    </tr>\n",
       "    <tr>\n",
       "      <th>3</th>\n",
       "      <td>9263</td>\n",
       "      <td>Now and Then</td>\n",
       "      <td>Comedy,Drama,Family</td>\n",
       "      <td>gynecologist,female friendship,photocopier,wom...</td>\n",
       "    </tr>\n",
       "    <tr>\n",
       "      <th>4</th>\n",
       "      <td>17015</td>\n",
       "      <td>Persuasion</td>\n",
       "      <td>Drama,Romance</td>\n",
       "      <td>captain,napoleonic wars,old flame,admiral</td>\n",
       "    </tr>\n",
       "  </tbody>\n",
       "</table>\n",
       "</div>"
      ],
      "text/plain": [
       "      id              title            AllGenres  \\\n",
       "0  11860            Sabrina       Comedy,Romance   \n",
       "1      5         Four Rooms         Crime,Comedy   \n",
       "2    451  Leaving Las Vegas        Drama,Romance   \n",
       "3   9263       Now and Then  Comedy,Drama,Family   \n",
       "4  17015         Persuasion        Drama,Romance   \n",
       "\n",
       "                                         AllKeywords  \n",
       "0               millionaire,fusion,long island,paris  \n",
       "1                                                     \n",
       "2  individual,los angeles,prostitute,attempted su...  \n",
       "3  gynecologist,female friendship,photocopier,wom...  \n",
       "4          captain,napoleonic wars,old flame,admiral  "
      ]
     },
     "execution_count": 36,
     "metadata": {},
     "output_type": "execute_result"
    }
   ],
   "source": [
    "sample_ids = np.random.choice(unique_movie_id_keywords, size=5000, replace=False)\n",
    "movies_5000 = movies_with_keywords[movies_with_keywords['id'].isin(sample_ids)]\n",
    "movies_5000 = movies_5000.reset_index(drop=True)\n",
    "movies_5000.head()"
   ]
  },
  {
   "cell_type": "code",
   "execution_count": 37,
   "id": "da4324a2de91b0ed",
   "metadata": {
    "ExecuteTime": {
     "end_time": "2024-04-30T04:52:36.014673800Z",
     "start_time": "2024-04-30T04:52:35.955743300Z"
    },
    "collapsed": false,
    "metadata": {}
   },
   "outputs": [
    {
     "name": "stdout",
     "output_type": "stream",
     "text": [
      "4371\n"
     ]
    },
    {
     "data": {
      "text/html": [
       "<div>\n",
       "<style scoped>\n",
       "    .dataframe tbody tr th:only-of-type {\n",
       "        vertical-align: middle;\n",
       "    }\n",
       "\n",
       "    .dataframe tbody tr th {\n",
       "        vertical-align: top;\n",
       "    }\n",
       "\n",
       "    .dataframe thead th {\n",
       "        text-align: right;\n",
       "    }\n",
       "</style>\n",
       "<table border=\"1\" class=\"dataframe\">\n",
       "  <thead>\n",
       "    <tr style=\"text-align: right;\">\n",
       "      <th></th>\n",
       "      <th>userId</th>\n",
       "      <th>movieId</th>\n",
       "      <th>rating</th>\n",
       "      <th>timestamp</th>\n",
       "    </tr>\n",
       "  </thead>\n",
       "  <tbody>\n",
       "    <tr>\n",
       "      <th>0</th>\n",
       "      <td>1</td>\n",
       "      <td>1371</td>\n",
       "      <td>2.5</td>\n",
       "      <td>1260759135</td>\n",
       "    </tr>\n",
       "    <tr>\n",
       "      <th>1</th>\n",
       "      <td>2</td>\n",
       "      <td>17</td>\n",
       "      <td>5.0</td>\n",
       "      <td>835355681</td>\n",
       "    </tr>\n",
       "    <tr>\n",
       "      <th>2</th>\n",
       "      <td>2</td>\n",
       "      <td>144</td>\n",
       "      <td>3.0</td>\n",
       "      <td>835356016</td>\n",
       "    </tr>\n",
       "    <tr>\n",
       "      <th>3</th>\n",
       "      <td>2</td>\n",
       "      <td>248</td>\n",
       "      <td>3.0</td>\n",
       "      <td>835355896</td>\n",
       "    </tr>\n",
       "    <tr>\n",
       "      <th>4</th>\n",
       "      <td>2</td>\n",
       "      <td>265</td>\n",
       "      <td>5.0</td>\n",
       "      <td>835355697</td>\n",
       "    </tr>\n",
       "  </tbody>\n",
       "</table>\n",
       "</div>"
      ],
      "text/plain": [
       "   userId movieId  rating   timestamp\n",
       "0       1    1371     2.5  1260759135\n",
       "1       2      17     5.0   835355681\n",
       "2       2     144     3.0   835356016\n",
       "3       2     248     3.0   835355896\n",
       "4       2     265     5.0   835355697"
      ]
     },
     "execution_count": 37,
     "metadata": {},
     "output_type": "execute_result"
    }
   ],
   "source": [
    "ratings_for_history_small = ratings[ratings['movieId'].isin(sample_ids)]\n",
    "ratings_for_history_small = ratings_for_history_small.reset_index(drop=True)\n",
    "print(ratings_for_history_small.shape[0])\n",
    "ratings_for_history_small.head()"
   ]
  },
  {
   "cell_type": "markdown",
   "id": "fa10b4d32ee4e0f0",
   "metadata": {
    "collapsed": false
   },
   "source": [
    "### Export those datasets"
   ]
  },
  {
   "cell_type": "code",
   "execution_count": 38,
   "id": "e8dbcfc15fc1fc8a",
   "metadata": {
    "ExecuteTime": {
     "end_time": "2024-04-30T04:54:44.427597700Z",
     "start_time": "2024-04-30T04:54:44.223411200Z"
    },
    "collapsed": false,
    "metadata": {}
   },
   "outputs": [],
   "source": [
    "movies_with_keywords.to_csv('data/kaggle_movie/movies_with_keywords.csv', index=False)\n",
    "movies_5000.to_csv('data/kaggle_movie/movies_5000.csv', index=False)\n",
    "ratings_for_history.to_csv('data/kaggle_movie/ratings_for_history.csv', index=False)\n",
    "ratings_for_history_small.to_csv('data/kaggle_movie/ratings_for_history_small.csv', index=False)"
   ]
  },
  {
   "cell_type": "code",
   "execution_count": null,
   "id": "92740b1508a4ce58",
   "metadata": {
    "collapsed": false
   },
   "outputs": [],
   "source": []
  }
 ],
 "metadata": {
  "kernelspec": {
   "display_name": "Python 3",
   "language": "python",
   "name": "python3"
  },
  "language_info": {
   "codemirror_mode": {
    "name": "ipython",
    "version": 3
   },
   "file_extension": ".py",
   "mimetype": "text/x-python",
   "name": "python",
   "nbconvert_exporter": "python",
   "pygments_lexer": "ipython3",
   "version": "3.10.12"
  }
 },
 "nbformat": 4,
 "nbformat_minor": 5
}
